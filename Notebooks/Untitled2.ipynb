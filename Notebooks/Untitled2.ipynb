{
  "nbformat": 4,
  "nbformat_minor": 0,
  "metadata": {
    "colab": {
      "provenance": []
    },
    "kernelspec": {
      "name": "python3",
      "display_name": "Python 3"
    },
    "language_info": {
      "name": "python"
    }
  },
  "cells": [
    {
      "cell_type": "code",
      "execution_count": 1,
      "metadata": {
        "colab": {
          "base_uri": "https://localhost:8080/"
        },
        "id": "1iyAM8jnsjoV",
        "outputId": "cbcb9587-2292-4ff6-ed3c-5594753a62de"
      },
      "outputs": [
        {
          "output_type": "stream",
          "name": "stdout",
          "text": [
            "/content/deep-learning\n"
          ]
        }
      ],
      "source": [
        "# !git clone https://github.com/RockatanskyV8/deep-learning.git\n",
        "%cd deep-learning"
      ]
    },
    {
      "cell_type": "code",
      "source": [
        "!git pull"
      ],
      "metadata": {
        "colab": {
          "base_uri": "https://localhost:8080/"
        },
        "id": "ookCMEShslOn",
        "outputId": "064d977e-80bb-4c52-8eb2-2339eab46aa0"
      },
      "execution_count": 2,
      "outputs": [
        {
          "output_type": "stream",
          "name": "stdout",
          "text": [
            "Already up to date.\n"
          ]
        }
      ]
    },
    {
      "cell_type": "code",
      "source": [
        "import pandas as pd\n",
        "import numpy as np\n",
        "import torch.optim as optim\n",
        "from datetime import datetime\n",
        "import random\n",
        "\n",
        "from Plots  import *\n",
        "from Modelos  import *\n",
        "\n",
        "from Treinamento import Treinamento\n",
        "import itertools"
      ],
      "metadata": {
        "id": "NgCDaoJQsk_m"
      },
      "execution_count": 3,
      "outputs": []
    },
    {
      "cell_type": "code",
      "source": [
        "class Regressor():\n",
        "    def __init__(self, dataset,  \n",
        "                 batch_sizes    = [], \n",
        "                 learning_rates = [], \n",
        "                 weight_decays  = [], \n",
        "                 prob_desligar  = [],\n",
        "                 neuronios      = [],\n",
        "                 layers         = [],\n",
        "                 epochs = 2000, early_stopping_epochs = 60):\n",
        "      \n",
        "        self.dataset               = dataset\n",
        "\n",
        "        self.epochs                = epochs\n",
        "        self.early_stopping_epochs = early_stopping_epochs\n",
        "\n",
        "        self.batch_sizes           = batch_sizes\n",
        "        self.learning_rates        = learning_rates\n",
        "        self.weight_decays         = weight_decays\n",
        "        self.prob_desligar         = prob_desligar\n",
        "        self.neuronios             = neuronios\n",
        "        self.layers                = layers\n",
        "\n",
        "    def model_generator(self, neuronios, layers, prob, input_size = 3, output_size = 2):\n",
        "        camadas = []\n",
        "        for i in range(0, layers):\n",
        "            if(int(neuronios/2**i) > 0):\n",
        "              c = Camada( int(neuronios/2**i), nn.ReLU(), nn.Dropout(prob) )\n",
        "              camadas.append(c)\n",
        "\n",
        "        camadas.append(  Camada( output_size, nn.Softmax(dim=-1) ) )\n",
        "        return GeradorRede(input_size, camadas)\n",
        "\n",
        "    def regressao(self, criterion, best_model_path, best_global_model = None, input_size = 3):\n",
        "        start = datetime.now()\n",
        "        current_valid_loss = 0\n",
        "        best_valid_loss = np.Inf\n",
        "        total_accuracy = 0\n",
        "\n",
        "        best_model = GeradorRede(input_size, [])\n",
        "\n",
        "        for values in itertools.product(self.neuronios, self.learning_rates, self.batch_sizes, self.weight_decays, self.prob_desligar):\n",
        "\n",
        "          tries_without_improv = 0\n",
        "\n",
        "          for layers in self.layers:\n",
        "            neuronios       = values[0]\n",
        "            learning_rate   = values[1]\n",
        "            batch_size      = values[2]\n",
        "            wd              = values[3]\n",
        "            p               = values[4]\n",
        "\n",
        "            if tries_without_improv >= round(layers / 3 + 0.5):\n",
        "                print(f'----------Tentativas sem melhora: {tries_without_improv}, Desligando...')\n",
        "                break\n",
        "            \n",
        "            print(f'----------\\nCamadas: {layers}')\n",
        "            print(f'----------Learning rate: {learning_rate} ; Batch size: {batch_size}')\n",
        "            print(f'Weight Decay: {wd} ; Probabilidades de desligamento:{p}\\n----------\\n')\n",
        "\n",
        "            model = self.model_generator(neuronios, layers, p, input_size)\n",
        "\n",
        "            if (best_global_model is not None):\n",
        "              model.load_state_dict(torch.load(best_global_model))\n",
        "\n",
        "            optimizer = optim.Adam(model.parameters(), lr=learning_rate, weight_decay=wd)\n",
        "\n",
        "            t = Treinamento(self.dataset, self.epochs, batch_size, self.early_stopping_epochs)\n",
        "            model, train_loss, valid_loss = t.train_linear(model, optimizer, criterion)\n",
        "\n",
        "            p = Plots()\n",
        "            acc = p.get_accuracy(model, \n",
        "                                 torch.from_numpy(t.X_test), \n",
        "                                 torch.from_numpy(t.y_test.to_numpy()))\n",
        "\n",
        "            lss = p.get_loss(model, \n",
        "                             torch.from_numpy(t.X_test), \n",
        "                             torch.from_numpy(t.y_test.to_numpy()), \n",
        "                             criterion)\n",
        "            \n",
        "            current_valid_loss = min(valid_loss)\n",
        "            if current_valid_loss < best_valid_loss and total_accuracy < acc:\n",
        "                torch.save(model.state_dict(), best_model_path)\n",
        "                best_valid_loss = current_valid_loss\n",
        "                total_accuracy = acc\n",
        "                best_model = model\n",
        "                print('--------------------------------------------------------- New best global model found! ---------------------------------------------------------')\n",
        "\n",
        "                print(model)\n",
        "                print(f'\\nValidation loss: {current_valid_loss}\\n')\n",
        "                print(f'Accuracy: {acc}\\n')\n",
        "                print(f'Loss: {lss}\\n')\n",
        "            else:\n",
        "              tries_without_improv += 1\n",
        "\n",
        "            \n",
        "\n",
        "          end = datetime.now()\n",
        "          print(f'\\n\\n\\n--------------------\\nTotal training time: {end - start}')\n",
        "\n",
        "        return best_valid_loss, total_accuracy, best_model\n"
      ],
      "metadata": {
        "id": "HW-0W5H9sk6B"
      },
      "execution_count": 4,
      "outputs": []
    },
    {
      "cell_type": "markdown",
      "source": [
        "caso essa seja a chamada do método `model_generator( 500, 5, .5)`\n",
        "\n",
        "esse será o modelo criado\n",
        "```\n",
        "GeradorRede(\n",
        "  (layers): ModuleList(\n",
        "    (0): Linear(in_features=3, out_features=500, bias=True)\n",
        "    (1): ReLU()\n",
        "    (2): Dropout(p=0.5, inplace=False)\n",
        "    (3): Linear(in_features=500, out_features=250, bias=True)\n",
        "    (4): ReLU()\n",
        "    (5): Dropout(p=0.5, inplace=False)\n",
        "    (6): Linear(in_features=250, out_features=125, bias=True)\n",
        "    (7): ReLU()\n",
        "    (8): Dropout(p=0.5, inplace=False)\n",
        "    (9): Linear(in_features=125, out_features=62, bias=True)\n",
        "    (10): ReLU()\n",
        "    (11): Dropout(p=0.5, inplace=False)\n",
        "    (12): Linear(in_features=62, out_features=31, bias=True)\n",
        "    (13): ReLU()\n",
        "    (14): Dropout(p=0.5, inplace=False)\n",
        "    (15): Linear(in_features=31, out_features=2, bias=True)\n",
        "    (16): Softmax(dim=-1)\n",
        "  )\n",
        ")\n",
        "```"
      ],
      "metadata": {
        "id": "r7pfvyVa3xwE"
      }
    },
    {
      "cell_type": "code",
      "source": [
        "def run_models(dataset, input_features, best_model_path,\n",
        "               num_neuronios = [], probs_desligar = [], weight_decays = [],\n",
        "               num_layers = [], learning_rates = [], run_batch_sizes = [],\n",
        "               run_epochs = 2000,\n",
        "               run_early_stopping_epochs = 60,\n",
        "               best_global_model = None):\n",
        "\n",
        "  runner = Regressor(dataset,\n",
        "                     learning_rates = learning_rates,\n",
        "                     weight_decays  = weight_decays,\n",
        "                     prob_desligar  = probs_desligar,\n",
        "                     neuronios      = num_neuronios,\n",
        "                     layers         = num_layers,\n",
        "                     epochs = run_epochs,\n",
        "                     batch_sizes = run_batch_sizes,\n",
        "                     early_stopping_epochs = run_early_stopping_epochs )\n",
        "  \n",
        "  criterion = nn.CrossEntropyLoss()\n",
        "  \n",
        "  return runner.regressao(criterion, best_model_path, best_global_model) \n"
      ],
      "metadata": {
        "id": "PXfqMg_8sk2y"
      },
      "execution_count": 5,
      "outputs": []
    },
    {
      "cell_type": "code",
      "source": [
        "df = pd.read_csv('df_points.txt', sep='\\t', index_col=[0])"
      ],
      "metadata": {
        "id": "cD5xvLdH7bAX"
      },
      "execution_count": 6,
      "outputs": []
    },
    {
      "cell_type": "markdown",
      "source": [
        "# Tentativa 1"
      ],
      "metadata": {
        "id": "k197SdOu_gBw"
      }
    },
    {
      "cell_type": "code",
      "source": [
        "best_valid_loss, total_accuracy, best_model = run_models(df, 3, '../atp1',\n",
        "            num_neuronios= [96, 112, 128, 144, 160], \n",
        "            probs_desligar= [.5, .25, .125, .062], \n",
        "            weight_decays= [1e-7, 1e-6, 1e-5, 1e-4],\n",
        "            num_layers = [5, 6, 7, 8, 9],\n",
        "            learning_rates = [0.9, 0.5], \n",
        "            run_batch_sizes = [100, 120],\n",
        "            run_epochs = 2000,\n",
        "            run_early_stopping_epochs = 75\n",
        "            )"
      ],
      "metadata": {
        "colab": {
          "base_uri": "https://localhost:8080/",
          "height": 1000
        },
        "id": "kaGYe6UAsk0F",
        "outputId": "f06ccd5a-5487-4b0b-aa7a-5a542e613d2f"
      },
      "execution_count": 7,
      "outputs": [
        {
          "output_type": "stream",
          "name": "stdout",
          "text": [
            "----------\n",
            "Camadas: 5\n",
            "----------Learning rate: 0.9 ; Batch size: 100\n",
            "Weight Decay: 1e-07 ; Probabilidades de desligamento:0.5\n",
            "----------\n",
            "\n"
          ]
        },
        {
          "output_type": "stream",
          "name": "stderr",
          "text": [
            "  7%|▋         | 137/2000 [00:36<08:21,  3.72it/s]\n"
          ]
        },
        {
          "output_type": "stream",
          "name": "stdout",
          "text": [
            "Training interrupted by early stopping!\n",
            "Total epochs run: 138\n",
            "Best model found at epoch 62 with valid loss 10.628925800323486 and training loss 56.37830060720444\n",
            "Total training time: 0:00:36.871933\n",
            "--------------------------------------------------------- New best global model found! ---------------------------------------------------------\n",
            "GeradorRede(\n",
            "  (layers): ModuleList(\n",
            "    (0): Linear(in_features=3, out_features=96, bias=True)\n",
            "    (1): ReLU()\n",
            "    (2): Dropout(p=0.5, inplace=False)\n",
            "    (3): Linear(in_features=96, out_features=48, bias=True)\n",
            "    (4): ReLU()\n",
            "    (5): Dropout(p=0.5, inplace=False)\n",
            "    (6): Linear(in_features=48, out_features=24, bias=True)\n",
            "    (7): ReLU()\n",
            "    (8): Dropout(p=0.5, inplace=False)\n",
            "    (9): Linear(in_features=24, out_features=12, bias=True)\n",
            "    (10): ReLU()\n",
            "    (11): Dropout(p=0.5, inplace=False)\n",
            "    (12): Linear(in_features=12, out_features=6, bias=True)\n",
            "    (13): ReLU()\n",
            "    (14): Dropout(p=0.5, inplace=False)\n",
            "    (15): Linear(in_features=6, out_features=2, bias=True)\n",
            "    (16): Softmax(dim=-1)\n",
            "  )\n",
            ")\n",
            "\n",
            "Validation loss: 10.628925800323486\n",
            "\n",
            "Accuracy: 0.574\n",
            "\n",
            "Loss: 0.7392616271972656\n",
            "\n",
            "----------\n",
            "Camadas: 6\n",
            "----------Learning rate: 0.9 ; Batch size: 100\n",
            "Weight Decay: 1e-07 ; Probabilidades de desligamento:0.5\n",
            "----------\n",
            "\n"
          ]
        },
        {
          "output_type": "stream",
          "name": "stderr",
          "text": [
            "  4%|▍         | 82/2000 [00:21<08:13,  3.88it/s]\n"
          ]
        },
        {
          "output_type": "stream",
          "name": "stdout",
          "text": [
            "Training interrupted by early stopping!\n",
            "Total epochs run: 83\n",
            "Best model found at epoch 7 with valid loss 12.15892630815506 and training loss 54.698762118816376\n",
            "Total training time: 0:00:21.124430\n",
            "----------\n",
            "Camadas: 7\n",
            "----------Learning rate: 0.9 ; Batch size: 100\n",
            "Weight Decay: 1e-07 ; Probabilidades de desligamento:0.5\n",
            "----------\n",
            "\n"
          ]
        },
        {
          "output_type": "stream",
          "name": "stderr",
          "text": [
            "  9%|▊         | 173/2000 [00:48<08:36,  3.54it/s]\n"
          ]
        },
        {
          "output_type": "stream",
          "name": "stdout",
          "text": [
            "Training interrupted by early stopping!\n",
            "Total epochs run: 174\n",
            "Best model found at epoch 98 with valid loss 10.398434221744537 and training loss 48.97208446264267\n",
            "Total training time: 0:00:48.937074\n",
            "----------\n",
            "Camadas: 8\n",
            "----------Learning rate: 0.9 ; Batch size: 100\n",
            "Weight Decay: 1e-07 ; Probabilidades de desligamento:0.5\n",
            "----------\n",
            "\n"
          ]
        },
        {
          "output_type": "stream",
          "name": "stderr",
          "text": [
            " 12%|█▏        | 245/2000 [01:05<07:49,  3.74it/s]\n"
          ]
        },
        {
          "output_type": "stream",
          "name": "stdout",
          "text": [
            "Training interrupted by early stopping!\n",
            "Total epochs run: 246\n",
            "Best model found at epoch 170 with valid loss 10.398162066936493 and training loss 48.82458311319351\n",
            "Total training time: 0:01:05.605932\n",
            "----------\n",
            "Camadas: 9\n",
            "----------Learning rate: 0.9 ; Batch size: 100\n",
            "Weight Decay: 1e-07 ; Probabilidades de desligamento:0.5\n",
            "----------\n",
            "\n"
          ]
        },
        {
          "output_type": "stream",
          "name": "stderr",
          "text": [
            "  4%|▍         | 77/2000 [00:20<08:38,  3.71it/s]\n"
          ]
        },
        {
          "output_type": "stream",
          "name": "stdout",
          "text": [
            "Training interrupted by early stopping!\n",
            "Total epochs run: 78\n",
            "Best model found at epoch 2 with valid loss 10.503616154193878 and training loss 52.07716417312622\n",
            "Total training time: 0:00:20.764734\n",
            "\n",
            "\n",
            "\n",
            "--------------------\n",
            "Total training time: 0:03:15.968572\n",
            "----------\n",
            "Camadas: 5\n",
            "----------Learning rate: 0.9 ; Batch size: 100\n",
            "Weight Decay: 1e-07 ; Probabilidades de desligamento:0.25\n",
            "----------\n",
            "\n"
          ]
        },
        {
          "output_type": "stream",
          "name": "stderr",
          "text": [
            "  7%|▋         | 147/2000 [00:35<07:28,  4.13it/s]\n"
          ]
        },
        {
          "output_type": "stream",
          "name": "stdout",
          "text": [
            "Training interrupted by early stopping!\n",
            "Total epochs run: 148\n",
            "Best model found at epoch 72 with valid loss 10.398733675479889 and training loss 53.31889057159424\n",
            "Total training time: 0:00:35.585151\n",
            "----------\n",
            "Camadas: 6\n",
            "----------Learning rate: 0.9 ; Batch size: 100\n",
            "Weight Decay: 1e-07 ; Probabilidades de desligamento:0.25\n",
            "----------\n",
            "\n"
          ]
        },
        {
          "output_type": "stream",
          "name": "stderr",
          "text": [
            "  6%|▌         | 118/2000 [00:29<07:56,  3.95it/s]\n"
          ]
        },
        {
          "output_type": "stream",
          "name": "stdout",
          "text": [
            "Training interrupted by early stopping!\n",
            "Total epochs run: 119\n",
            "Best model found at epoch 43 with valid loss 10.39699524641037 and training loss 50.42152792215347\n",
            "Total training time: 0:00:29.896928\n",
            "----------\n",
            "Camadas: 7\n",
            "----------Learning rate: 0.9 ; Batch size: 100\n",
            "Weight Decay: 1e-07 ; Probabilidades de desligamento:0.25\n",
            "----------\n",
            "\n"
          ]
        },
        {
          "output_type": "stream",
          "name": "stderr",
          "text": [
            "  4%|▍         | 76/2000 [00:18<07:48,  4.10it/s]\n"
          ]
        },
        {
          "output_type": "stream",
          "name": "stdout",
          "text": [
            "Training interrupted by early stopping!\n",
            "Total epochs run: 77\n",
            "Best model found at epoch 1 with valid loss 10.400639057159424 and training loss 50.108985900878906\n",
            "Total training time: 0:00:18.535847\n",
            "----------Tentativas sem melhora: 3, Desligando...\n",
            "\n",
            "\n",
            "\n",
            "--------------------\n",
            "Total training time: 0:04:41.522224\n",
            "----------\n",
            "Camadas: 5\n",
            "----------Learning rate: 0.9 ; Batch size: 100\n",
            "Weight Decay: 1e-07 ; Probabilidades de desligamento:0.125\n",
            "----------\n",
            "\n"
          ]
        },
        {
          "output_type": "stream",
          "name": "stderr",
          "text": [
            "  5%|▌         | 104/2000 [00:26<08:03,  3.92it/s]\n"
          ]
        },
        {
          "output_type": "stream",
          "name": "stdout",
          "text": [
            "Training interrupted by early stopping!\n",
            "Total epochs run: 105\n",
            "Best model found at epoch 29 with valid loss 12.157651782035828 and training loss 57.22686326503754\n",
            "Total training time: 0:00:26.551925\n",
            "----------\n",
            "Camadas: 6\n",
            "----------Learning rate: 0.9 ; Batch size: 100\n",
            "Weight Decay: 1e-07 ; Probabilidades de desligamento:0.125\n",
            "----------\n",
            "\n"
          ]
        },
        {
          "output_type": "stream",
          "name": "stderr",
          "text": [
            "  7%|▋         | 145/2000 [00:31<06:46,  4.57it/s]\n"
          ]
        },
        {
          "output_type": "stream",
          "name": "stdout",
          "text": [
            "Training interrupted by early stopping!\n",
            "Total epochs run: 146\n",
            "Best model found at epoch 70 with valid loss 12.158924520015717 and training loss 56.73832368850708\n",
            "Total training time: 0:00:31.768065\n",
            "----------\n",
            "Camadas: 7\n",
            "----------Learning rate: 0.9 ; Batch size: 100\n",
            "Weight Decay: 1e-07 ; Probabilidades de desligamento:0.125\n",
            "----------\n",
            "\n"
          ]
        },
        {
          "output_type": "stream",
          "name": "stderr",
          "text": [
            " 13%|█▎        | 254/2000 [00:59<06:47,  4.29it/s]\n"
          ]
        },
        {
          "output_type": "stream",
          "name": "stdout",
          "text": [
            "Training interrupted by early stopping!\n",
            "Total epochs run: 255\n",
            "Best model found at epoch 179 with valid loss 10.39749789237976 and training loss 48.86794602870941\n",
            "Total training time: 0:00:59.262981\n",
            "----------Tentativas sem melhora: 3, Desligando...\n",
            "\n",
            "\n",
            "\n",
            "--------------------\n",
            "Total training time: 0:06:40.593986\n",
            "----------\n",
            "Camadas: 5\n",
            "----------Learning rate: 0.9 ; Batch size: 100\n",
            "Weight Decay: 1e-07 ; Probabilidades de desligamento:0.062\n",
            "----------\n",
            "\n"
          ]
        },
        {
          "output_type": "stream",
          "name": "stderr",
          "text": [
            "  4%|▍         | 83/2000 [00:21<08:16,  3.86it/s]\n"
          ]
        },
        {
          "output_type": "stream",
          "name": "stdout",
          "text": [
            "Training interrupted by early stopping!\n",
            "Total epochs run: 84\n",
            "Best model found at epoch 8 with valid loss 12.15892630815506 and training loss 56.71818524599075\n",
            "Total training time: 0:00:21.505036\n",
            "----------\n",
            "Camadas: 6\n",
            "----------Learning rate: 0.9 ; Batch size: 100\n",
            "Weight Decay: 1e-07 ; Probabilidades de desligamento:0.062\n",
            "----------\n",
            "\n"
          ]
        },
        {
          "output_type": "stream",
          "name": "stderr",
          "text": [
            "  4%|▍         | 77/2000 [00:19<08:07,  3.94it/s]\n"
          ]
        },
        {
          "output_type": "stream",
          "name": "stdout",
          "text": [
            "Training interrupted by early stopping!\n",
            "Total epochs run: 78\n",
            "Best model found at epoch 2 with valid loss 12.15892630815506 and training loss 57.05983752012253\n",
            "Total training time: 0:00:19.542359\n",
            "----------\n",
            "Camadas: 7\n",
            "----------Learning rate: 0.9 ; Batch size: 100\n",
            "Weight Decay: 1e-07 ; Probabilidades de desligamento:0.062\n",
            "----------\n",
            "\n"
          ]
        },
        {
          "output_type": "stream",
          "name": "stderr",
          "text": [
            "  6%|▌         | 112/2000 [00:35<10:02,  3.14it/s]\n"
          ]
        },
        {
          "output_type": "stream",
          "name": "stdout",
          "text": [
            "Training interrupted by early stopping!\n",
            "Total epochs run: 113\n",
            "Best model found at epoch 37 with valid loss 10.397010803222656 and training loss 49.728685557842255\n",
            "Total training time: 0:00:35.737333\n",
            "----------Tentativas sem melhora: 3, Desligando...\n",
            "\n",
            "\n",
            "\n",
            "--------------------\n",
            "Total training time: 0:07:58.920070\n",
            "----------\n",
            "Camadas: 5\n",
            "----------Learning rate: 0.9 ; Batch size: 100\n",
            "Weight Decay: 1e-06 ; Probabilidades de desligamento:0.5\n",
            "----------\n",
            "\n"
          ]
        },
        {
          "output_type": "stream",
          "name": "stderr",
          "text": [
            " 10%|▉         | 190/2000 [00:49<07:55,  3.81it/s]\n"
          ]
        },
        {
          "output_type": "stream",
          "name": "stdout",
          "text": [
            "Training interrupted by early stopping!\n",
            "Total epochs run: 191\n",
            "Best model found at epoch 115 with valid loss 11.45892596244812 and training loss 56.348322570323944\n",
            "Total training time: 0:00:49.926774\n",
            "----------\n",
            "Camadas: 6\n",
            "----------Learning rate: 0.9 ; Batch size: 100\n",
            "Weight Decay: 1e-06 ; Probabilidades de desligamento:0.5\n",
            "----------\n",
            "\n"
          ]
        },
        {
          "output_type": "stream",
          "name": "stderr",
          "text": [
            "  4%|▍         | 79/2000 [00:20<08:07,  3.94it/s]\n"
          ]
        },
        {
          "output_type": "stream",
          "name": "stdout",
          "text": [
            "Training interrupted by early stopping!\n",
            "Total epochs run: 80\n",
            "Best model found at epoch 4 with valid loss 10.455959022045135 and training loss 51.971792221069336\n",
            "Total training time: 0:00:20.066988\n",
            "----------\n",
            "Camadas: 7\n",
            "----------Learning rate: 0.9 ; Batch size: 100\n",
            "Weight Decay: 1e-06 ; Probabilidades de desligamento:0.5\n",
            "----------\n",
            "\n"
          ]
        },
        {
          "output_type": "stream",
          "name": "stderr",
          "text": [
            "  7%|▋         | 142/2000 [00:41<09:07,  3.40it/s]\n"
          ]
        },
        {
          "output_type": "stream",
          "name": "stdout",
          "text": [
            "Training interrupted by early stopping!\n",
            "Total epochs run: 143\n",
            "Best model found at epoch 67 with valid loss 10.396997332572937 and training loss 48.848938167095184\n",
            "Total training time: 0:00:41.831400\n",
            "----------Tentativas sem melhora: 3, Desligando...\n",
            "\n",
            "\n",
            "\n",
            "--------------------\n",
            "Total training time: 0:09:52.274711\n",
            "----------\n",
            "Camadas: 5\n",
            "----------Learning rate: 0.9 ; Batch size: 100\n",
            "Weight Decay: 1e-06 ; Probabilidades de desligamento:0.25\n",
            "----------\n",
            "\n"
          ]
        },
        {
          "output_type": "stream",
          "name": "stderr",
          "text": [
            "  4%|▍         | 77/2000 [00:21<09:02,  3.54it/s]\n"
          ]
        },
        {
          "output_type": "stream",
          "name": "stdout",
          "text": [
            "Training interrupted by early stopping!\n",
            "Total epochs run: 78\n",
            "Best model found at epoch 2 with valid loss 12.15892630815506 and training loss 56.56853896379471\n",
            "Total training time: 0:00:21.752080\n",
            "----------\n",
            "Camadas: 6\n",
            "----------Learning rate: 0.9 ; Batch size: 100\n",
            "Weight Decay: 1e-06 ; Probabilidades de desligamento:0.25\n",
            "----------\n",
            "\n"
          ]
        },
        {
          "output_type": "stream",
          "name": "stderr",
          "text": [
            " 10%|▉         | 195/2000 [00:57<08:50,  3.40it/s]\n"
          ]
        },
        {
          "output_type": "stream",
          "name": "stdout",
          "text": [
            "Training interrupted by early stopping!\n",
            "Total epochs run: 196\n",
            "Best model found at epoch 120 with valid loss 12.158192753791809 and training loss 56.73765420913696\n",
            "Total training time: 0:00:57.371313\n",
            "----------\n",
            "Camadas: 7\n",
            "----------Learning rate: 0.9 ; Batch size: 100\n",
            "Weight Decay: 1e-06 ; Probabilidades de desligamento:0.25\n",
            "----------\n",
            "\n"
          ]
        },
        {
          "output_type": "stream",
          "name": "stderr",
          "text": [
            "  8%|▊         | 166/2000 [00:45<08:18,  3.68it/s]\n"
          ]
        },
        {
          "output_type": "stream",
          "name": "stdout",
          "text": [
            "Training interrupted by early stopping!\n",
            "Total epochs run: 167\n",
            "Best model found at epoch 91 with valid loss 10.397196531295776 and training loss 48.84529888629913\n",
            "Total training time: 0:00:45.134099\n",
            "----------Tentativas sem melhora: 3, Desligando...\n",
            "\n",
            "\n",
            "\n",
            "--------------------\n",
            "Total training time: 0:11:58.090408\n",
            "----------\n",
            "Camadas: 5\n",
            "----------Learning rate: 0.9 ; Batch size: 100\n",
            "Weight Decay: 1e-06 ; Probabilidades de desligamento:0.125\n",
            "----------\n",
            "\n"
          ]
        },
        {
          "output_type": "stream",
          "name": "stderr",
          "text": [
            "  6%|▌         | 121/2000 [00:34<08:57,  3.50it/s]\n"
          ]
        },
        {
          "output_type": "stream",
          "name": "stdout",
          "text": [
            "Training interrupted by early stopping!\n",
            "Total epochs run: 122\n",
            "Best model found at epoch 46 with valid loss 12.15892630815506 and training loss 56.7766774892807\n",
            "Total training time: 0:00:34.594041\n",
            "----------\n",
            "Camadas: 6\n",
            "----------Learning rate: 0.9 ; Batch size: 100\n",
            "Weight Decay: 1e-06 ; Probabilidades de desligamento:0.125\n",
            "----------\n",
            "\n"
          ]
        },
        {
          "output_type": "stream",
          "name": "stderr",
          "text": [
            "  4%|▍         | 76/2000 [00:25<10:38,  3.01it/s]\n"
          ]
        },
        {
          "output_type": "stream",
          "name": "stdout",
          "text": [
            "Training interrupted by early stopping!\n",
            "Total epochs run: 77\n",
            "Best model found at epoch 1 with valid loss 10.397045612335205 and training loss 52.07685524225235\n",
            "Total training time: 0:00:25.243054\n",
            "----------\n",
            "Camadas: 7\n",
            "----------Learning rate: 0.9 ; Batch size: 100\n",
            "Weight Decay: 1e-06 ; Probabilidades de desligamento:0.125\n",
            "----------\n",
            "\n"
          ]
        },
        {
          "output_type": "stream",
          "name": "stderr",
          "text": [
            "  8%|▊         | 158/2000 [00:50<09:49,  3.12it/s]\n"
          ]
        },
        {
          "output_type": "stream",
          "name": "stdout",
          "text": [
            "Training interrupted by early stopping!\n",
            "Total epochs run: 159\n",
            "Best model found at epoch 83 with valid loss 10.578920066356659 and training loss 57.09969782829285\n",
            "Total training time: 0:00:50.620788\n",
            "----------Tentativas sem melhora: 3, Desligando...\n",
            "\n",
            "\n",
            "\n",
            "--------------------\n",
            "Total training time: 0:13:50.114951\n",
            "----------\n",
            "Camadas: 5\n",
            "----------Learning rate: 0.9 ; Batch size: 100\n",
            "Weight Decay: 1e-06 ; Probabilidades de desligamento:0.062\n",
            "----------\n",
            "\n"
          ]
        },
        {
          "output_type": "stream",
          "name": "stderr",
          "text": [
            "  4%|▍         | 76/2000 [00:19<08:18,  3.86it/s]\n"
          ]
        },
        {
          "output_type": "stream",
          "name": "stdout",
          "text": [
            "Training interrupted by early stopping!\n",
            "Total epochs run: 77\n",
            "Best model found at epoch 1 with valid loss 12.15892630815506 and training loss 56.77556651830673\n",
            "Total training time: 0:00:19.710971\n",
            "----------\n",
            "Camadas: 6\n",
            "----------Learning rate: 0.9 ; Batch size: 100\n",
            "Weight Decay: 1e-06 ; Probabilidades de desligamento:0.062\n",
            "----------\n",
            "\n"
          ]
        },
        {
          "output_type": "stream",
          "name": "stderr",
          "text": [
            "  4%|▍         | 76/2000 [00:19<08:25,  3.80it/s]\n"
          ]
        },
        {
          "output_type": "stream",
          "name": "stdout",
          "text": [
            "Training interrupted by early stopping!\n",
            "Total epochs run: 77\n",
            "Best model found at epoch 1 with valid loss 12.15892630815506 and training loss 56.64043140411377\n",
            "Total training time: 0:00:20.001383\n",
            "----------\n",
            "Camadas: 7\n",
            "----------Learning rate: 0.9 ; Batch size: 100\n",
            "Weight Decay: 1e-06 ; Probabilidades de desligamento:0.062\n",
            "----------\n",
            "\n"
          ]
        },
        {
          "output_type": "stream",
          "name": "stderr",
          "text": [
            " 11%|█         | 217/2000 [01:03<08:43,  3.41it/s]\n"
          ]
        },
        {
          "output_type": "stream",
          "name": "stdout",
          "text": [
            "Training interrupted by early stopping!\n",
            "Total epochs run: 218\n",
            "Best model found at epoch 142 with valid loss 12.157383978366852 and training loss 56.737072110176086\n",
            "Total training time: 0:01:03.725859\n",
            "----------Tentativas sem melhora: 3, Desligando...\n",
            "\n",
            "\n",
            "\n",
            "--------------------\n",
            "Total training time: 0:15:35.007123\n",
            "----------\n",
            "Camadas: 5\n",
            "----------Learning rate: 0.9 ; Batch size: 100\n",
            "Weight Decay: 1e-05 ; Probabilidades de desligamento:0.5\n",
            "----------\n",
            "\n"
          ]
        },
        {
          "output_type": "stream",
          "name": "stderr",
          "text": [
            "  6%|▋         | 130/2000 [00:28<06:44,  4.63it/s]\n"
          ]
        },
        {
          "output_type": "stream",
          "name": "stdout",
          "text": [
            "Training interrupted by early stopping!\n",
            "Total epochs run: 131\n",
            "Best model found at epoch 55 with valid loss 11.518925786018372 and training loss 57.20457869768143\n",
            "Total training time: 0:00:28.102822\n",
            "----------\n",
            "Camadas: 6\n",
            "----------Learning rate: 0.9 ; Batch size: 100\n",
            "Weight Decay: 1e-05 ; Probabilidades de desligamento:0.5\n",
            "----------\n",
            "\n"
          ]
        },
        {
          "output_type": "stream",
          "name": "stderr",
          "text": [
            "  6%|▌         | 117/2000 [00:29<07:51,  4.00it/s]\n"
          ]
        },
        {
          "output_type": "stream",
          "name": "stdout",
          "text": [
            "Training interrupted by early stopping!\n",
            "Total epochs run: 118\n",
            "Best model found at epoch 42 with valid loss 10.396996021270752 and training loss 49.172713935375214\n",
            "Total training time: 0:00:29.295339\n",
            "----------\n",
            "Camadas: 7\n",
            "----------Learning rate: 0.9 ; Batch size: 100\n",
            "Weight Decay: 1e-05 ; Probabilidades de desligamento:0.5\n",
            "----------\n",
            "\n"
          ]
        },
        {
          "output_type": "stream",
          "name": "stderr",
          "text": [
            "  4%|▍         | 77/2000 [00:22<09:11,  3.48it/s]\n"
          ]
        },
        {
          "output_type": "stream",
          "name": "stdout",
          "text": [
            "Training interrupted by early stopping!\n",
            "Total epochs run: 78\n",
            "Best model found at epoch 2 with valid loss 10.39744621515274 and training loss 48.86150085926056\n",
            "Total training time: 0:00:22.107558\n",
            "----------Tentativas sem melhora: 3, Desligando...\n",
            "\n",
            "\n",
            "\n",
            "--------------------\n",
            "Total training time: 0:16:56.112241\n",
            "----------\n",
            "Camadas: 5\n",
            "----------Learning rate: 0.9 ; Batch size: 100\n",
            "Weight Decay: 1e-05 ; Probabilidades de desligamento:0.25\n",
            "----------\n",
            "\n"
          ]
        },
        {
          "output_type": "stream",
          "name": "stderr",
          "text": [
            "  4%|▍         | 78/2000 [00:16<06:38,  4.83it/s]\n"
          ]
        },
        {
          "output_type": "stream",
          "name": "stdout",
          "text": [
            "Training interrupted by early stopping!\n",
            "Total epochs run: 79\n",
            "Best model found at epoch 3 with valid loss 12.15892630815506 and training loss 56.872641026973724\n",
            "Total training time: 0:00:16.170564\n",
            "----------\n",
            "Camadas: 6\n",
            "----------Learning rate: 0.9 ; Batch size: 100\n",
            "Weight Decay: 1e-05 ; Probabilidades de desligamento:0.25\n",
            "----------\n",
            "\n"
          ]
        },
        {
          "output_type": "stream",
          "name": "stderr",
          "text": [
            "  8%|▊         | 169/2000 [00:45<08:14,  3.70it/s]\n"
          ]
        },
        {
          "output_type": "stream",
          "name": "stdout",
          "text": [
            "Training interrupted by early stopping!\n",
            "Total epochs run: 170\n",
            "Best model found at epoch 94 with valid loss 10.397164940834045 and training loss 53.82094782590866\n",
            "Total training time: 0:00:45.683969\n",
            "----------\n",
            "Camadas: 7\n",
            "----------Learning rate: 0.9 ; Batch size: 100\n",
            "Weight Decay: 1e-05 ; Probabilidades de desligamento:0.25\n",
            "----------\n",
            "\n"
          ]
        },
        {
          "output_type": "stream",
          "name": "stderr",
          "text": [
            "  4%|▍         | 77/2000 [00:23<09:39,  3.32it/s]\n"
          ]
        },
        {
          "output_type": "stream",
          "name": "stdout",
          "text": [
            "Training interrupted by early stopping!\n",
            "Total epochs run: 78\n",
            "Best model found at epoch 2 with valid loss 10.397369980812073 and training loss 48.84887731075287\n",
            "Total training time: 0:00:23.213623\n",
            "----------Tentativas sem melhora: 3, Desligando...\n",
            "\n",
            "\n",
            "\n",
            "--------------------\n",
            "Total training time: 0:18:22.625692\n",
            "----------\n",
            "Camadas: 5\n",
            "----------Learning rate: 0.9 ; Batch size: 100\n",
            "Weight Decay: 1e-05 ; Probabilidades de desligamento:0.125\n",
            "----------\n",
            "\n"
          ]
        },
        {
          "output_type": "stream",
          "name": "stderr",
          "text": [
            " 11%|█         | 218/2000 [00:46<06:22,  4.65it/s]\n"
          ]
        },
        {
          "output_type": "stream",
          "name": "stdout",
          "text": [
            "Training interrupted by early stopping!\n",
            "Total epochs run: 219\n",
            "Best model found at epoch 143 with valid loss 11.608926117420197 and training loss 56.83388751745224\n",
            "Total training time: 0:00:46.864752\n",
            "----------\n",
            "Camadas: 6\n",
            "----------Learning rate: 0.9 ; Batch size: 100\n",
            "Weight Decay: 1e-05 ; Probabilidades de desligamento:0.125\n",
            "----------\n",
            "\n"
          ]
        },
        {
          "output_type": "stream",
          "name": "stderr",
          "text": [
            "  4%|▍         | 78/2000 [00:27<11:11,  2.86it/s]\n"
          ]
        },
        {
          "output_type": "stream",
          "name": "stdout",
          "text": [
            "Training interrupted by early stopping!\n",
            "Total epochs run: 79\n",
            "Best model found at epoch 3 with valid loss 10.397020280361176 and training loss 49.51228195428848\n",
            "Total training time: 0:00:27.254277\n",
            "----------\n",
            "Camadas: 7\n",
            "----------Learning rate: 0.9 ; Batch size: 100\n",
            "Weight Decay: 1e-05 ; Probabilidades de desligamento:0.125\n",
            "----------\n",
            "\n"
          ]
        },
        {
          "output_type": "stream",
          "name": "stderr",
          "text": [
            "  4%|▍         | 81/2000 [00:24<09:44,  3.28it/s]\n"
          ]
        },
        {
          "output_type": "stream",
          "name": "stdout",
          "text": [
            "Training interrupted by early stopping!\n",
            "Total epochs run: 82\n",
            "Best model found at epoch 6 with valid loss 10.397004544734955 and training loss 48.8385568857193\n",
            "Total training time: 0:00:24.690837\n",
            "----------Tentativas sem melhora: 3, Desligando...\n",
            "\n",
            "\n",
            "\n",
            "--------------------\n",
            "Total training time: 0:20:02.870014\n",
            "----------\n",
            "Camadas: 5\n",
            "----------Learning rate: 0.9 ; Batch size: 100\n",
            "Weight Decay: 1e-05 ; Probabilidades de desligamento:0.062\n",
            "----------\n",
            "\n"
          ]
        },
        {
          "output_type": "stream",
          "name": "stderr",
          "text": [
            " 10%|▉         | 199/2000 [00:48<07:23,  4.06it/s]\n"
          ]
        },
        {
          "output_type": "stream",
          "name": "stdout",
          "text": [
            "Training interrupted by early stopping!\n",
            "Total epochs run: 200\n",
            "Best model found at epoch 124 with valid loss 11.42892575263977 and training loss 54.12686949968338\n",
            "Total training time: 0:00:48.971358\n",
            "----------\n",
            "Camadas: 6\n",
            "----------Learning rate: 0.9 ; Batch size: 100\n",
            "Weight Decay: 1e-05 ; Probabilidades de desligamento:0.062\n",
            "----------\n",
            "\n"
          ]
        },
        {
          "output_type": "stream",
          "name": "stderr",
          "text": [
            "  5%|▍         | 96/2000 [00:24<08:10,  3.88it/s]\n"
          ]
        },
        {
          "output_type": "stream",
          "name": "stdout",
          "text": [
            "Training interrupted by early stopping!\n",
            "Total epochs run: 97\n",
            "Best model found at epoch 21 with valid loss 10.397183060646057 and training loss 48.84833085536957\n",
            "Total training time: 0:00:24.743745\n",
            "----------\n",
            "Camadas: 7\n",
            "----------Learning rate: 0.9 ; Batch size: 100\n",
            "Weight Decay: 1e-05 ; Probabilidades de desligamento:0.062\n",
            "----------\n",
            "\n"
          ]
        },
        {
          "output_type": "stream",
          "name": "stderr",
          "text": [
            "  7%|▋         | 137/2000 [00:35<08:09,  3.81it/s]\n"
          ]
        },
        {
          "output_type": "stream",
          "name": "stdout",
          "text": [
            "Training interrupted by early stopping!\n",
            "Total epochs run: 138\n",
            "Best model found at epoch 62 with valid loss 10.397327363491058 and training loss 48.85629254579544\n",
            "Total training time: 0:00:35.982670\n",
            "----------Tentativas sem melhora: 3, Desligando...\n",
            "\n",
            "\n",
            "\n",
            "--------------------\n",
            "Total training time: 0:21:54.122870\n",
            "----------\n",
            "Camadas: 5\n",
            "----------Learning rate: 0.9 ; Batch size: 100\n",
            "Weight Decay: 0.0001 ; Probabilidades de desligamento:0.5\n",
            "----------\n",
            "\n"
          ]
        },
        {
          "output_type": "stream",
          "name": "stderr",
          "text": [
            " 10%|▉         | 190/2000 [00:36<05:43,  5.27it/s]\n"
          ]
        },
        {
          "output_type": "stream",
          "name": "stdout",
          "text": [
            "Training interrupted by early stopping!\n",
            "Total epochs run: 191\n",
            "Best model found at epoch 115 with valid loss 10.440991342067719 and training loss 53.79638808965683\n",
            "Total training time: 0:00:36.095964\n",
            "----------\n",
            "Camadas: 6\n",
            "----------Learning rate: 0.9 ; Batch size: 100\n",
            "Weight Decay: 0.0001 ; Probabilidades de desligamento:0.5\n",
            "----------\n",
            "\n"
          ]
        },
        {
          "output_type": "stream",
          "name": "stderr",
          "text": [
            "  9%|▉         | 183/2000 [00:38<06:23,  4.73it/s]\n"
          ]
        },
        {
          "output_type": "stream",
          "name": "stdout",
          "text": [
            "Training interrupted by early stopping!\n",
            "Total epochs run: 184\n",
            "Best model found at epoch 108 with valid loss 10.397001385688782 and training loss 49.49792671203613\n",
            "Total training time: 0:00:38.689969\n",
            "----------\n",
            "Camadas: 7\n",
            "----------Learning rate: 0.9 ; Batch size: 100\n",
            "Weight Decay: 0.0001 ; Probabilidades de desligamento:0.5\n",
            "----------\n",
            "\n"
          ]
        },
        {
          "output_type": "stream",
          "name": "stderr",
          "text": [
            "  6%|▌         | 124/2000 [00:34<08:34,  3.64it/s]\n"
          ]
        },
        {
          "output_type": "stream",
          "name": "stdout",
          "text": [
            "Training interrupted by early stopping!\n",
            "Total epochs run: 125\n",
            "Best model found at epoch 49 with valid loss 10.397128522396088 and training loss 48.89694344997406\n",
            "Total training time: 0:00:34.036243\n",
            "----------Tentativas sem melhora: 3, Desligando...\n",
            "\n",
            "\n",
            "\n",
            "--------------------\n",
            "Total training time: 0:23:44.514211\n",
            "----------\n",
            "Camadas: 5\n",
            "----------Learning rate: 0.9 ; Batch size: 100\n",
            "Weight Decay: 0.0001 ; Probabilidades de desligamento:0.25\n",
            "----------\n",
            "\n"
          ]
        },
        {
          "output_type": "stream",
          "name": "stderr",
          "text": [
            "  8%|▊         | 161/2000 [00:32<06:06,  5.01it/s]\n"
          ]
        },
        {
          "output_type": "stream",
          "name": "stdout",
          "text": [
            "Training interrupted by early stopping!\n",
            "Total epochs run: 162\n",
            "Best model found at epoch 86 with valid loss 11.158925652503967 and training loss 56.6340029835701\n",
            "Total training time: 0:00:32.138299\n",
            "----------\n",
            "Camadas: 6\n",
            "----------Learning rate: 0.9 ; Batch size: 100\n",
            "Weight Decay: 0.0001 ; Probabilidades de desligamento:0.25\n",
            "----------\n",
            "\n"
          ]
        },
        {
          "output_type": "stream",
          "name": "stderr",
          "text": [
            "  6%|▋         | 126/2000 [00:32<07:59,  3.91it/s]\n"
          ]
        },
        {
          "output_type": "stream",
          "name": "stdout",
          "text": [
            "Training interrupted by early stopping!\n",
            "Total epochs run: 127\n",
            "Best model found at epoch 51 with valid loss 10.397181868553162 and training loss 48.85105574131012\n",
            "Total training time: 0:00:32.222642\n",
            "----------\n",
            "Camadas: 7\n",
            "----------Learning rate: 0.9 ; Batch size: 100\n",
            "Weight Decay: 0.0001 ; Probabilidades de desligamento:0.25\n",
            "----------\n",
            "\n"
          ]
        },
        {
          "output_type": "stream",
          "name": "stderr",
          "text": [
            "  4%|▍         | 85/2000 [00:18<06:52,  4.64it/s]\n"
          ]
        },
        {
          "output_type": "stream",
          "name": "stdout",
          "text": [
            "Training interrupted by early stopping!\n",
            "Total epochs run: 86\n",
            "Best model found at epoch 10 with valid loss 10.397397458553314 and training loss 52.47339904308319\n",
            "Total training time: 0:00:18.318186\n",
            "----------Tentativas sem melhora: 3, Desligando...\n",
            "\n",
            "\n",
            "\n",
            "--------------------\n",
            "Total training time: 0:25:08.643705\n",
            "----------\n",
            "Camadas: 5\n",
            "----------Learning rate: 0.9 ; Batch size: 100\n",
            "Weight Decay: 0.0001 ; Probabilidades de desligamento:0.125\n",
            "----------\n",
            "\n"
          ]
        },
        {
          "output_type": "stream",
          "name": "stderr",
          "text": [
            " 10%|▉         | 195/2000 [00:40<06:15,  4.81it/s]\n"
          ]
        },
        {
          "output_type": "stream",
          "name": "stdout",
          "text": [
            "Training interrupted by early stopping!\n",
            "Total epochs run: 196\n",
            "Best model found at epoch 120 with valid loss 10.561846852302551 and training loss 53.582394659519196\n",
            "Total training time: 0:00:40.570451\n",
            "----------\n",
            "Camadas: 6\n",
            "----------Learning rate: 0.9 ; Batch size: 100\n",
            "Weight Decay: 0.0001 ; Probabilidades de desligamento:0.125\n",
            "----------\n",
            "\n"
          ]
        },
        {
          "output_type": "stream",
          "name": "stderr",
          "text": [
            "  7%|▋         | 132/2000 [00:30<07:16,  4.28it/s]\n"
          ]
        },
        {
          "output_type": "stream",
          "name": "stdout",
          "text": [
            "Training interrupted by early stopping!\n",
            "Total epochs run: 133\n",
            "Best model found at epoch 57 with valid loss 10.397011816501617 and training loss 49.191485583782196\n",
            "Total training time: 0:00:30.828519\n",
            "----------\n",
            "Camadas: 7\n",
            "----------Learning rate: 0.9 ; Batch size: 100\n",
            "Weight Decay: 0.0001 ; Probabilidades de desligamento:0.125\n",
            "----------\n",
            "\n"
          ]
        },
        {
          "output_type": "stream",
          "name": "stderr",
          "text": [
            "  4%|▍         | 90/2000 [00:25<09:06,  3.50it/s]\n"
          ]
        },
        {
          "output_type": "stream",
          "name": "stdout",
          "text": [
            "Training interrupted by early stopping!\n",
            "Total epochs run: 91\n",
            "Best model found at epoch 15 with valid loss 10.3970006108284 and training loss 48.83308494091034\n",
            "Total training time: 0:00:25.749444\n",
            "----------Tentativas sem melhora: 3, Desligando...\n",
            "\n",
            "\n",
            "\n",
            "--------------------\n",
            "Total training time: 0:26:47.324269\n",
            "----------\n",
            "Camadas: 5\n",
            "----------Learning rate: 0.9 ; Batch size: 100\n",
            "Weight Decay: 0.0001 ; Probabilidades de desligamento:0.062\n",
            "----------\n",
            "\n"
          ]
        },
        {
          "output_type": "stream",
          "name": "stderr",
          "text": [
            "  6%|▌         | 120/2000 [00:22<05:49,  5.39it/s]\n"
          ]
        },
        {
          "output_type": "stream",
          "name": "stdout",
          "text": [
            "Training interrupted by early stopping!\n",
            "Total epochs run: 121\n",
            "Best model found at epoch 45 with valid loss 10.69574636220932 and training loss 50.25909900665283\n",
            "Total training time: 0:00:22.289272\n",
            "----------\n",
            "Camadas: 6\n",
            "----------Learning rate: 0.9 ; Batch size: 100\n",
            "Weight Decay: 0.0001 ; Probabilidades de desligamento:0.062\n",
            "----------\n",
            "\n"
          ]
        },
        {
          "output_type": "stream",
          "name": "stderr",
          "text": [
            "  4%|▍         | 86/2000 [00:28<10:24,  3.07it/s]\n"
          ]
        },
        {
          "output_type": "stream",
          "name": "stdout",
          "text": [
            "Training interrupted by early stopping!\n",
            "Total epochs run: 87\n",
            "Best model found at epoch 11 with valid loss 10.39705777168274 and training loss 48.84427613019943\n",
            "Total training time: 0:00:28.072232\n",
            "----------\n",
            "Camadas: 7\n",
            "----------Learning rate: 0.9 ; Batch size: 100\n",
            "Weight Decay: 0.0001 ; Probabilidades de desligamento:0.062\n",
            "----------\n",
            "\n"
          ]
        },
        {
          "output_type": "stream",
          "name": "stderr",
          "text": [
            "  4%|▍         | 83/2000 [00:23<09:00,  3.55it/s]\n"
          ]
        },
        {
          "output_type": "stream",
          "name": "stdout",
          "text": [
            "Training interrupted by early stopping!\n",
            "Total epochs run: 84\n",
            "Best model found at epoch 8 with valid loss 10.397393584251404 and training loss 48.82705396413803\n",
            "Total training time: 0:00:23.421955\n",
            "----------Tentativas sem melhora: 3, Desligando...\n",
            "\n",
            "\n",
            "\n",
            "--------------------\n",
            "Total training time: 0:28:02.521966\n",
            "----------\n",
            "Camadas: 5\n",
            "----------Learning rate: 0.9 ; Batch size: 120\n",
            "Weight Decay: 1e-07 ; Probabilidades de desligamento:0.5\n",
            "----------\n",
            "\n"
          ]
        },
        {
          "output_type": "stream",
          "name": "stderr",
          "text": [
            "  4%|▍         | 78/2000 [00:14<05:54,  5.42it/s]\n"
          ]
        },
        {
          "output_type": "stream",
          "name": "stdout",
          "text": [
            "Training interrupted by early stopping!\n",
            "Total epochs run: 79\n",
            "Best model found at epoch 3 with valid loss 9.077321171760559 and training loss 46.58895665407181\n",
            "Total training time: 0:00:14.399161\n",
            "----------\n",
            "Camadas: 6\n",
            "----------Learning rate: 0.9 ; Batch size: 120\n",
            "Weight Decay: 1e-07 ; Probabilidades de desligamento:0.5\n",
            "----------\n",
            "\n"
          ]
        },
        {
          "output_type": "stream",
          "name": "stderr",
          "text": [
            "  4%|▍         | 78/2000 [00:16<06:52,  4.66it/s]\n"
          ]
        },
        {
          "output_type": "stream",
          "name": "stdout",
          "text": [
            "Training interrupted by early stopping!\n",
            "Total epochs run: 79\n",
            "Best model found at epoch 3 with valid loss 9.065430581569672 and training loss 43.59504038095474\n",
            "Total training time: 0:00:16.735819\n",
            "----------\n",
            "Camadas: 7\n",
            "----------Learning rate: 0.9 ; Batch size: 120\n",
            "Weight Decay: 1e-07 ; Probabilidades de desligamento:0.5\n",
            "----------\n",
            "\n"
          ]
        },
        {
          "output_type": "stream",
          "name": "stderr",
          "text": [
            "  8%|▊         | 166/2000 [00:35<06:31,  4.69it/s]\n"
          ]
        },
        {
          "output_type": "stream",
          "name": "stdout",
          "text": [
            "Training interrupted by early stopping!\n",
            "Total epochs run: 167\n",
            "Best model found at epoch 91 with valid loss 9.01502925157547 and training loss 41.33803766965866\n",
            "Total training time: 0:00:35.426310\n",
            "----------Tentativas sem melhora: 3, Desligando...\n",
            "\n",
            "\n",
            "\n",
            "--------------------\n",
            "Total training time: 0:29:10.511270\n",
            "----------\n",
            "Camadas: 5\n",
            "----------Learning rate: 0.9 ; Batch size: 120\n",
            "Weight Decay: 1e-07 ; Probabilidades de desligamento:0.25\n",
            "----------\n",
            "\n"
          ]
        },
        {
          "output_type": "stream",
          "name": "stderr",
          "text": [
            "  4%|▍         | 84/2000 [00:18<06:54,  4.63it/s]\n"
          ]
        },
        {
          "output_type": "stream",
          "name": "stdout",
          "text": [
            "Training interrupted by early stopping!\n",
            "Total epochs run: 85\n",
            "Best model found at epoch 9 with valid loss 10.530735969543457 and training loss 48.25807946920395\n",
            "Total training time: 0:00:18.179704\n",
            "----------\n",
            "Camadas: 6\n",
            "----------Learning rate: 0.9 ; Batch size: 120\n",
            "Weight Decay: 1e-07 ; Probabilidades de desligamento:0.25\n",
            "----------\n",
            "\n"
          ]
        },
        {
          "output_type": "stream",
          "name": "stderr",
          "text": [
            "  4%|▍         | 76/2000 [00:17<07:11,  4.46it/s]\n"
          ]
        },
        {
          "output_type": "stream",
          "name": "stdout",
          "text": [
            "Training interrupted by early stopping!\n",
            "Total epochs run: 77\n",
            "Best model found at epoch 1 with valid loss 9.010652124881744 and training loss 43.091108202934265\n",
            "Total training time: 0:00:17.040985\n",
            "----------\n",
            "Camadas: 7\n",
            "----------Learning rate: 0.9 ; Batch size: 120\n",
            "Weight Decay: 1e-07 ; Probabilidades de desligamento:0.25\n",
            "----------\n",
            "\n"
          ]
        },
        {
          "output_type": "stream",
          "name": "stderr",
          "text": [
            "  4%|▍         | 76/2000 [00:17<07:16,  4.40it/s]\n"
          ]
        },
        {
          "output_type": "stream",
          "name": "stdout",
          "text": [
            "Training interrupted by early stopping!\n",
            "Total epochs run: 77\n",
            "Best model found at epoch 1 with valid loss 9.010698020458221 and training loss 41.61975473165512\n",
            "Total training time: 0:00:17.272035\n",
            "----------Tentativas sem melhora: 3, Desligando...\n",
            "\n",
            "\n",
            "\n",
            "--------------------\n",
            "Total training time: 0:30:04.419456\n",
            "----------\n",
            "Camadas: 5\n",
            "----------Learning rate: 0.9 ; Batch size: 120\n",
            "Weight Decay: 1e-07 ; Probabilidades de desligamento:0.125\n",
            "----------\n",
            "\n"
          ]
        },
        {
          "output_type": "stream",
          "name": "stderr",
          "text": [
            "  8%|▊         | 151/2000 [00:30<06:09,  5.00it/s]\n"
          ]
        },
        {
          "output_type": "stream",
          "name": "stdout",
          "text": [
            "Training interrupted by early stopping!\n",
            "Total epochs run: 152\n",
            "Best model found at epoch 76 with valid loss 10.530735969543457 and training loss 47.521526873111725\n",
            "Total training time: 0:00:30.186699\n",
            "----------\n",
            "Camadas: 6\n",
            "----------Learning rate: 0.9 ; Batch size: 120\n",
            "Weight Decay: 1e-07 ; Probabilidades de desligamento:0.125\n",
            "----------\n",
            "\n"
          ]
        },
        {
          "output_type": "stream",
          "name": "stderr",
          "text": [
            "  4%|▍         | 79/2000 [00:18<07:23,  4.33it/s]\n"
          ]
        },
        {
          "output_type": "stream",
          "name": "stdout",
          "text": [
            "Training interrupted by early stopping!\n",
            "Total epochs run: 80\n",
            "Best model found at epoch 4 with valid loss 10.530735969543457 and training loss 48.02991861104965\n",
            "Total training time: 0:00:18.262984\n",
            "----------\n",
            "Camadas: 7\n",
            "----------Learning rate: 0.9 ; Batch size: 120\n",
            "Weight Decay: 1e-07 ; Probabilidades de desligamento:0.125\n",
            "----------\n",
            "\n"
          ]
        },
        {
          "output_type": "stream",
          "name": "stderr",
          "text": [
            "  4%|▍         | 78/2000 [00:20<08:22,  3.83it/s]\n"
          ]
        },
        {
          "output_type": "stream",
          "name": "stdout",
          "text": [
            "Training interrupted by early stopping!\n",
            "Total epochs run: 79\n",
            "Best model found at epoch 3 with valid loss 9.01426237821579 and training loss 41.34549826383591\n",
            "Total training time: 0:00:20.396401\n",
            "----------Tentativas sem melhora: 3, Desligando...\n",
            "\n",
            "\n",
            "\n",
            "--------------------\n",
            "Total training time: 0:31:14.761086\n",
            "----------\n",
            "Camadas: 5\n",
            "----------Learning rate: 0.9 ; Batch size: 120\n",
            "Weight Decay: 1e-07 ; Probabilidades de desligamento:0.062\n",
            "----------\n",
            "\n"
          ]
        },
        {
          "output_type": "stream",
          "name": "stderr",
          "text": [
            "  4%|▍         | 77/2000 [00:16<06:53,  4.65it/s]\n"
          ]
        },
        {
          "output_type": "stream",
          "name": "stdout",
          "text": [
            "Training interrupted by early stopping!\n",
            "Total epochs run: 78\n",
            "Best model found at epoch 2 with valid loss 10.530735969543457 and training loss 47.81576895713806\n",
            "Total training time: 0:00:16.553363\n",
            "----------\n",
            "Camadas: 6\n",
            "----------Learning rate: 0.9 ; Batch size: 120\n",
            "Weight Decay: 1e-07 ; Probabilidades de desligamento:0.062\n",
            "----------\n",
            "\n"
          ]
        },
        {
          "output_type": "stream",
          "name": "stderr",
          "text": [
            "  4%|▍         | 88/2000 [00:21<07:44,  4.12it/s]\n"
          ]
        },
        {
          "output_type": "stream",
          "name": "stdout",
          "text": [
            "Training interrupted by early stopping!\n",
            "Total epochs run: 89\n",
            "Best model found at epoch 13 with valid loss 10.530735969543457 and training loss 47.636757493019104\n",
            "Total training time: 0:00:21.369945\n",
            "----------\n",
            "Camadas: 7\n",
            "----------Learning rate: 0.9 ; Batch size: 120\n",
            "Weight Decay: 1e-07 ; Probabilidades de desligamento:0.062\n",
            "----------\n",
            "\n"
          ]
        },
        {
          "output_type": "stream",
          "name": "stderr",
          "text": [
            "  7%|▋         | 133/2000 [00:32<07:37,  4.08it/s]\n"
          ]
        },
        {
          "output_type": "stream",
          "name": "stdout",
          "text": [
            "Training interrupted by early stopping!\n",
            "Total epochs run: 134\n",
            "Best model found at epoch 58 with valid loss 9.015025615692139 and training loss 41.33807337284088\n",
            "Total training time: 0:00:32.634845\n",
            "----------Tentativas sem melhora: 3, Desligando...\n",
            "\n",
            "\n",
            "\n",
            "--------------------\n",
            "Total training time: 0:32:26.791661\n",
            "----------\n",
            "Camadas: 5\n",
            "----------Learning rate: 0.9 ; Batch size: 120\n",
            "Weight Decay: 1e-06 ; Probabilidades de desligamento:0.5\n",
            "----------\n",
            "\n"
          ]
        },
        {
          "output_type": "stream",
          "name": "stderr",
          "text": [
            "  8%|▊         | 161/2000 [00:41<07:56,  3.86it/s]\n"
          ]
        },
        {
          "output_type": "stream",
          "name": "stdout",
          "text": [
            "Training interrupted by early stopping!\n",
            "Total epochs run: 162\n",
            "Best model found at epoch 86 with valid loss 10.105735898017883 and training loss 47.68176090717316\n",
            "Total training time: 0:00:41.768524\n",
            "----------\n",
            "Camadas: 6\n",
            "----------Learning rate: 0.9 ; Batch size: 120\n",
            "Weight Decay: 1e-06 ; Probabilidades de desligamento:0.5\n",
            "----------\n",
            "\n"
          ]
        },
        {
          "output_type": "stream",
          "name": "stderr",
          "text": [
            "  7%|▋         | 136/2000 [00:34<07:52,  3.94it/s]\n"
          ]
        },
        {
          "output_type": "stream",
          "name": "stdout",
          "text": [
            "Training interrupted by early stopping!\n",
            "Total epochs run: 137\n",
            "Best model found at epoch 61 with valid loss 9.010652124881744 and training loss 43.50938653945923\n",
            "Total training time: 0:00:34.493756\n",
            "----------\n",
            "Camadas: 7\n",
            "----------Learning rate: 0.9 ; Batch size: 120\n",
            "Weight Decay: 1e-06 ; Probabilidades de desligamento:0.5\n",
            "----------\n",
            "\n"
          ]
        },
        {
          "output_type": "stream",
          "name": "stderr",
          "text": [
            "  4%|▍         | 82/2000 [00:23<09:11,  3.48it/s]\n"
          ]
        },
        {
          "output_type": "stream",
          "name": "stdout",
          "text": [
            "Training interrupted by early stopping!\n",
            "Total epochs run: 83\n",
            "Best model found at epoch 7 with valid loss 9.013721227645874 and training loss 42.66421240568161\n",
            "Total training time: 0:00:23.587181\n",
            "----------Tentativas sem melhora: 3, Desligando...\n",
            "\n",
            "\n",
            "\n",
            "--------------------\n",
            "Total training time: 0:34:08.247338\n",
            "----------\n",
            "Camadas: 5\n",
            "----------Learning rate: 0.9 ; Batch size: 120\n",
            "Weight Decay: 1e-06 ; Probabilidades de desligamento:0.25\n",
            "----------\n",
            "\n"
          ]
        },
        {
          "output_type": "stream",
          "name": "stderr",
          "text": [
            "  4%|▍         | 87/2000 [00:22<08:25,  3.79it/s]\n"
          ]
        },
        {
          "output_type": "stream",
          "name": "stdout",
          "text": [
            "Training interrupted by early stopping!\n",
            "Total epochs run: 88\n",
            "Best model found at epoch 12 with valid loss 10.530735969543457 and training loss 48.18942338228226\n",
            "Total training time: 0:00:22.991961\n",
            "----------\n",
            "Camadas: 6\n",
            "----------Learning rate: 0.9 ; Batch size: 120\n",
            "Weight Decay: 1e-06 ; Probabilidades de desligamento:0.25\n",
            "----------\n",
            "\n"
          ]
        },
        {
          "output_type": "stream",
          "name": "stderr",
          "text": [
            "  4%|▍         | 76/2000 [00:19<08:02,  3.99it/s]\n"
          ]
        },
        {
          "output_type": "stream",
          "name": "stdout",
          "text": [
            "Training interrupted by early stopping!\n",
            "Total epochs run: 77\n",
            "Best model found at epoch 1 with valid loss 10.530735969543457 and training loss 47.98179566860199\n",
            "Total training time: 0:00:19.062900\n",
            "----------\n",
            "Camadas: 7\n",
            "----------Learning rate: 0.9 ; Batch size: 120\n",
            "Weight Decay: 1e-06 ; Probabilidades de desligamento:0.25\n",
            "----------\n",
            "\n"
          ]
        },
        {
          "output_type": "stream",
          "name": "stderr",
          "text": [
            "  7%|▋         | 143/2000 [00:41<08:58,  3.45it/s]\n"
          ]
        },
        {
          "output_type": "stream",
          "name": "stdout",
          "text": [
            "Training interrupted by early stopping!\n",
            "Total epochs run: 144\n",
            "Best model found at epoch 68 with valid loss 9.013023376464844 and training loss 41.10146027803421\n",
            "Total training time: 0:00:41.513102\n",
            "----------Tentativas sem melhora: 3, Desligando...\n",
            "\n",
            "\n",
            "\n",
            "--------------------\n",
            "Total training time: 0:35:33.474274\n",
            "----------\n",
            "Camadas: 5\n",
            "----------Learning rate: 0.9 ; Batch size: 120\n",
            "Weight Decay: 1e-06 ; Probabilidades de desligamento:0.125\n",
            "----------\n",
            "\n"
          ]
        },
        {
          "output_type": "stream",
          "name": "stderr",
          "text": [
            "  6%|▌         | 124/2000 [00:29<07:32,  4.15it/s]\n"
          ]
        },
        {
          "output_type": "stream",
          "name": "stdout",
          "text": [
            "Training interrupted by early stopping!\n",
            "Total epochs run: 125\n",
            "Best model found at epoch 49 with valid loss 10.530735969543457 and training loss 47.954295575618744\n",
            "Total training time: 0:00:29.906685\n",
            "----------\n",
            "Camadas: 6\n",
            "----------Learning rate: 0.9 ; Batch size: 120\n",
            "Weight Decay: 1e-06 ; Probabilidades de desligamento:0.125\n",
            "----------\n",
            "\n"
          ]
        },
        {
          "output_type": "stream",
          "name": "stderr",
          "text": [
            "  4%|▍         | 85/2000 [00:22<08:26,  3.78it/s]\n"
          ]
        },
        {
          "output_type": "stream",
          "name": "stdout",
          "text": [
            "Training interrupted by early stopping!\n",
            "Total epochs run: 86\n",
            "Best model found at epoch 10 with valid loss 10.530735969543457 and training loss 47.958393931388855\n",
            "Total training time: 0:00:22.510017\n",
            "----------\n",
            "Camadas: 7\n",
            "----------Learning rate: 0.9 ; Batch size: 120\n",
            "Weight Decay: 1e-06 ; Probabilidades de desligamento:0.125\n",
            "----------\n",
            "\n"
          ]
        },
        {
          "output_type": "stream",
          "name": "stderr",
          "text": [
            "  4%|▍         | 76/2000 [00:22<09:32,  3.36it/s]\n"
          ]
        },
        {
          "output_type": "stream",
          "name": "stdout",
          "text": [
            "Training interrupted by early stopping!\n",
            "Total epochs run: 77\n",
            "Best model found at epoch 1 with valid loss 9.035976827144623 and training loss 41.275739550590515\n",
            "Total training time: 0:00:22.628080\n",
            "----------Tentativas sem melhora: 3, Desligando...\n",
            "\n",
            "\n",
            "\n",
            "--------------------\n",
            "Total training time: 0:36:50.026906\n",
            "----------\n",
            "Camadas: 5\n",
            "----------Learning rate: 0.9 ; Batch size: 120\n",
            "Weight Decay: 1e-06 ; Probabilidades de desligamento:0.062\n",
            "----------\n",
            "\n"
          ]
        },
        {
          "output_type": "stream",
          "name": "stderr",
          "text": [
            "  4%|▍         | 86/2000 [00:22<08:27,  3.77it/s]\n"
          ]
        },
        {
          "output_type": "stream",
          "name": "stdout",
          "text": [
            "Training interrupted by early stopping!\n",
            "Total epochs run: 87\n",
            "Best model found at epoch 11 with valid loss 10.530735969543457 and training loss 47.994245767593384\n",
            "Total training time: 0:00:22.803205\n",
            "----------\n",
            "Camadas: 6\n",
            "----------Learning rate: 0.9 ; Batch size: 120\n",
            "Weight Decay: 1e-06 ; Probabilidades de desligamento:0.062\n",
            "----------\n",
            "\n"
          ]
        },
        {
          "output_type": "stream",
          "name": "stderr",
          "text": [
            "  4%|▍         | 76/2000 [00:22<09:32,  3.36it/s]\n"
          ]
        },
        {
          "output_type": "stream",
          "name": "stdout",
          "text": [
            "Training interrupted by early stopping!\n",
            "Total epochs run: 77\n",
            "Best model found at epoch 1 with valid loss 10.530735969543457 and training loss 48.077385783195496\n",
            "Total training time: 0:00:22.639657\n",
            "----------\n",
            "Camadas: 7\n",
            "----------Learning rate: 0.9 ; Batch size: 120\n",
            "Weight Decay: 1e-06 ; Probabilidades de desligamento:0.062\n",
            "----------\n",
            "\n"
          ]
        },
        {
          "output_type": "stream",
          "name": "stderr",
          "text": [
            "  6%|▋         | 127/2000 [00:43<10:46,  2.90it/s]\n"
          ]
        },
        {
          "output_type": "stream",
          "name": "stdout",
          "text": [
            "Training interrupted by early stopping!\n",
            "Total epochs run: 128\n",
            "Best model found at epoch 52 with valid loss 9.013034105300903 and training loss 41.10173845291138\n",
            "Total training time: 0:00:43.855513\n",
            "----------Tentativas sem melhora: 3, Desligando...\n",
            "\n",
            "\n",
            "\n",
            "--------------------\n",
            "Total training time: 0:38:20.859738\n",
            "----------\n",
            "Camadas: 5\n",
            "----------Learning rate: 0.9 ; Batch size: 120\n",
            "Weight Decay: 1e-05 ; Probabilidades de desligamento:0.5\n",
            "----------\n",
            "\n"
          ]
        },
        {
          "output_type": "stream",
          "name": "stderr",
          "text": [
            "  8%|▊         | 157/2000 [00:33<06:38,  4.62it/s]\n"
          ]
        },
        {
          "output_type": "stream",
          "name": "stdout",
          "text": [
            "Training interrupted by early stopping!\n",
            "Total epochs run: 158\n",
            "Best model found at epoch 82 with valid loss 9.151358604431152 and training loss 44.14407753944397\n",
            "Total training time: 0:00:33.969427\n",
            "----------\n",
            "Camadas: 6\n",
            "----------Learning rate: 0.9 ; Batch size: 120\n",
            "Weight Decay: 1e-05 ; Probabilidades de desligamento:0.5\n",
            "----------\n",
            "\n"
          ]
        },
        {
          "output_type": "stream",
          "name": "stderr",
          "text": [
            "  7%|▋         | 133/2000 [00:30<07:03,  4.41it/s]\n"
          ]
        },
        {
          "output_type": "stream",
          "name": "stdout",
          "text": [
            "Training interrupted by early stopping!\n",
            "Total epochs run: 134\n",
            "Best model found at epoch 58 with valid loss 9.010858535766602 and training loss 43.16104906797409\n",
            "Total training time: 0:00:30.207641\n",
            "----------\n",
            "Camadas: 7\n",
            "----------Learning rate: 0.9 ; Batch size: 120\n",
            "Weight Decay: 1e-05 ; Probabilidades de desligamento:0.5\n",
            "----------\n",
            "\n"
          ]
        },
        {
          "output_type": "stream",
          "name": "stderr",
          "text": [
            "  4%|▍         | 81/2000 [00:19<07:47,  4.11it/s]\n"
          ]
        },
        {
          "output_type": "stream",
          "name": "stdout",
          "text": [
            "Training interrupted by early stopping!\n",
            "Total epochs run: 82\n",
            "Best model found at epoch 6 with valid loss 9.011002004146576 and training loss 42.858024537563324\n",
            "Total training time: 0:00:19.726617\n",
            "----------Tentativas sem melhora: 3, Desligando...\n",
            "\n",
            "\n",
            "\n",
            "--------------------\n",
            "Total training time: 0:39:46.264884\n",
            "----------\n",
            "Camadas: 5\n",
            "----------Learning rate: 0.9 ; Batch size: 120\n",
            "Weight Decay: 1e-05 ; Probabilidades de desligamento:0.25\n",
            "----------\n",
            "\n"
          ]
        },
        {
          "output_type": "stream",
          "name": "stderr",
          "text": [
            "  4%|▍         | 76/2000 [00:16<07:00,  4.57it/s]\n"
          ]
        },
        {
          "output_type": "stream",
          "name": "stdout",
          "text": [
            "Training interrupted by early stopping!\n",
            "Total epochs run: 77\n",
            "Best model found at epoch 1 with valid loss 10.530735969543457 and training loss 47.70180678367615\n",
            "Total training time: 0:00:16.645125\n",
            "----------\n",
            "Camadas: 6\n",
            "----------Learning rate: 0.9 ; Batch size: 120\n",
            "Weight Decay: 1e-05 ; Probabilidades de desligamento:0.25\n",
            "----------\n",
            "\n"
          ]
        },
        {
          "output_type": "stream",
          "name": "stderr",
          "text": [
            "  4%|▍         | 76/2000 [00:17<07:31,  4.27it/s]\n"
          ]
        },
        {
          "output_type": "stream",
          "name": "stdout",
          "text": [
            "Training interrupted by early stopping!\n",
            "Total epochs run: 77\n",
            "Best model found at epoch 1 with valid loss 10.530735969543457 and training loss 47.55772668123245\n",
            "Total training time: 0:00:17.824531\n",
            "----------\n",
            "Camadas: 7\n",
            "----------Learning rate: 0.9 ; Batch size: 120\n",
            "Weight Decay: 1e-05 ; Probabilidades de desligamento:0.25\n",
            "----------\n",
            "\n"
          ]
        },
        {
          "output_type": "stream",
          "name": "stderr",
          "text": [
            "  4%|▍         | 77/2000 [00:22<09:17,  3.45it/s]\n"
          ]
        },
        {
          "output_type": "stream",
          "name": "stdout",
          "text": [
            "Training interrupted by early stopping!\n",
            "Total epochs run: 78\n",
            "Best model found at epoch 2 with valid loss 9.011944234371185 and training loss 43.471260488033295\n",
            "Total training time: 0:00:22.354969\n",
            "----------Tentativas sem melhora: 3, Desligando...\n",
            "\n",
            "\n",
            "\n",
            "--------------------\n",
            "Total training time: 0:40:44.515396\n",
            "----------\n",
            "Camadas: 5\n",
            "----------Learning rate: 0.9 ; Batch size: 120\n",
            "Weight Decay: 1e-05 ; Probabilidades de desligamento:0.125\n",
            "----------\n",
            "\n"
          ]
        },
        {
          "output_type": "stream",
          "name": "stderr",
          "text": [
            "  8%|▊         | 154/2000 [00:30<06:08,  5.01it/s]\n"
          ]
        },
        {
          "output_type": "stream",
          "name": "stdout",
          "text": [
            "Training interrupted by early stopping!\n",
            "Total epochs run: 155\n",
            "Best model found at epoch 79 with valid loss 10.266602873802185 and training loss 47.732345283031464\n",
            "Total training time: 0:00:30.736322\n",
            "----------\n",
            "Camadas: 6\n",
            "----------Learning rate: 0.9 ; Batch size: 120\n",
            "Weight Decay: 1e-05 ; Probabilidades de desligamento:0.125\n",
            "----------\n",
            "\n"
          ]
        },
        {
          "output_type": "stream",
          "name": "stderr",
          "text": [
            " 12%|█▏        | 244/2000 [01:06<07:57,  3.68it/s]\n"
          ]
        },
        {
          "output_type": "stream",
          "name": "stdout",
          "text": [
            "Training interrupted by early stopping!\n",
            "Total epochs run: 245\n",
            "Best model found at epoch 169 with valid loss 9.012996196746826 and training loss 41.098310351371765\n",
            "Total training time: 0:01:06.371212\n",
            "----------\n",
            "Camadas: 7\n",
            "----------Learning rate: 0.9 ; Batch size: 120\n",
            "Weight Decay: 1e-05 ; Probabilidades de desligamento:0.125\n",
            "----------\n",
            "\n"
          ]
        },
        {
          "output_type": "stream",
          "name": "stderr",
          "text": [
            "  7%|▋         | 132/2000 [00:26<06:11,  5.03it/s]\n"
          ]
        },
        {
          "output_type": "stream",
          "name": "stdout",
          "text": [
            "Training interrupted by early stopping!\n",
            "Total epochs run: 133\n",
            "Best model found at epoch 57 with valid loss 9.015067100524902 and training loss 41.337978422641754\n",
            "Total training time: 0:00:26.273175\n",
            "----------Tentativas sem melhora: 3, Desligando...\n",
            "\n",
            "\n",
            "\n",
            "--------------------\n",
            "Total training time: 0:42:49.447933\n",
            "----------\n",
            "Camadas: 5\n",
            "----------Learning rate: 0.9 ; Batch size: 120\n",
            "Weight Decay: 1e-05 ; Probabilidades de desligamento:0.062\n",
            "----------\n",
            "\n"
          ]
        },
        {
          "output_type": "stream",
          "name": "stderr",
          "text": [
            "  6%|▋         | 126/2000 [00:30<07:35,  4.12it/s]\n"
          ]
        },
        {
          "output_type": "stream",
          "name": "stdout",
          "text": [
            "Training interrupted by early stopping!\n",
            "Total epochs run: 127\n",
            "Best model found at epoch 51 with valid loss 9.8974027633667 and training loss 47.41365021467209\n",
            "Total training time: 0:00:30.635645\n",
            "----------\n",
            "Camadas: 6\n",
            "----------Learning rate: 0.9 ; Batch size: 120\n",
            "Weight Decay: 1e-05 ; Probabilidades de desligamento:0.062\n",
            "----------\n",
            "\n"
          ]
        },
        {
          "output_type": "stream",
          "name": "stderr",
          "text": [
            "  8%|▊         | 154/2000 [00:43<08:37,  3.57it/s]\n"
          ]
        },
        {
          "output_type": "stream",
          "name": "stdout",
          "text": [
            "Training interrupted by early stopping!\n",
            "Total epochs run: 155\n",
            "Best model found at epoch 79 with valid loss 9.013016045093536 and training loss 41.10120069980621\n",
            "Total training time: 0:00:43.211811\n",
            "----------\n",
            "Camadas: 7\n",
            "----------Learning rate: 0.9 ; Batch size: 120\n",
            "Weight Decay: 1e-05 ; Probabilidades de desligamento:0.062\n",
            "----------\n",
            "\n"
          ]
        },
        {
          "output_type": "stream",
          "name": "stderr",
          "text": [
            "  5%|▍         | 98/2000 [00:32<10:28,  3.03it/s]\n"
          ]
        },
        {
          "output_type": "stream",
          "name": "stdout",
          "text": [
            "Training interrupted by early stopping!\n",
            "Total epochs run: 99\n",
            "Best model found at epoch 23 with valid loss 9.013055562973022 and training loss 41.10197287797928\n",
            "Total training time: 0:00:32.410805\n",
            "----------Tentativas sem melhora: 3, Desligando...\n",
            "\n",
            "\n",
            "\n",
            "--------------------\n",
            "Total training time: 0:44:37.268158\n",
            "----------\n",
            "Camadas: 5\n",
            "----------Learning rate: 0.9 ; Batch size: 120\n",
            "Weight Decay: 0.0001 ; Probabilidades de desligamento:0.5\n",
            "----------\n",
            "\n"
          ]
        },
        {
          "output_type": "stream",
          "name": "stderr",
          "text": [
            "  4%|▍         | 90/2000 [00:18<06:38,  4.79it/s]\n"
          ]
        },
        {
          "output_type": "stream",
          "name": "stdout",
          "text": [
            "Training interrupted by early stopping!\n",
            "Total epochs run: 91\n",
            "Best model found at epoch 15 with valid loss 9.578081488609314 and training loss 45.20302200317383\n",
            "Total training time: 0:00:18.802064\n",
            "----------\n",
            "Camadas: 6\n",
            "----------Learning rate: 0.9 ; Batch size: 120\n",
            "Weight Decay: 0.0001 ; Probabilidades de desligamento:0.5\n",
            "----------\n",
            "\n"
          ]
        },
        {
          "output_type": "stream",
          "name": "stderr",
          "text": [
            "  5%|▍         | 92/2000 [00:20<06:58,  4.55it/s]\n"
          ]
        },
        {
          "output_type": "stream",
          "name": "stdout",
          "text": [
            "Training interrupted by early stopping!\n",
            "Total epochs run: 93\n",
            "Best model found at epoch 17 with valid loss 9.012886643409729 and training loss 42.30866062641144\n",
            "Total training time: 0:00:20.220873\n",
            "----------\n",
            "Camadas: 7\n",
            "----------Learning rate: 0.9 ; Batch size: 120\n",
            "Weight Decay: 0.0001 ; Probabilidades de desligamento:0.5\n",
            "----------\n",
            "\n"
          ]
        },
        {
          "output_type": "stream",
          "name": "stderr",
          "text": [
            "  7%|▋         | 144/2000 [00:35<07:42,  4.02it/s]\n"
          ]
        },
        {
          "output_type": "stream",
          "name": "stdout",
          "text": [
            "Training interrupted by early stopping!\n",
            "Total epochs run: 145\n",
            "Best model found at epoch 69 with valid loss 9.014333546161652 and training loss 41.38545203208923\n",
            "Total training time: 0:00:35.864634\n",
            "----------Tentativas sem melhora: 3, Desligando...\n",
            "\n",
            "\n",
            "\n",
            "--------------------\n",
            "Total training time: 0:45:53.721895\n",
            "----------\n",
            "Camadas: 5\n",
            "----------Learning rate: 0.9 ; Batch size: 120\n",
            "Weight Decay: 0.0001 ; Probabilidades de desligamento:0.25\n",
            "----------\n",
            "\n"
          ]
        },
        {
          "output_type": "stream",
          "name": "stderr",
          "text": [
            "  4%|▍         | 79/2000 [00:13<05:37,  5.69it/s]\n"
          ]
        },
        {
          "output_type": "stream",
          "name": "stdout",
          "text": [
            "Training interrupted by early stopping!\n",
            "Total epochs run: 80\n",
            "Best model found at epoch 4 with valid loss 9.733073711395264 and training loss 46.46592891216278\n",
            "Total training time: 0:00:13.907257\n",
            "----------\n",
            "Camadas: 6\n",
            "----------Learning rate: 0.9 ; Batch size: 120\n",
            "Weight Decay: 0.0001 ; Probabilidades de desligamento:0.25\n",
            "----------\n",
            "\n"
          ]
        },
        {
          "output_type": "stream",
          "name": "stderr",
          "text": [
            "  6%|▌         | 113/2000 [00:22<06:14,  5.04it/s]\n"
          ]
        },
        {
          "output_type": "stream",
          "name": "stdout",
          "text": [
            "Training interrupted by early stopping!\n",
            "Total epochs run: 114\n",
            "Best model found at epoch 38 with valid loss 9.010838687419891 and training loss 42.564220786094666\n",
            "Total training time: 0:00:22.437123\n",
            "----------\n",
            "Camadas: 7\n",
            "----------Learning rate: 0.9 ; Batch size: 120\n",
            "Weight Decay: 0.0001 ; Probabilidades de desligamento:0.25\n",
            "----------\n",
            "\n"
          ]
        },
        {
          "output_type": "stream",
          "name": "stderr",
          "text": [
            "  4%|▍         | 76/2000 [00:23<09:47,  3.27it/s]\n"
          ]
        },
        {
          "output_type": "stream",
          "name": "stdout",
          "text": [
            "Training interrupted by early stopping!\n",
            "Total epochs run: 77\n",
            "Best model found at epoch 1 with valid loss 9.017151296138763 and training loss 41.18768125772476\n",
            "Total training time: 0:00:23.234501\n",
            "----------Tentativas sem melhora: 3, Desligando...\n",
            "\n",
            "\n",
            "\n",
            "--------------------\n",
            "Total training time: 0:46:55.228285\n",
            "----------\n",
            "Camadas: 5\n",
            "----------Learning rate: 0.9 ; Batch size: 120\n",
            "Weight Decay: 0.0001 ; Probabilidades de desligamento:0.125\n",
            "----------\n",
            "\n"
          ]
        },
        {
          "output_type": "stream",
          "name": "stderr",
          "text": [
            "  5%|▌         | 102/2000 [00:18<05:43,  5.53it/s]\n"
          ]
        },
        {
          "output_type": "stream",
          "name": "stdout",
          "text": [
            "Training interrupted by early stopping!\n",
            "Total epochs run: 103\n",
            "Best model found at epoch 27 with valid loss 9.469597458839417 and training loss 46.96398788690567\n",
            "Total training time: 0:00:18.458524\n",
            "----------\n",
            "Camadas: 6\n",
            "----------Learning rate: 0.9 ; Batch size: 120\n",
            "Weight Decay: 0.0001 ; Probabilidades de desligamento:0.125\n",
            "----------\n",
            "\n"
          ]
        },
        {
          "output_type": "stream",
          "name": "stderr",
          "text": [
            "  6%|▋         | 125/2000 [00:30<07:30,  4.16it/s]\n"
          ]
        },
        {
          "output_type": "stream",
          "name": "stdout",
          "text": [
            "Training interrupted by early stopping!\n",
            "Total epochs run: 126\n",
            "Best model found at epoch 50 with valid loss 9.013169348239899 and training loss 41.096093118190765\n",
            "Total training time: 0:00:30.067478\n",
            "----------\n",
            "Camadas: 7\n",
            "----------Learning rate: 0.9 ; Batch size: 120\n",
            "Weight Decay: 0.0001 ; Probabilidades de desligamento:0.125\n",
            "----------\n",
            "\n"
          ]
        },
        {
          "output_type": "stream",
          "name": "stderr",
          "text": [
            "  8%|▊         | 161/2000 [00:42<08:03,  3.81it/s]\n"
          ]
        },
        {
          "output_type": "stream",
          "name": "stdout",
          "text": [
            "Training interrupted by early stopping!\n",
            "Total epochs run: 162\n",
            "Best model found at epoch 86 with valid loss 9.011888921260834 and training loss 41.414160430431366\n",
            "Total training time: 0:00:42.320491\n",
            "----------Tentativas sem melhora: 3, Desligando...\n",
            "\n",
            "\n",
            "\n",
            "--------------------\n",
            "Total training time: 0:48:27.558542\n",
            "----------\n",
            "Camadas: 5\n",
            "----------Learning rate: 0.9 ; Batch size: 120\n",
            "Weight Decay: 0.0001 ; Probabilidades de desligamento:0.062\n",
            "----------\n",
            "\n"
          ]
        },
        {
          "output_type": "stream",
          "name": "stderr",
          "text": [
            "  5%|▍         | 98/2000 [00:16<05:18,  5.97it/s]\n"
          ]
        },
        {
          "output_type": "stream",
          "name": "stdout",
          "text": [
            "Training interrupted by early stopping!\n",
            "Total epochs run: 99\n",
            "Best model found at epoch 23 with valid loss 9.497069001197815 and training loss 47.34606492519379\n",
            "Total training time: 0:00:16.417067\n",
            "----------\n",
            "Camadas: 6\n",
            "----------Learning rate: 0.9 ; Batch size: 120\n",
            "Weight Decay: 0.0001 ; Probabilidades de desligamento:0.062\n",
            "----------\n",
            "\n"
          ]
        },
        {
          "output_type": "stream",
          "name": "stderr",
          "text": [
            "  5%|▍         | 97/2000 [00:21<06:53,  4.60it/s]\n"
          ]
        },
        {
          "output_type": "stream",
          "name": "stdout",
          "text": [
            "Training interrupted by early stopping!\n",
            "Total epochs run: 98\n",
            "Best model found at epoch 22 with valid loss 9.010777413845062 and training loss 41.72316473722458\n",
            "Total training time: 0:00:21.098743\n",
            "----------\n",
            "Camadas: 7\n",
            "----------Learning rate: 0.9 ; Batch size: 120\n",
            "Weight Decay: 0.0001 ; Probabilidades de desligamento:0.062\n",
            "----------\n",
            "\n"
          ]
        },
        {
          "output_type": "stream",
          "name": "stderr",
          "text": [
            "  4%|▍         | 79/2000 [00:28<11:41,  2.74it/s]\n"
          ]
        },
        {
          "output_type": "stream",
          "name": "stdout",
          "text": [
            "Training interrupted by early stopping!\n",
            "Total epochs run: 80\n",
            "Best model found at epoch 4 with valid loss 9.017981231212616 and training loss 41.10839432477951\n",
            "Total training time: 0:00:28.848268\n",
            "----------Tentativas sem melhora: 3, Desligando...\n",
            "\n",
            "\n",
            "\n",
            "--------------------\n",
            "Total training time: 0:49:35.553145\n",
            "----------\n",
            "Camadas: 5\n",
            "----------Learning rate: 0.5 ; Batch size: 100\n",
            "Weight Decay: 1e-07 ; Probabilidades de desligamento:0.5\n",
            "----------\n",
            "\n"
          ]
        },
        {
          "output_type": "stream",
          "name": "stderr",
          "text": [
            "  4%|▍         | 90/2000 [00:19<06:50,  4.65it/s]\n"
          ]
        },
        {
          "output_type": "stream",
          "name": "stdout",
          "text": [
            "Training interrupted by early stopping!\n",
            "Total epochs run: 91\n",
            "Best model found at epoch 15 with valid loss 11.15892606973648 and training loss 54.488102436065674\n",
            "Total training time: 0:00:19.368072\n",
            "----------\n",
            "Camadas: 6\n",
            "----------Learning rate: 0.5 ; Batch size: 100\n",
            "Weight Decay: 1e-07 ; Probabilidades de desligamento:0.5\n",
            "----------\n",
            "\n"
          ]
        },
        {
          "output_type": "stream",
          "name": "stderr",
          "text": [
            "  5%|▌         | 101/2000 [00:25<07:54,  4.00it/s]\n"
          ]
        },
        {
          "output_type": "stream",
          "name": "stdout",
          "text": [
            "Training interrupted by early stopping!\n",
            "Total epochs run: 102\n",
            "Best model found at epoch 26 with valid loss 10.3974369764328 and training loss 50.30326730012894\n",
            "Total training time: 0:00:25.245323\n",
            "----------\n",
            "Camadas: 7\n",
            "----------Learning rate: 0.5 ; Batch size: 100\n",
            "Weight Decay: 1e-07 ; Probabilidades de desligamento:0.5\n",
            "----------\n",
            "\n"
          ]
        },
        {
          "output_type": "stream",
          "name": "stderr",
          "text": [
            " 10%|▉         | 190/2000 [00:49<07:53,  3.83it/s]\n"
          ]
        },
        {
          "output_type": "stream",
          "name": "stdout",
          "text": [
            "Training interrupted by early stopping!\n",
            "Total epochs run: 191\n",
            "Best model found at epoch 115 with valid loss 10.468898713588715 and training loss 48.77038437128067\n",
            "Total training time: 0:00:49.694563\n",
            "----------Tentativas sem melhora: 3, Desligando...\n",
            "\n",
            "\n",
            "\n",
            "--------------------\n",
            "Total training time: 0:51:11.340589\n",
            "----------\n",
            "Camadas: 5\n",
            "----------Learning rate: 0.5 ; Batch size: 100\n",
            "Weight Decay: 1e-07 ; Probabilidades de desligamento:0.25\n",
            "----------\n",
            "\n"
          ]
        },
        {
          "output_type": "stream",
          "name": "stderr",
          "text": [
            "  4%|▍         | 81/2000 [00:18<07:12,  4.44it/s]\n"
          ]
        },
        {
          "output_type": "stream",
          "name": "stdout",
          "text": [
            "Training interrupted by early stopping!\n",
            "Total epochs run: 82\n",
            "Best model found at epoch 6 with valid loss 12.15892630815506 and training loss 56.00061172246933\n",
            "Total training time: 0:00:18.270330\n",
            "----------\n",
            "Camadas: 6\n",
            "----------Learning rate: 0.5 ; Batch size: 100\n",
            "Weight Decay: 1e-07 ; Probabilidades de desligamento:0.25\n",
            "----------\n",
            "\n"
          ]
        },
        {
          "output_type": "stream",
          "name": "stderr",
          "text": [
            "  4%|▍         | 77/2000 [00:18<07:39,  4.19it/s]\n"
          ]
        },
        {
          "output_type": "stream",
          "name": "stdout",
          "text": [
            "Training interrupted by early stopping!\n",
            "Total epochs run: 78\n",
            "Best model found at epoch 2 with valid loss 12.15892630815506 and training loss 52.40182089805603\n",
            "Total training time: 0:00:18.405646\n",
            "----------\n",
            "Camadas: 7\n",
            "----------Learning rate: 0.5 ; Batch size: 100\n",
            "Weight Decay: 1e-07 ; Probabilidades de desligamento:0.25\n",
            "----------\n",
            "\n"
          ]
        },
        {
          "output_type": "stream",
          "name": "stderr",
          "text": [
            "  9%|▉         | 188/2000 [00:50<08:07,  3.72it/s]\n"
          ]
        },
        {
          "output_type": "stream",
          "name": "stdout",
          "text": [
            "Training interrupted by early stopping!\n",
            "Total epochs run: 189\n",
            "Best model found at epoch 113 with valid loss 10.468898713588715 and training loss 48.77038472890854\n",
            "Total training time: 0:00:50.573266\n",
            "----------Tentativas sem melhora: 3, Desligando...\n",
            "\n",
            "\n",
            "\n",
            "--------------------\n",
            "Total training time: 0:52:40.033625\n",
            "----------\n",
            "Camadas: 5\n",
            "----------Learning rate: 0.5 ; Batch size: 100\n",
            "Weight Decay: 1e-07 ; Probabilidades de desligamento:0.125\n",
            "----------\n",
            "\n"
          ]
        },
        {
          "output_type": "stream",
          "name": "stderr",
          "text": [
            "  6%|▋         | 130/2000 [00:36<08:45,  3.56it/s]\n"
          ]
        },
        {
          "output_type": "stream",
          "name": "stdout",
          "text": [
            "Training interrupted by early stopping!\n",
            "Total epochs run: 131\n",
            "Best model found at epoch 55 with valid loss 12.15892630815506 and training loss 56.59783732891083\n",
            "Total training time: 0:00:36.557590\n",
            "----------\n",
            "Camadas: 6\n",
            "----------Learning rate: 0.5 ; Batch size: 100\n",
            "Weight Decay: 1e-07 ; Probabilidades de desligamento:0.125\n",
            "----------\n",
            "\n"
          ]
        },
        {
          "output_type": "stream",
          "name": "stderr",
          "text": [
            "  4%|▍         | 76/2000 [00:19<08:25,  3.81it/s]\n"
          ]
        },
        {
          "output_type": "stream",
          "name": "stdout",
          "text": [
            "Training interrupted by early stopping!\n",
            "Total epochs run: 77\n",
            "Best model found at epoch 1 with valid loss 12.15892630815506 and training loss 55.598192632198334\n",
            "Total training time: 0:00:19.980901\n",
            "----------\n",
            "Camadas: 7\n",
            "----------Learning rate: 0.5 ; Batch size: 100\n",
            "Weight Decay: 1e-07 ; Probabilidades de desligamento:0.125\n",
            "----------\n",
            "\n"
          ]
        },
        {
          "output_type": "stream",
          "name": "stderr",
          "text": [
            "  6%|▌         | 117/2000 [00:31<08:33,  3.67it/s]\n"
          ]
        },
        {
          "output_type": "stream",
          "name": "stdout",
          "text": [
            "Training interrupted by early stopping!\n",
            "Total epochs run: 118\n",
            "Best model found at epoch 42 with valid loss 10.396995842456818 and training loss 48.806906938552856\n",
            "Total training time: 0:00:31.898249\n",
            "----------Tentativas sem melhora: 3, Desligando...\n",
            "\n",
            "\n",
            "\n",
            "--------------------\n",
            "Total training time: 0:54:10.003131\n",
            "----------\n",
            "Camadas: 5\n",
            "----------Learning rate: 0.5 ; Batch size: 100\n",
            "Weight Decay: 1e-07 ; Probabilidades de desligamento:0.062\n",
            "----------\n",
            "\n"
          ]
        },
        {
          "output_type": "stream",
          "name": "stderr",
          "text": [
            "  4%|▍         | 76/2000 [00:20<08:32,  3.76it/s]\n"
          ]
        },
        {
          "output_type": "stream",
          "name": "stdout",
          "text": [
            "Training interrupted by early stopping!\n",
            "Total epochs run: 77\n",
            "Best model found at epoch 1 with valid loss 12.15892630815506 and training loss 56.52614551782608\n",
            "Total training time: 0:00:20.262840\n",
            "----------\n",
            "Camadas: 6\n",
            "----------Learning rate: 0.5 ; Batch size: 100\n",
            "Weight Decay: 1e-07 ; Probabilidades de desligamento:0.062\n",
            "----------\n",
            "\n"
          ]
        },
        {
          "output_type": "stream",
          "name": "stderr",
          "text": [
            "  4%|▍         | 76/2000 [00:19<08:16,  3.87it/s]\n"
          ]
        },
        {
          "output_type": "stream",
          "name": "stdout",
          "text": [
            "Training interrupted by early stopping!\n",
            "Total epochs run: 77\n",
            "Best model found at epoch 1 with valid loss 12.238926231861115 and training loss 57.031224489212036\n",
            "Total training time: 0:00:19.631098\n",
            "----------\n",
            "Camadas: 7\n",
            "----------Learning rate: 0.5 ; Batch size: 100\n",
            "Weight Decay: 1e-07 ; Probabilidades de desligamento:0.062\n",
            "----------\n",
            "\n"
          ]
        },
        {
          "output_type": "stream",
          "name": "stderr",
          "text": [
            " 10%|█         | 204/2000 [00:51<07:35,  3.94it/s]\n"
          ]
        },
        {
          "output_type": "stream",
          "name": "stdout",
          "text": [
            "Training interrupted by early stopping!\n",
            "Total epochs run: 205\n",
            "Best model found at epoch 129 with valid loss 10.397008001804352 and training loss 48.80468660593033\n",
            "Total training time: 0:00:51.736617\n",
            "----------Tentativas sem melhora: 3, Desligando...\n",
            "\n",
            "\n",
            "\n",
            "--------------------\n",
            "Total training time: 0:55:43.103036\n",
            "----------\n",
            "Camadas: 5\n",
            "----------Learning rate: 0.5 ; Batch size: 100\n",
            "Weight Decay: 1e-06 ; Probabilidades de desligamento:0.5\n",
            "----------\n",
            "\n"
          ]
        },
        {
          "output_type": "stream",
          "name": "stderr",
          "text": [
            "  8%|▊         | 151/2000 [00:42<08:38,  3.57it/s]\n"
          ]
        },
        {
          "output_type": "stream",
          "name": "stdout",
          "text": [
            "Training interrupted by early stopping!\n",
            "Total epochs run: 152\n",
            "Best model found at epoch 76 with valid loss 11.004510045051575 and training loss 54.25889194011688\n",
            "Total training time: 0:00:42.362476\n",
            "----------\n",
            "Camadas: 6\n",
            "----------Learning rate: 0.5 ; Batch size: 100\n",
            "Weight Decay: 1e-06 ; Probabilidades de desligamento:0.5\n",
            "----------\n",
            "\n"
          ]
        },
        {
          "output_type": "stream",
          "name": "stderr",
          "text": [
            "  4%|▍         | 76/2000 [00:21<09:15,  3.46it/s]\n"
          ]
        },
        {
          "output_type": "stream",
          "name": "stdout",
          "text": [
            "Training interrupted by early stopping!\n",
            "Total epochs run: 77\n",
            "Best model found at epoch 1 with valid loss 12.15892630815506 and training loss 53.002356708049774\n",
            "Total training time: 0:00:21.948317\n",
            "----------\n",
            "Camadas: 7\n",
            "----------Learning rate: 0.5 ; Batch size: 100\n",
            "Weight Decay: 1e-06 ; Probabilidades de desligamento:0.5\n",
            "----------\n",
            "\n"
          ]
        },
        {
          "output_type": "stream",
          "name": "stderr",
          "text": [
            "  4%|▍         | 78/2000 [00:25<10:21,  3.09it/s]\n"
          ]
        },
        {
          "output_type": "stream",
          "name": "stdout",
          "text": [
            "Training interrupted by early stopping!\n",
            "Total epochs run: 79\n",
            "Best model found at epoch 3 with valid loss 10.428931295871735 and training loss 48.84347707033157\n",
            "Total training time: 0:00:25.257479\n",
            "----------Tentativas sem melhora: 3, Desligando...\n",
            "\n",
            "\n",
            "\n",
            "--------------------\n",
            "Total training time: 0:57:14.181980\n",
            "----------\n",
            "Camadas: 5\n",
            "----------Learning rate: 0.5 ; Batch size: 100\n",
            "Weight Decay: 1e-06 ; Probabilidades de desligamento:0.25\n",
            "----------\n",
            "\n"
          ]
        },
        {
          "output_type": "stream",
          "name": "stderr",
          "text": [
            "  6%|▌         | 122/2000 [00:37<09:30,  3.29it/s]\n"
          ]
        },
        {
          "output_type": "stream",
          "name": "stdout",
          "text": [
            "Training interrupted by early stopping!\n",
            "Total epochs run: 123\n",
            "Best model found at epoch 47 with valid loss 11.82517284154892 and training loss 55.376210033893585\n",
            "Total training time: 0:00:37.061613\n",
            "----------\n",
            "Camadas: 6\n",
            "----------Learning rate: 0.5 ; Batch size: 100\n",
            "Weight Decay: 1e-06 ; Probabilidades de desligamento:0.25\n",
            "----------\n",
            "\n"
          ]
        },
        {
          "output_type": "stream",
          "name": "stderr",
          "text": [
            "  5%|▌         | 108/2000 [00:34<09:59,  3.16it/s]\n"
          ]
        },
        {
          "output_type": "stream",
          "name": "stdout",
          "text": [
            "Training interrupted by early stopping!\n",
            "Total epochs run: 109\n",
            "Best model found at epoch 33 with valid loss 10.397006034851074 and training loss 50.452590465545654\n",
            "Total training time: 0:00:34.249014\n",
            "----------\n",
            "Camadas: 7\n",
            "----------Learning rate: 0.5 ; Batch size: 100\n",
            "Weight Decay: 1e-06 ; Probabilidades de desligamento:0.25\n",
            "----------\n",
            "\n"
          ]
        },
        {
          "output_type": "stream",
          "name": "stderr",
          "text": [
            "  4%|▍         | 77/2000 [00:25<10:24,  3.08it/s]\n"
          ]
        },
        {
          "output_type": "stream",
          "name": "stdout",
          "text": [
            "Training interrupted by early stopping!\n",
            "Total epochs run: 78\n",
            "Best model found at epoch 2 with valid loss 10.399782538414001 and training loss 51.00318384170532\n",
            "Total training time: 0:00:25.025723\n",
            "----------Tentativas sem melhora: 3, Desligando...\n",
            "\n",
            "\n",
            "\n",
            "--------------------\n",
            "Total training time: 0:58:52.100049\n",
            "----------\n",
            "Camadas: 5\n",
            "----------Learning rate: 0.5 ; Batch size: 100\n",
            "Weight Decay: 1e-06 ; Probabilidades de desligamento:0.125\n",
            "----------\n",
            "\n"
          ]
        },
        {
          "output_type": "stream",
          "name": "stderr",
          "text": [
            "  4%|▍         | 76/2000 [00:27<11:31,  2.78it/s]\n"
          ]
        },
        {
          "output_type": "stream",
          "name": "stdout",
          "text": [
            "Training interrupted by early stopping!\n",
            "Total epochs run: 77\n",
            "Best model found at epoch 1 with valid loss 12.15892630815506 and training loss 56.35449934005737\n",
            "Total training time: 0:00:27.323704\n",
            "----------\n",
            "Camadas: 6\n",
            "----------Learning rate: 0.5 ; Batch size: 100\n",
            "Weight Decay: 1e-06 ; Probabilidades de desligamento:0.125\n",
            "----------\n",
            "\n"
          ]
        },
        {
          "output_type": "stream",
          "name": "stderr",
          "text": [
            "  6%|▌         | 117/2000 [00:39<10:29,  2.99it/s]\n"
          ]
        },
        {
          "output_type": "stream",
          "name": "stdout",
          "text": [
            "Training interrupted by early stopping!\n",
            "Total epochs run: 118\n",
            "Best model found at epoch 42 with valid loss 10.397507011890411 and training loss 51.92895287275314\n",
            "Total training time: 0:00:39.114097\n",
            "----------\n",
            "Camadas: 7\n",
            "----------Learning rate: 0.5 ; Batch size: 100\n",
            "Weight Decay: 1e-06 ; Probabilidades de desligamento:0.125\n",
            "----------\n",
            "\n"
          ]
        },
        {
          "output_type": "stream",
          "name": "stderr",
          "text": [
            "  7%|▋         | 140/2000 [00:50<11:16,  2.75it/s]\n"
          ]
        },
        {
          "output_type": "stream",
          "name": "stdout",
          "text": [
            "Training interrupted by early stopping!\n",
            "Total epochs run: 141\n",
            "Best model found at epoch 65 with valid loss 10.43825489282608 and training loss 48.77650862932205\n",
            "Total training time: 0:00:50.969002\n",
            "----------Tentativas sem melhora: 3, Desligando...\n",
            "\n",
            "\n",
            "\n",
            "--------------------\n",
            "Total training time: 1:00:51.109416\n",
            "----------\n",
            "Camadas: 5\n",
            "----------Learning rate: 0.5 ; Batch size: 100\n",
            "Weight Decay: 1e-06 ; Probabilidades de desligamento:0.062\n",
            "----------\n",
            "\n"
          ]
        },
        {
          "output_type": "stream",
          "name": "stderr",
          "text": [
            "  4%|▍         | 76/2000 [00:22<09:29,  3.38it/s]\n"
          ]
        },
        {
          "output_type": "stream",
          "name": "stdout",
          "text": [
            "Training interrupted by early stopping!\n",
            "Total epochs run: 77\n",
            "Best model found at epoch 1 with valid loss 12.15892630815506 and training loss 56.432725608348846\n",
            "Total training time: 0:00:22.503969\n",
            "----------\n",
            "Camadas: 6\n",
            "----------Learning rate: 0.5 ; Batch size: 100\n",
            "Weight Decay: 1e-06 ; Probabilidades de desligamento:0.062\n",
            "----------\n",
            "\n"
          ]
        },
        {
          "output_type": "stream",
          "name": "stderr",
          "text": [
            "  7%|▋         | 140/2000 [00:42<09:18,  3.33it/s]\n"
          ]
        },
        {
          "output_type": "stream",
          "name": "stdout",
          "text": [
            "Training interrupted by early stopping!\n",
            "Total epochs run: 141\n",
            "Best model found at epoch 65 with valid loss 10.396999895572662 and training loss 48.80641335248947\n",
            "Total training time: 0:00:42.052767\n",
            "----------\n",
            "Camadas: 7\n",
            "----------Learning rate: 0.5 ; Batch size: 100\n",
            "Weight Decay: 1e-06 ; Probabilidades de desligamento:0.062\n",
            "----------\n",
            "\n"
          ]
        },
        {
          "output_type": "stream",
          "name": "stderr",
          "text": [
            "  9%|▉         | 179/2000 [01:16<12:57,  2.34it/s]\n"
          ]
        },
        {
          "output_type": "stream",
          "name": "stdout",
          "text": [
            "Training interrupted by early stopping!\n",
            "Total epochs run: 180\n",
            "Best model found at epoch 104 with valid loss 10.464930772781372 and training loss 48.74803274869919\n",
            "Total training time: 0:01:16.435618\n",
            "----------Tentativas sem melhora: 3, Desligando...\n",
            "\n",
            "\n",
            "\n",
            "--------------------\n",
            "Total training time: 1:03:13.720620\n",
            "----------\n",
            "Camadas: 5\n",
            "----------Learning rate: 0.5 ; Batch size: 100\n",
            "Weight Decay: 1e-05 ; Probabilidades de desligamento:0.5\n",
            "----------\n",
            "\n"
          ]
        },
        {
          "output_type": "stream",
          "name": "stderr",
          "text": [
            "  8%|▊         | 154/2000 [00:42<08:32,  3.60it/s]\n"
          ]
        },
        {
          "output_type": "stream",
          "name": "stdout",
          "text": [
            "Training interrupted by early stopping!\n",
            "Total epochs run: 155\n",
            "Best model found at epoch 79 with valid loss 10.408889889717102 and training loss 53.769644141197205\n",
            "Total training time: 0:00:42.793744\n",
            "----------\n",
            "Camadas: 6\n",
            "----------Learning rate: 0.5 ; Batch size: 100\n",
            "Weight Decay: 1e-05 ; Probabilidades de desligamento:0.5\n",
            "----------\n",
            "\n"
          ]
        },
        {
          "output_type": "stream",
          "name": "stderr",
          "text": [
            "  7%|▋         | 140/2000 [00:40<09:04,  3.41it/s]\n"
          ]
        },
        {
          "output_type": "stream",
          "name": "stdout",
          "text": [
            "Training interrupted by early stopping!\n",
            "Total epochs run: 141\n",
            "Best model found at epoch 65 with valid loss 10.935009777545929 and training loss 51.89860612154007\n",
            "Total training time: 0:00:41.013957\n",
            "----------\n",
            "Camadas: 7\n",
            "----------Learning rate: 0.5 ; Batch size: 100\n",
            "Weight Decay: 1e-05 ; Probabilidades de desligamento:0.5\n",
            "----------\n",
            "\n"
          ]
        },
        {
          "output_type": "stream",
          "name": "stderr",
          "text": [
            "  4%|▍         | 77/2000 [00:24<10:10,  3.15it/s]\n"
          ]
        },
        {
          "output_type": "stream",
          "name": "stdout",
          "text": [
            "Training interrupted by early stopping!\n",
            "Total epochs run: 78\n",
            "Best model found at epoch 2 with valid loss 10.418465316295624 and training loss 49.59675979614258\n",
            "Total training time: 0:00:24.448061\n",
            "----------Tentativas sem melhora: 3, Desligando...\n",
            "\n",
            "\n",
            "\n",
            "--------------------\n",
            "Total training time: 1:05:03.633524\n",
            "----------\n",
            "Camadas: 5\n",
            "----------Learning rate: 0.5 ; Batch size: 100\n",
            "Weight Decay: 1e-05 ; Probabilidades de desligamento:0.25\n",
            "----------\n",
            "\n"
          ]
        },
        {
          "output_type": "stream",
          "name": "stderr",
          "text": [
            "  3%|▎         | 54/2000 [00:14<08:45,  3.70it/s]\n"
          ]
        },
        {
          "output_type": "error",
          "ename": "KeyboardInterrupt",
          "evalue": "ignored",
          "traceback": [
            "\u001b[0;31m---------------------------------------------------------------------------\u001b[0m",
            "\u001b[0;31mKeyboardInterrupt\u001b[0m                         Traceback (most recent call last)",
            "\u001b[0;32m<ipython-input-7-74cf822c4600>\u001b[0m in \u001b[0;36m<module>\u001b[0;34m\u001b[0m\n\u001b[0;32m----> 1\u001b[0;31m best_valid_loss, total_accuracy, best_model = run_models(df, 3, '../atp1',\n\u001b[0m\u001b[1;32m      2\u001b[0m             \u001b[0mnum_neuronios\u001b[0m\u001b[0;34m=\u001b[0m \u001b[0;34m[\u001b[0m\u001b[0;36m96\u001b[0m\u001b[0;34m,\u001b[0m \u001b[0;36m112\u001b[0m\u001b[0;34m,\u001b[0m \u001b[0;36m128\u001b[0m\u001b[0;34m,\u001b[0m \u001b[0;36m144\u001b[0m\u001b[0;34m,\u001b[0m \u001b[0;36m160\u001b[0m\u001b[0;34m]\u001b[0m\u001b[0;34m,\u001b[0m\u001b[0;34m\u001b[0m\u001b[0;34m\u001b[0m\u001b[0m\n\u001b[1;32m      3\u001b[0m             \u001b[0mprobs_desligar\u001b[0m\u001b[0;34m=\u001b[0m \u001b[0;34m[\u001b[0m\u001b[0;36m.5\u001b[0m\u001b[0;34m,\u001b[0m \u001b[0;36m.25\u001b[0m\u001b[0;34m,\u001b[0m \u001b[0;36m.125\u001b[0m\u001b[0;34m,\u001b[0m \u001b[0;36m.062\u001b[0m\u001b[0;34m]\u001b[0m\u001b[0;34m,\u001b[0m\u001b[0;34m\u001b[0m\u001b[0;34m\u001b[0m\u001b[0m\n\u001b[1;32m      4\u001b[0m             \u001b[0mweight_decays\u001b[0m\u001b[0;34m=\u001b[0m \u001b[0;34m[\u001b[0m\u001b[0;36m1e-7\u001b[0m\u001b[0;34m,\u001b[0m \u001b[0;36m1e-6\u001b[0m\u001b[0;34m,\u001b[0m \u001b[0;36m1e-5\u001b[0m\u001b[0;34m,\u001b[0m \u001b[0;36m1e-4\u001b[0m\u001b[0;34m]\u001b[0m\u001b[0;34m,\u001b[0m\u001b[0;34m\u001b[0m\u001b[0;34m\u001b[0m\u001b[0m\n\u001b[1;32m      5\u001b[0m             \u001b[0mnum_layers\u001b[0m \u001b[0;34m=\u001b[0m \u001b[0;34m[\u001b[0m\u001b[0;36m5\u001b[0m\u001b[0;34m,\u001b[0m \u001b[0;36m6\u001b[0m\u001b[0;34m,\u001b[0m \u001b[0;36m7\u001b[0m\u001b[0;34m,\u001b[0m \u001b[0;36m8\u001b[0m\u001b[0;34m,\u001b[0m \u001b[0;36m9\u001b[0m\u001b[0;34m]\u001b[0m\u001b[0;34m,\u001b[0m\u001b[0;34m\u001b[0m\u001b[0;34m\u001b[0m\u001b[0m\n",
            "\u001b[0;32m<ipython-input-5-a02a1b85a319>\u001b[0m in \u001b[0;36mrun_models\u001b[0;34m(dataset, input_features, best_model_path, num_neuronios, probs_desligar, weight_decays, num_layers, learning_rates, run_batch_sizes, run_epochs, run_early_stopping_epochs, best_global_model)\u001b[0m\n\u001b[1;32m     18\u001b[0m   \u001b[0mcriterion\u001b[0m \u001b[0;34m=\u001b[0m \u001b[0mnn\u001b[0m\u001b[0;34m.\u001b[0m\u001b[0mCrossEntropyLoss\u001b[0m\u001b[0;34m(\u001b[0m\u001b[0;34m)\u001b[0m\u001b[0;34m\u001b[0m\u001b[0;34m\u001b[0m\u001b[0m\n\u001b[1;32m     19\u001b[0m \u001b[0;34m\u001b[0m\u001b[0m\n\u001b[0;32m---> 20\u001b[0;31m   \u001b[0;32mreturn\u001b[0m \u001b[0mrunner\u001b[0m\u001b[0;34m.\u001b[0m\u001b[0mregressao\u001b[0m\u001b[0;34m(\u001b[0m\u001b[0mcriterion\u001b[0m\u001b[0;34m,\u001b[0m \u001b[0mbest_model_path\u001b[0m\u001b[0;34m,\u001b[0m \u001b[0mbest_global_model\u001b[0m\u001b[0;34m)\u001b[0m\u001b[0;34m\u001b[0m\u001b[0;34m\u001b[0m\u001b[0m\n\u001b[0m",
            "\u001b[0;32m<ipython-input-4-9d06c6d73508>\u001b[0m in \u001b[0;36mregressao\u001b[0;34m(self, criterion, best_model_path, best_global_model, input_size)\u001b[0m\n\u001b[1;32m     66\u001b[0m \u001b[0;34m\u001b[0m\u001b[0m\n\u001b[1;32m     67\u001b[0m             \u001b[0mt\u001b[0m \u001b[0;34m=\u001b[0m \u001b[0mTreinamento\u001b[0m\u001b[0;34m(\u001b[0m\u001b[0mself\u001b[0m\u001b[0;34m.\u001b[0m\u001b[0mdataset\u001b[0m\u001b[0;34m,\u001b[0m \u001b[0mself\u001b[0m\u001b[0;34m.\u001b[0m\u001b[0mepochs\u001b[0m\u001b[0;34m,\u001b[0m \u001b[0mbatch_size\u001b[0m\u001b[0;34m,\u001b[0m \u001b[0mself\u001b[0m\u001b[0;34m.\u001b[0m\u001b[0mearly_stopping_epochs\u001b[0m\u001b[0;34m)\u001b[0m\u001b[0;34m\u001b[0m\u001b[0;34m\u001b[0m\u001b[0m\n\u001b[0;32m---> 68\u001b[0;31m             \u001b[0mmodel\u001b[0m\u001b[0;34m,\u001b[0m \u001b[0mtrain_loss\u001b[0m\u001b[0;34m,\u001b[0m \u001b[0mvalid_loss\u001b[0m \u001b[0;34m=\u001b[0m \u001b[0mt\u001b[0m\u001b[0;34m.\u001b[0m\u001b[0mtrain_linear\u001b[0m\u001b[0;34m(\u001b[0m\u001b[0mmodel\u001b[0m\u001b[0;34m,\u001b[0m \u001b[0moptimizer\u001b[0m\u001b[0;34m,\u001b[0m \u001b[0mcriterion\u001b[0m\u001b[0;34m)\u001b[0m\u001b[0;34m\u001b[0m\u001b[0;34m\u001b[0m\u001b[0m\n\u001b[0m\u001b[1;32m     69\u001b[0m \u001b[0;34m\u001b[0m\u001b[0m\n\u001b[1;32m     70\u001b[0m             \u001b[0mp\u001b[0m \u001b[0;34m=\u001b[0m \u001b[0mPlots\u001b[0m\u001b[0;34m(\u001b[0m\u001b[0;34m)\u001b[0m\u001b[0;34m\u001b[0m\u001b[0;34m\u001b[0m\u001b[0m\n",
            "\u001b[0;32m/content/deep-learning/Treinamento.py\u001b[0m in \u001b[0;36mtrain_linear\u001b[0;34m(self, model, optimizer, criterion)\u001b[0m\n\u001b[1;32m    142\u001b[0m             \u001b[0mzip_batch_train\u001b[0m    \u001b[0;34m=\u001b[0m \u001b[0mzip\u001b[0m\u001b[0;34m(\u001b[0m\u001b[0mself\u001b[0m\u001b[0;34m.\u001b[0m\u001b[0mget_batches\u001b[0m\u001b[0;34m(\u001b[0m\u001b[0mX_train1\u001b[0m\u001b[0;34m,\u001b[0m \u001b[0mself\u001b[0m\u001b[0;34m.\u001b[0m\u001b[0mbatch_size\u001b[0m\u001b[0;34m)\u001b[0m\u001b[0;34m,\u001b[0m \u001b[0mself\u001b[0m\u001b[0;34m.\u001b[0m\u001b[0mget_batches\u001b[0m\u001b[0;34m(\u001b[0m\u001b[0my_train1\u001b[0m\u001b[0;34m,\u001b[0m \u001b[0mself\u001b[0m\u001b[0;34m.\u001b[0m\u001b[0mbatch_size\u001b[0m\u001b[0;34m)\u001b[0m\u001b[0;34m)\u001b[0m\u001b[0;34m\u001b[0m\u001b[0;34m\u001b[0m\u001b[0m\n\u001b[1;32m    143\u001b[0m \u001b[0;34m\u001b[0m\u001b[0m\n\u001b[0;32m--> 144\u001b[0;31m             _, acc_train_loss = self.train_loss(X_train1, y_train1,\n\u001b[0m\u001b[1;32m    145\u001b[0m                                                 \u001b[0mzip_batch_train\u001b[0m\u001b[0;34m,\u001b[0m\u001b[0;34m\u001b[0m\u001b[0;34m\u001b[0m\u001b[0m\n\u001b[1;32m    146\u001b[0m                                                 \u001b[0moptimizer\u001b[0m\u001b[0;34m,\u001b[0m\u001b[0;34m\u001b[0m\u001b[0;34m\u001b[0m\u001b[0m\n",
            "\u001b[0;32m/content/deep-learning/Treinamento.py\u001b[0m in \u001b[0;36mtrain_loss\u001b[0;34m(self, X_train, y_train, zip_batch, optimizer, criterion, model)\u001b[0m\n\u001b[1;32m     87\u001b[0m             \u001b[0;31m# Backprop\u001b[0m\u001b[0;34m\u001b[0m\u001b[0;34m\u001b[0m\u001b[0;34m\u001b[0m\u001b[0m\n\u001b[1;32m     88\u001b[0m             \u001b[0mloss\u001b[0m\u001b[0;34m.\u001b[0m\u001b[0mbackward\u001b[0m\u001b[0;34m(\u001b[0m\u001b[0;34m)\u001b[0m\u001b[0;34m\u001b[0m\u001b[0;34m\u001b[0m\u001b[0m\n\u001b[0;32m---> 89\u001b[0;31m             \u001b[0moptimizer\u001b[0m\u001b[0;34m.\u001b[0m\u001b[0mstep\u001b[0m\u001b[0;34m(\u001b[0m\u001b[0;34m)\u001b[0m\u001b[0;34m\u001b[0m\u001b[0;34m\u001b[0m\u001b[0m\n\u001b[0m\u001b[1;32m     90\u001b[0m \u001b[0;34m\u001b[0m\u001b[0m\n\u001b[1;32m     91\u001b[0m             \u001b[0macc_train_loss\u001b[0m \u001b[0;34m+=\u001b[0m \u001b[0mloss\u001b[0m\u001b[0;34m.\u001b[0m\u001b[0mitem\u001b[0m\u001b[0;34m(\u001b[0m\u001b[0;34m)\u001b[0m\u001b[0;34m\u001b[0m\u001b[0;34m\u001b[0m\u001b[0m\n",
            "\u001b[0;32m/usr/local/lib/python3.8/dist-packages/torch/optim/optimizer.py\u001b[0m in \u001b[0;36mwrapper\u001b[0;34m(*args, **kwargs)\u001b[0m\n\u001b[1;32m    138\u001b[0m                 \u001b[0mprofile_name\u001b[0m \u001b[0;34m=\u001b[0m \u001b[0;34m\"Optimizer.step#{}.step\"\u001b[0m\u001b[0;34m.\u001b[0m\u001b[0mformat\u001b[0m\u001b[0;34m(\u001b[0m\u001b[0mobj\u001b[0m\u001b[0;34m.\u001b[0m\u001b[0m__class__\u001b[0m\u001b[0;34m.\u001b[0m\u001b[0m__name__\u001b[0m\u001b[0;34m)\u001b[0m\u001b[0;34m\u001b[0m\u001b[0;34m\u001b[0m\u001b[0m\n\u001b[1;32m    139\u001b[0m                 \u001b[0;32mwith\u001b[0m \u001b[0mtorch\u001b[0m\u001b[0;34m.\u001b[0m\u001b[0mautograd\u001b[0m\u001b[0;34m.\u001b[0m\u001b[0mprofiler\u001b[0m\u001b[0;34m.\u001b[0m\u001b[0mrecord_function\u001b[0m\u001b[0;34m(\u001b[0m\u001b[0mprofile_name\u001b[0m\u001b[0;34m)\u001b[0m\u001b[0;34m:\u001b[0m\u001b[0;34m\u001b[0m\u001b[0;34m\u001b[0m\u001b[0m\n\u001b[0;32m--> 140\u001b[0;31m                     \u001b[0mout\u001b[0m \u001b[0;34m=\u001b[0m \u001b[0mfunc\u001b[0m\u001b[0;34m(\u001b[0m\u001b[0;34m*\u001b[0m\u001b[0margs\u001b[0m\u001b[0;34m,\u001b[0m \u001b[0;34m**\u001b[0m\u001b[0mkwargs\u001b[0m\u001b[0;34m)\u001b[0m\u001b[0;34m\u001b[0m\u001b[0;34m\u001b[0m\u001b[0m\n\u001b[0m\u001b[1;32m    141\u001b[0m                     \u001b[0mobj\u001b[0m\u001b[0;34m.\u001b[0m\u001b[0m_optimizer_step_code\u001b[0m\u001b[0;34m(\u001b[0m\u001b[0;34m)\u001b[0m\u001b[0;34m\u001b[0m\u001b[0;34m\u001b[0m\u001b[0m\n\u001b[1;32m    142\u001b[0m                     \u001b[0;32mreturn\u001b[0m \u001b[0mout\u001b[0m\u001b[0;34m\u001b[0m\u001b[0;34m\u001b[0m\u001b[0m\n",
            "\u001b[0;32m/usr/local/lib/python3.8/dist-packages/torch/optim/optimizer.py\u001b[0m in \u001b[0;36m_use_grad\u001b[0;34m(self, *args, **kwargs)\u001b[0m\n\u001b[1;32m     21\u001b[0m         \u001b[0;32mtry\u001b[0m\u001b[0;34m:\u001b[0m\u001b[0;34m\u001b[0m\u001b[0;34m\u001b[0m\u001b[0m\n\u001b[1;32m     22\u001b[0m             \u001b[0mtorch\u001b[0m\u001b[0;34m.\u001b[0m\u001b[0mset_grad_enabled\u001b[0m\u001b[0;34m(\u001b[0m\u001b[0mself\u001b[0m\u001b[0;34m.\u001b[0m\u001b[0mdefaults\u001b[0m\u001b[0;34m[\u001b[0m\u001b[0;34m'differentiable'\u001b[0m\u001b[0;34m]\u001b[0m\u001b[0;34m)\u001b[0m\u001b[0;34m\u001b[0m\u001b[0;34m\u001b[0m\u001b[0m\n\u001b[0;32m---> 23\u001b[0;31m             \u001b[0mret\u001b[0m \u001b[0;34m=\u001b[0m \u001b[0mfunc\u001b[0m\u001b[0;34m(\u001b[0m\u001b[0mself\u001b[0m\u001b[0;34m,\u001b[0m \u001b[0;34m*\u001b[0m\u001b[0margs\u001b[0m\u001b[0;34m,\u001b[0m \u001b[0;34m**\u001b[0m\u001b[0mkwargs\u001b[0m\u001b[0;34m)\u001b[0m\u001b[0;34m\u001b[0m\u001b[0;34m\u001b[0m\u001b[0m\n\u001b[0m\u001b[1;32m     24\u001b[0m         \u001b[0;32mfinally\u001b[0m\u001b[0;34m:\u001b[0m\u001b[0;34m\u001b[0m\u001b[0;34m\u001b[0m\u001b[0m\n\u001b[1;32m     25\u001b[0m             \u001b[0mtorch\u001b[0m\u001b[0;34m.\u001b[0m\u001b[0mset_grad_enabled\u001b[0m\u001b[0;34m(\u001b[0m\u001b[0mprev_grad\u001b[0m\u001b[0;34m)\u001b[0m\u001b[0;34m\u001b[0m\u001b[0;34m\u001b[0m\u001b[0m\n",
            "\u001b[0;32m/usr/local/lib/python3.8/dist-packages/torch/optim/adam.py\u001b[0m in \u001b[0;36mstep\u001b[0;34m(self, closure, grad_scaler)\u001b[0m\n\u001b[1;32m    232\u001b[0m                     \u001b[0mstate_steps\u001b[0m\u001b[0;34m.\u001b[0m\u001b[0mappend\u001b[0m\u001b[0;34m(\u001b[0m\u001b[0mstate\u001b[0m\u001b[0;34m[\u001b[0m\u001b[0;34m'step'\u001b[0m\u001b[0;34m]\u001b[0m\u001b[0;34m)\u001b[0m\u001b[0;34m\u001b[0m\u001b[0;34m\u001b[0m\u001b[0m\n\u001b[1;32m    233\u001b[0m \u001b[0;34m\u001b[0m\u001b[0m\n\u001b[0;32m--> 234\u001b[0;31m             adam(params_with_grad,\n\u001b[0m\u001b[1;32m    235\u001b[0m                  \u001b[0mgrads\u001b[0m\u001b[0;34m,\u001b[0m\u001b[0;34m\u001b[0m\u001b[0;34m\u001b[0m\u001b[0m\n\u001b[1;32m    236\u001b[0m                  \u001b[0mexp_avgs\u001b[0m\u001b[0;34m,\u001b[0m\u001b[0;34m\u001b[0m\u001b[0;34m\u001b[0m\u001b[0m\n",
            "\u001b[0;32m/usr/local/lib/python3.8/dist-packages/torch/optim/adam.py\u001b[0m in \u001b[0;36madam\u001b[0;34m(params, grads, exp_avgs, exp_avg_sqs, max_exp_avg_sqs, state_steps, foreach, capturable, differentiable, fused, grad_scale, found_inf, amsgrad, beta1, beta2, lr, weight_decay, eps, maximize)\u001b[0m\n\u001b[1;32m    298\u001b[0m         \u001b[0mfunc\u001b[0m \u001b[0;34m=\u001b[0m \u001b[0m_single_tensor_adam\u001b[0m\u001b[0;34m\u001b[0m\u001b[0;34m\u001b[0m\u001b[0m\n\u001b[1;32m    299\u001b[0m \u001b[0;34m\u001b[0m\u001b[0m\n\u001b[0;32m--> 300\u001b[0;31m     func(params,\n\u001b[0m\u001b[1;32m    301\u001b[0m          \u001b[0mgrads\u001b[0m\u001b[0;34m,\u001b[0m\u001b[0;34m\u001b[0m\u001b[0;34m\u001b[0m\u001b[0m\n\u001b[1;32m    302\u001b[0m          \u001b[0mexp_avgs\u001b[0m\u001b[0;34m,\u001b[0m\u001b[0;34m\u001b[0m\u001b[0;34m\u001b[0m\u001b[0m\n",
            "\u001b[0;32m/usr/local/lib/python3.8/dist-packages/torch/optim/adam.py\u001b[0m in \u001b[0;36m_single_tensor_adam\u001b[0;34m(params, grads, exp_avgs, exp_avg_sqs, max_exp_avg_sqs, state_steps, grad_scale, found_inf, amsgrad, beta1, beta2, lr, weight_decay, eps, maximize, capturable, differentiable)\u001b[0m\n\u001b[1;32m    362\u001b[0m         \u001b[0;31m# Decay the first and second moment running average coefficient\u001b[0m\u001b[0;34m\u001b[0m\u001b[0;34m\u001b[0m\u001b[0;34m\u001b[0m\u001b[0m\n\u001b[1;32m    363\u001b[0m         \u001b[0mexp_avg\u001b[0m\u001b[0;34m.\u001b[0m\u001b[0mmul_\u001b[0m\u001b[0;34m(\u001b[0m\u001b[0mbeta1\u001b[0m\u001b[0;34m)\u001b[0m\u001b[0;34m.\u001b[0m\u001b[0madd_\u001b[0m\u001b[0;34m(\u001b[0m\u001b[0mgrad\u001b[0m\u001b[0;34m,\u001b[0m \u001b[0malpha\u001b[0m\u001b[0;34m=\u001b[0m\u001b[0;36m1\u001b[0m \u001b[0;34m-\u001b[0m \u001b[0mbeta1\u001b[0m\u001b[0;34m)\u001b[0m\u001b[0;34m\u001b[0m\u001b[0;34m\u001b[0m\u001b[0m\n\u001b[0;32m--> 364\u001b[0;31m         \u001b[0mexp_avg_sq\u001b[0m\u001b[0;34m.\u001b[0m\u001b[0mmul_\u001b[0m\u001b[0;34m(\u001b[0m\u001b[0mbeta2\u001b[0m\u001b[0;34m)\u001b[0m\u001b[0;34m.\u001b[0m\u001b[0maddcmul_\u001b[0m\u001b[0;34m(\u001b[0m\u001b[0mgrad\u001b[0m\u001b[0;34m,\u001b[0m \u001b[0mgrad\u001b[0m\u001b[0;34m.\u001b[0m\u001b[0mconj\u001b[0m\u001b[0;34m(\u001b[0m\u001b[0;34m)\u001b[0m\u001b[0;34m,\u001b[0m \u001b[0mvalue\u001b[0m\u001b[0;34m=\u001b[0m\u001b[0;36m1\u001b[0m \u001b[0;34m-\u001b[0m \u001b[0mbeta2\u001b[0m\u001b[0;34m)\u001b[0m\u001b[0;34m\u001b[0m\u001b[0;34m\u001b[0m\u001b[0m\n\u001b[0m\u001b[1;32m    365\u001b[0m \u001b[0;34m\u001b[0m\u001b[0m\n\u001b[1;32m    366\u001b[0m         \u001b[0;32mif\u001b[0m \u001b[0mcapturable\u001b[0m \u001b[0;32mor\u001b[0m \u001b[0mdifferentiable\u001b[0m\u001b[0;34m:\u001b[0m\u001b[0;34m\u001b[0m\u001b[0;34m\u001b[0m\u001b[0m\n",
            "\u001b[0;31mKeyboardInterrupt\u001b[0m: "
          ]
        }
      ]
    },
    {
      "cell_type": "markdown",
      "source": [
        "# Tentativas picotadas"
      ],
      "metadata": {
        "id": "B_G1Gnneg759"
      }
    },
    {
      "cell_type": "code",
      "source": [
        "best_valid_loss1, total_accuracy1, best_model1 = run_models(df, 3, '../atp_pic1',\n",
        "            num_neuronios= [96, 112], \n",
        "            probs_desligar= [.5, .25], \n",
        "            weight_decays= [1e-7, 1e-6],\n",
        "            num_layers = [5, 6, 7, 8, 9],\n",
        "            learning_rates = [0.09, 0.05], \n",
        "            run_batch_sizes = [100, 120],\n",
        "            run_epochs = 2000,\n",
        "            run_early_stopping_epochs = 75\n",
        "            )\n",
        "\n",
        "print(best_valid_loss1)\n",
        "print(total_accuracy1)\n",
        "print(best_model1)"
      ],
      "metadata": {
        "colab": {
          "base_uri": "https://localhost:8080/"
        },
        "id": "2AvuPikIgvx-",
        "outputId": "9f907c48-80ef-4b26-b9cb-1728768df40e"
      },
      "execution_count": 8,
      "outputs": [
        {
          "output_type": "stream",
          "name": "stdout",
          "text": [
            "----------\n",
            "Camadas: 5\n",
            "----------Learning rate: 0.09 ; Batch size: 100\n",
            "Weight Decay: 1e-07 ; Probabilidades de desligamento:0.5\n",
            "----------\n",
            "\n"
          ]
        },
        {
          "output_type": "stream",
          "name": "stderr",
          "text": [
            "  4%|▍         | 76/2000 [00:12<05:19,  6.03it/s]\n"
          ]
        },
        {
          "output_type": "stream",
          "name": "stdout",
          "text": [
            "Training interrupted by early stopping!\n",
            "Total epochs run: 77\n",
            "Best model found at epoch 1 with valid loss 12.238926231861115 and training loss 53.89424389600754\n",
            "Total training time: 0:00:12.620230\n",
            "--------------------------------------------------------- New best global model found! ---------------------------------------------------------\n",
            "GeradorRede(\n",
            "  (layers): ModuleList(\n",
            "    (0): Linear(in_features=3, out_features=96, bias=True)\n",
            "    (1): ReLU()\n",
            "    (2): Dropout(p=0.5, inplace=False)\n",
            "    (3): Linear(in_features=96, out_features=48, bias=True)\n",
            "    (4): ReLU()\n",
            "    (5): Dropout(p=0.5, inplace=False)\n",
            "    (6): Linear(in_features=48, out_features=24, bias=True)\n",
            "    (7): ReLU()\n",
            "    (8): Dropout(p=0.5, inplace=False)\n",
            "    (9): Linear(in_features=24, out_features=12, bias=True)\n",
            "    (10): ReLU()\n",
            "    (11): Dropout(p=0.5, inplace=False)\n",
            "    (12): Linear(in_features=12, out_features=6, bias=True)\n",
            "    (13): ReLU()\n",
            "    (14): Dropout(p=0.5, inplace=False)\n",
            "    (15): Linear(in_features=6, out_features=2, bias=True)\n",
            "    (16): Softmax(dim=-1)\n",
            "  )\n",
            ")\n",
            "\n",
            "Validation loss: 12.238926231861115\n",
            "\n",
            "Accuracy: 0.49733333333333335\n",
            "\n",
            "Loss: 0.8159282803535461\n",
            "\n",
            "----------\n",
            "Camadas: 6\n",
            "----------Learning rate: 0.09 ; Batch size: 100\n",
            "Weight Decay: 1e-07 ; Probabilidades de desligamento:0.5\n",
            "----------\n",
            "\n"
          ]
        },
        {
          "output_type": "stream",
          "name": "stderr",
          "text": [
            "  5%|▍         | 91/2000 [00:19<06:40,  4.77it/s]\n"
          ]
        },
        {
          "output_type": "stream",
          "name": "stdout",
          "text": [
            "Training interrupted by early stopping!\n",
            "Total epochs run: 92\n",
            "Best model found at epoch 16 with valid loss 10.419057488441467 and training loss 49.20330232381821\n",
            "Total training time: 0:00:19.105232\n",
            "--------------------------------------------------------- New best global model found! ---------------------------------------------------------\n",
            "GeradorRede(\n",
            "  (layers): ModuleList(\n",
            "    (0): Linear(in_features=3, out_features=96, bias=True)\n",
            "    (1): ReLU()\n",
            "    (2): Dropout(p=0.5, inplace=False)\n",
            "    (3): Linear(in_features=96, out_features=48, bias=True)\n",
            "    (4): ReLU()\n",
            "    (5): Dropout(p=0.5, inplace=False)\n",
            "    (6): Linear(in_features=48, out_features=24, bias=True)\n",
            "    (7): ReLU()\n",
            "    (8): Dropout(p=0.5, inplace=False)\n",
            "    (9): Linear(in_features=24, out_features=12, bias=True)\n",
            "    (10): ReLU()\n",
            "    (11): Dropout(p=0.5, inplace=False)\n",
            "    (12): Linear(in_features=12, out_features=6, bias=True)\n",
            "    (13): ReLU()\n",
            "    (14): Dropout(p=0.5, inplace=False)\n",
            "    (15): Linear(in_features=6, out_features=3, bias=True)\n",
            "    (16): ReLU()\n",
            "    (17): Dropout(p=0.5, inplace=False)\n",
            "    (18): Linear(in_features=3, out_features=2, bias=True)\n",
            "    (19): Softmax(dim=-1)\n",
            "  )\n",
            ")\n",
            "\n",
            "Validation loss: 10.419057488441467\n",
            "\n",
            "Accuracy: 0.5026666666666667\n",
            "\n",
            "Loss: 0.6946038603782654\n",
            "\n",
            "----------\n",
            "Camadas: 7\n",
            "----------Learning rate: 0.09 ; Batch size: 100\n",
            "Weight Decay: 1e-07 ; Probabilidades de desligamento:0.5\n",
            "----------\n",
            "\n"
          ]
        },
        {
          "output_type": "stream",
          "name": "stderr",
          "text": [
            "  4%|▍         | 76/2000 [00:20<08:49,  3.63it/s]\n"
          ]
        },
        {
          "output_type": "stream",
          "name": "stdout",
          "text": [
            "Training interrupted by early stopping!\n",
            "Total epochs run: 77\n",
            "Best model found at epoch 1 with valid loss 10.441394627094269 and training loss 48.77017843723297\n",
            "Total training time: 0:00:20.947486\n",
            "----------\n",
            "Camadas: 8\n",
            "----------Learning rate: 0.09 ; Batch size: 100\n",
            "Weight Decay: 1e-07 ; Probabilidades de desligamento:0.5\n",
            "----------\n",
            "\n"
          ]
        },
        {
          "output_type": "stream",
          "name": "stderr",
          "text": [
            "  4%|▍         | 77/2000 [00:19<08:15,  3.88it/s]\n"
          ]
        },
        {
          "output_type": "stream",
          "name": "stdout",
          "text": [
            "Training interrupted by early stopping!\n",
            "Total epochs run: 78\n",
            "Best model found at epoch 2 with valid loss 10.445758759975433 and training loss 48.63407081365585\n",
            "Total training time: 0:00:19.850268\n",
            "----------\n",
            "Camadas: 9\n",
            "----------Learning rate: 0.09 ; Batch size: 100\n",
            "Weight Decay: 1e-07 ; Probabilidades de desligamento:0.5\n",
            "----------\n",
            "\n"
          ]
        },
        {
          "output_type": "stream",
          "name": "stderr",
          "text": [
            "  4%|▍         | 76/2000 [00:17<07:29,  4.28it/s]\n"
          ]
        },
        {
          "output_type": "stream",
          "name": "stdout",
          "text": [
            "Training interrupted by early stopping!\n",
            "Total epochs run: 77\n",
            "Best model found at epoch 1 with valid loss 10.441900849342346 and training loss 48.699903070926666\n",
            "Total training time: 0:00:17.788625\n",
            "\n",
            "\n",
            "\n",
            "--------------------\n",
            "Total training time: 0:01:32.848610\n",
            "----------\n",
            "Camadas: 5\n",
            "----------Learning rate: 0.09 ; Batch size: 100\n",
            "Weight Decay: 1e-07 ; Probabilidades de desligamento:0.25\n",
            "----------\n",
            "\n"
          ]
        },
        {
          "output_type": "stream",
          "name": "stderr",
          "text": [
            "  8%|▊         | 154/2000 [00:35<07:08,  4.31it/s]\n"
          ]
        },
        {
          "output_type": "stream",
          "name": "stdout",
          "text": [
            "Training interrupted by early stopping!\n",
            "Total epochs run: 155\n",
            "Best model found at epoch 79 with valid loss 10.446064293384552 and training loss 48.63515615463257\n",
            "Total training time: 0:00:35.777870\n",
            "----------\n",
            "Camadas: 6\n",
            "----------Learning rate: 0.09 ; Batch size: 100\n",
            "Weight Decay: 1e-07 ; Probabilidades de desligamento:0.25\n",
            "----------\n",
            "\n"
          ]
        },
        {
          "output_type": "stream",
          "name": "stderr",
          "text": [
            "  4%|▍         | 84/2000 [00:16<06:22,  5.00it/s]\n"
          ]
        },
        {
          "output_type": "stream",
          "name": "stdout",
          "text": [
            "Training interrupted by early stopping!\n",
            "Total epochs run: 85\n",
            "Best model found at epoch 9 with valid loss 10.41244351863861 and training loss 49.28373342752457\n",
            "Total training time: 0:00:16.793410\n",
            "----------\n",
            "Camadas: 7\n",
            "----------Learning rate: 0.09 ; Batch size: 100\n",
            "Weight Decay: 1e-07 ; Probabilidades de desligamento:0.25\n",
            "----------\n",
            "\n"
          ]
        },
        {
          "output_type": "stream",
          "name": "stderr",
          "text": [
            "  4%|▍         | 77/2000 [00:23<09:45,  3.29it/s]\n"
          ]
        },
        {
          "output_type": "stream",
          "name": "stdout",
          "text": [
            "Training interrupted by early stopping!\n",
            "Total epochs run: 78\n",
            "Best model found at epoch 2 with valid loss 10.445875585079193 and training loss 48.634191274642944\n",
            "Total training time: 0:00:23.452057\n",
            "----------Tentativas sem melhora: 3, Desligando...\n",
            "\n",
            "\n",
            "\n",
            "--------------------\n",
            "Total training time: 0:02:50.353137\n",
            "----------\n",
            "Camadas: 5\n",
            "----------Learning rate: 0.09 ; Batch size: 100\n",
            "Weight Decay: 1e-06 ; Probabilidades de desligamento:0.5\n",
            "----------\n",
            "\n"
          ]
        },
        {
          "output_type": "stream",
          "name": "stderr",
          "text": [
            "  4%|▍         | 80/2000 [00:16<06:24,  5.00it/s]\n"
          ]
        },
        {
          "output_type": "stream",
          "name": "stdout",
          "text": [
            "Training interrupted by early stopping!\n",
            "Total epochs run: 81\n",
            "Best model found at epoch 5 with valid loss 10.423141479492188 and training loss 49.821040987968445\n",
            "Total training time: 0:00:16.015562\n",
            "----------\n",
            "Camadas: 6\n",
            "----------Learning rate: 0.09 ; Batch size: 100\n",
            "Weight Decay: 1e-06 ; Probabilidades de desligamento:0.5\n",
            "----------\n",
            "\n"
          ]
        },
        {
          "output_type": "stream",
          "name": "stderr",
          "text": [
            "  6%|▌         | 114/2000 [00:30<08:18,  3.78it/s]\n"
          ]
        },
        {
          "output_type": "stream",
          "name": "stdout",
          "text": [
            "Training interrupted by early stopping!\n",
            "Total epochs run: 115\n",
            "Best model found at epoch 39 with valid loss 10.411087036132812 and training loss 49.6415598988533\n",
            "Total training time: 0:00:30.139585\n",
            "----------\n",
            "Camadas: 7\n",
            "----------Learning rate: 0.09 ; Batch size: 100\n",
            "Weight Decay: 1e-06 ; Probabilidades de desligamento:0.5\n",
            "----------\n",
            "\n"
          ]
        },
        {
          "output_type": "stream",
          "name": "stderr",
          "text": [
            "  8%|▊         | 152/2000 [00:41<08:21,  3.68it/s]\n"
          ]
        },
        {
          "output_type": "stream",
          "name": "stdout",
          "text": [
            "Training interrupted by early stopping!\n",
            "Total epochs run: 153\n",
            "Best model found at epoch 77 with valid loss 10.446064293384552 and training loss 48.6351575255394\n",
            "Total training time: 0:00:41.270760\n",
            "----------Tentativas sem melhora: 3, Desligando...\n",
            "\n",
            "\n",
            "\n",
            "--------------------\n",
            "Total training time: 0:04:19.281958\n",
            "----------\n",
            "Camadas: 5\n",
            "----------Learning rate: 0.09 ; Batch size: 100\n",
            "Weight Decay: 1e-06 ; Probabilidades de desligamento:0.25\n",
            "----------\n",
            "\n"
          ]
        },
        {
          "output_type": "stream",
          "name": "stderr",
          "text": [
            "  4%|▍         | 77/2000 [00:19<08:02,  3.99it/s]\n"
          ]
        },
        {
          "output_type": "stream",
          "name": "stdout",
          "text": [
            "Training interrupted by early stopping!\n",
            "Total epochs run: 78\n",
            "Best model found at epoch 2 with valid loss 10.435213088989258 and training loss 48.631906032562256\n",
            "Total training time: 0:00:19.319076\n",
            "----------\n",
            "Camadas: 6\n",
            "----------Learning rate: 0.09 ; Batch size: 100\n",
            "Weight Decay: 1e-06 ; Probabilidades de desligamento:0.25\n",
            "----------\n",
            "\n"
          ]
        },
        {
          "output_type": "stream",
          "name": "stderr",
          "text": [
            "  4%|▍         | 76/2000 [00:22<09:25,  3.40it/s]\n"
          ]
        },
        {
          "output_type": "stream",
          "name": "stdout",
          "text": [
            "Training interrupted by early stopping!\n",
            "Total epochs run: 77\n",
            "Best model found at epoch 1 with valid loss 10.442163527011871 and training loss 48.78744876384735\n",
            "Total training time: 0:00:22.363925\n",
            "----------\n",
            "Camadas: 7\n",
            "----------Learning rate: 0.09 ; Batch size: 100\n",
            "Weight Decay: 1e-06 ; Probabilidades de desligamento:0.25\n",
            "----------\n",
            "\n"
          ]
        },
        {
          "output_type": "stream",
          "name": "stderr",
          "text": [
            "  4%|▍         | 77/2000 [00:23<09:55,  3.23it/s]\n"
          ]
        },
        {
          "output_type": "stream",
          "name": "stdout",
          "text": [
            "Training interrupted by early stopping!\n",
            "Total epochs run: 78\n",
            "Best model found at epoch 2 with valid loss 10.445165395736694 and training loss 48.63246989250183\n",
            "Total training time: 0:00:23.846835\n",
            "----------Tentativas sem melhora: 3, Desligando...\n",
            "\n",
            "\n",
            "\n",
            "--------------------\n",
            "Total training time: 0:05:26.295896\n",
            "----------\n",
            "Camadas: 5\n",
            "----------Learning rate: 0.09 ; Batch size: 120\n",
            "Weight Decay: 1e-07 ; Probabilidades de desligamento:0.5\n",
            "----------\n",
            "\n"
          ]
        },
        {
          "output_type": "stream",
          "name": "stderr",
          "text": [
            "  4%|▍         | 76/2000 [00:10<04:34,  7.01it/s]\n"
          ]
        },
        {
          "output_type": "stream",
          "name": "stdout",
          "text": [
            "Training interrupted by early stopping!\n",
            "Total epochs run: 77\n",
            "Best model found at epoch 1 with valid loss 9.032615423202515 and training loss 41.58740991353989\n",
            "Total training time: 0:00:10.857251\n",
            "----------\n",
            "Camadas: 6\n",
            "----------Learning rate: 0.09 ; Batch size: 120\n",
            "Weight Decay: 1e-07 ; Probabilidades de desligamento:0.5\n",
            "----------\n",
            "\n"
          ]
        },
        {
          "output_type": "stream",
          "name": "stderr",
          "text": [
            "  4%|▍         | 76/2000 [00:12<05:20,  6.00it/s]\n"
          ]
        },
        {
          "output_type": "stream",
          "name": "stdout",
          "text": [
            "Training interrupted by early stopping!\n",
            "Total epochs run: 77\n",
            "Best model found at epoch 1 with valid loss 9.02877414226532 and training loss 41.5714755654335\n",
            "Total training time: 0:00:12.678959\n",
            "----------\n",
            "Camadas: 7\n",
            "----------Learning rate: 0.09 ; Batch size: 120\n",
            "Weight Decay: 1e-07 ; Probabilidades de desligamento:0.5\n",
            "----------\n",
            "\n"
          ]
        },
        {
          "output_type": "stream",
          "name": "stderr",
          "text": [
            "  4%|▍         | 76/2000 [00:15<06:29,  4.94it/s]\n"
          ]
        },
        {
          "output_type": "stream",
          "name": "stdout",
          "text": [
            "Training interrupted by early stopping!\n",
            "Total epochs run: 77\n",
            "Best model found at epoch 1 with valid loss 9.031046152114868 and training loss 41.0390727519989\n",
            "Total training time: 0:00:15.409052\n",
            "----------Tentativas sem melhora: 3, Desligando...\n",
            "\n",
            "\n",
            "\n",
            "--------------------\n",
            "Total training time: 0:06:06.661484\n",
            "----------\n",
            "Camadas: 5\n",
            "----------Learning rate: 0.09 ; Batch size: 120\n",
            "Weight Decay: 1e-07 ; Probabilidades de desligamento:0.25\n",
            "----------\n",
            "\n"
          ]
        },
        {
          "output_type": "stream",
          "name": "stderr",
          "text": [
            "  4%|▍         | 79/2000 [00:11<04:41,  6.83it/s]\n"
          ]
        },
        {
          "output_type": "stream",
          "name": "stdout",
          "text": [
            "Training interrupted by early stopping!\n",
            "Total epochs run: 80\n",
            "Best model found at epoch 4 with valid loss 9.032509863376617 and training loss 40.97557073831558\n",
            "Total training time: 0:00:11.583831\n",
            "----------\n",
            "Camadas: 6\n",
            "----------Learning rate: 0.09 ; Batch size: 120\n",
            "Weight Decay: 1e-07 ; Probabilidades de desligamento:0.25\n",
            "----------\n",
            "\n"
          ]
        },
        {
          "output_type": "stream",
          "name": "stderr",
          "text": [
            "  4%|▍         | 76/2000 [00:14<06:05,  5.26it/s]\n"
          ]
        },
        {
          "output_type": "stream",
          "name": "stdout",
          "text": [
            "Training interrupted by early stopping!\n",
            "Total epochs run: 77\n",
            "Best model found at epoch 1 with valid loss 9.03741830587387 and training loss 41.03576469421387\n",
            "Total training time: 0:00:14.463075\n",
            "----------\n",
            "Camadas: 7\n",
            "----------Learning rate: 0.09 ; Batch size: 120\n",
            "Weight Decay: 1e-07 ; Probabilidades de desligamento:0.25\n",
            "----------\n",
            "\n"
          ]
        },
        {
          "output_type": "stream",
          "name": "stderr",
          "text": [
            "  4%|▍         | 76/2000 [00:15<06:32,  4.90it/s]\n"
          ]
        },
        {
          "output_type": "stream",
          "name": "stdout",
          "text": [
            "Training interrupted by early stopping!\n",
            "Total epochs run: 77\n",
            "Best model found at epoch 1 with valid loss 9.03104704618454 and training loss 41.0389758348465\n",
            "Total training time: 0:00:15.520856\n",
            "----------Tentativas sem melhora: 3, Desligando...\n",
            "\n",
            "\n",
            "\n",
            "--------------------\n",
            "Total training time: 0:06:49.689522\n",
            "----------\n",
            "Camadas: 5\n",
            "----------Learning rate: 0.09 ; Batch size: 120\n",
            "Weight Decay: 1e-06 ; Probabilidades de desligamento:0.5\n",
            "----------\n",
            "\n"
          ]
        },
        {
          "output_type": "stream",
          "name": "stderr",
          "text": [
            "  5%|▍         | 95/2000 [00:16<05:36,  5.66it/s]\n"
          ]
        },
        {
          "output_type": "stream",
          "name": "stdout",
          "text": [
            "Training interrupted by early stopping!\n",
            "Total epochs run: 96\n",
            "Best model found at epoch 20 with valid loss 10.264069378376007 and training loss 45.56663531064987\n",
            "Total training time: 0:00:16.792226\n",
            "--------------------------------------------------------- New best global model found! ---------------------------------------------------------\n",
            "GeradorRede(\n",
            "  (layers): ModuleList(\n",
            "    (0): Linear(in_features=3, out_features=96, bias=True)\n",
            "    (1): ReLU()\n",
            "    (2): Dropout(p=0.5, inplace=False)\n",
            "    (3): Linear(in_features=96, out_features=48, bias=True)\n",
            "    (4): ReLU()\n",
            "    (5): Dropout(p=0.5, inplace=False)\n",
            "    (6): Linear(in_features=48, out_features=24, bias=True)\n",
            "    (7): ReLU()\n",
            "    (8): Dropout(p=0.5, inplace=False)\n",
            "    (9): Linear(in_features=24, out_features=12, bias=True)\n",
            "    (10): ReLU()\n",
            "    (11): Dropout(p=0.5, inplace=False)\n",
            "    (12): Linear(in_features=12, out_features=6, bias=True)\n",
            "    (13): ReLU()\n",
            "    (14): Dropout(p=0.5, inplace=False)\n",
            "    (15): Linear(in_features=6, out_features=2, bias=True)\n",
            "    (16): Softmax(dim=-1)\n",
            "  )\n",
            ")\n",
            "\n",
            "Validation loss: 10.264069378376007\n",
            "\n",
            "Accuracy: 0.5173333333333333\n",
            "\n",
            "Loss: 0.7959283590316772\n",
            "\n",
            "----------\n",
            "Camadas: 6\n",
            "----------Learning rate: 0.09 ; Batch size: 120\n",
            "Weight Decay: 1e-06 ; Probabilidades de desligamento:0.5\n",
            "----------\n",
            "\n"
          ]
        },
        {
          "output_type": "stream",
          "name": "stderr",
          "text": [
            "  7%|▋         | 147/2000 [00:34<07:18,  4.22it/s]\n"
          ]
        },
        {
          "output_type": "stream",
          "name": "stdout",
          "text": [
            "Training interrupted by early stopping!\n",
            "Total epochs run: 148\n",
            "Best model found at epoch 72 with valid loss 9.01879471540451 and training loss 41.63654375076294\n",
            "Total training time: 0:00:34.830171\n",
            "----------\n",
            "Camadas: 7\n",
            "----------Learning rate: 0.09 ; Batch size: 120\n",
            "Weight Decay: 1e-06 ; Probabilidades de desligamento:0.5\n",
            "----------\n",
            "\n"
          ]
        },
        {
          "output_type": "stream",
          "name": "stderr",
          "text": [
            "  4%|▍         | 79/2000 [00:21<08:47,  3.64it/s]\n"
          ]
        },
        {
          "output_type": "stream",
          "name": "stdout",
          "text": [
            "Training interrupted by early stopping!\n",
            "Total epochs run: 80\n",
            "Best model found at epoch 4 with valid loss 9.027964532375336 and training loss 41.22836363315582\n",
            "Total training time: 0:00:21.720382\n",
            "----------\n",
            "Camadas: 8\n",
            "----------Learning rate: 0.09 ; Batch size: 120\n",
            "Weight Decay: 1e-06 ; Probabilidades de desligamento:0.5\n",
            "----------\n",
            "\n"
          ]
        },
        {
          "output_type": "stream",
          "name": "stderr",
          "text": [
            "  4%|▍         | 76/2000 [00:20<08:38,  3.71it/s]\n"
          ]
        },
        {
          "output_type": "stream",
          "name": "stdout",
          "text": [
            "Training interrupted by early stopping!\n",
            "Total epochs run: 77\n",
            "Best model found at epoch 1 with valid loss 9.036891102790833 and training loss 41.012871980667114\n",
            "Total training time: 0:00:20.489157\n",
            "----------\n",
            "Camadas: 9\n",
            "----------Learning rate: 0.09 ; Batch size: 120\n",
            "Weight Decay: 1e-06 ; Probabilidades de desligamento:0.5\n",
            "----------\n",
            "\n"
          ]
        },
        {
          "output_type": "stream",
          "name": "stderr",
          "text": [
            "  4%|▍         | 77/2000 [00:18<07:33,  4.24it/s]\n"
          ]
        },
        {
          "output_type": "stream",
          "name": "stdout",
          "text": [
            "Training interrupted by early stopping!\n",
            "Total epochs run: 78\n",
            "Best model found at epoch 2 with valid loss 9.03719449043274 and training loss 40.96999341249466\n",
            "Total training time: 0:00:18.192812\n",
            "\n",
            "\n",
            "\n",
            "--------------------\n",
            "Total training time: 0:08:44.284089\n",
            "----------\n",
            "Camadas: 5\n",
            "----------Learning rate: 0.09 ; Batch size: 120\n",
            "Weight Decay: 1e-06 ; Probabilidades de desligamento:0.25\n",
            "----------\n",
            "\n"
          ]
        },
        {
          "output_type": "stream",
          "name": "stderr",
          "text": [
            "  4%|▍         | 78/2000 [00:16<06:49,  4.69it/s]\n"
          ]
        },
        {
          "output_type": "stream",
          "name": "stdout",
          "text": [
            "Training interrupted by early stopping!\n",
            "Total epochs run: 79\n",
            "Best model found at epoch 3 with valid loss 9.03465873003006 and training loss 40.95354253053665\n",
            "Total training time: 0:00:16.634444\n",
            "----------\n",
            "Camadas: 6\n",
            "----------Learning rate: 0.09 ; Batch size: 120\n",
            "Weight Decay: 1e-06 ; Probabilidades de desligamento:0.25\n",
            "----------\n",
            "\n"
          ]
        },
        {
          "output_type": "stream",
          "name": "stderr",
          "text": [
            "  4%|▍         | 76/2000 [00:19<08:16,  3.87it/s]\n"
          ]
        },
        {
          "output_type": "stream",
          "name": "stdout",
          "text": [
            "Training interrupted by early stopping!\n",
            "Total epochs run: 77\n",
            "Best model found at epoch 1 with valid loss 9.030252814292908 and training loss 41.05927687883377\n",
            "Total training time: 0:00:19.633182\n",
            "----------\n",
            "Camadas: 7\n",
            "----------Learning rate: 0.09 ; Batch size: 120\n",
            "Weight Decay: 1e-06 ; Probabilidades de desligamento:0.25\n",
            "----------\n",
            "\n"
          ]
        },
        {
          "output_type": "stream",
          "name": "stderr",
          "text": [
            "  4%|▍         | 76/2000 [00:16<06:46,  4.73it/s]\n"
          ]
        },
        {
          "output_type": "stream",
          "name": "stdout",
          "text": [
            "Training interrupted by early stopping!\n",
            "Total epochs run: 77\n",
            "Best model found at epoch 1 with valid loss 9.030925869941711 and training loss 41.037342846393585\n",
            "Total training time: 0:00:16.080791\n",
            "----------Tentativas sem melhora: 3, Desligando...\n",
            "\n",
            "\n",
            "\n",
            "--------------------\n",
            "Total training time: 0:09:38.054608\n",
            "----------\n",
            "Camadas: 5\n",
            "----------Learning rate: 0.05 ; Batch size: 100\n",
            "Weight Decay: 1e-07 ; Probabilidades de desligamento:0.5\n",
            "----------\n",
            "\n"
          ]
        },
        {
          "output_type": "stream",
          "name": "stderr",
          "text": [
            "  4%|▍         | 76/2000 [00:12<05:11,  6.17it/s]\n"
          ]
        },
        {
          "output_type": "stream",
          "name": "stdout",
          "text": [
            "Training interrupted by early stopping!\n",
            "Total epochs run: 77\n",
            "Best model found at epoch 1 with valid loss 10.409727692604065 and training loss 48.97752374410629\n",
            "Total training time: 0:00:12.327594\n",
            "----------\n",
            "Camadas: 6\n",
            "----------Learning rate: 0.05 ; Batch size: 100\n",
            "Weight Decay: 1e-07 ; Probabilidades de desligamento:0.5\n",
            "----------\n",
            "\n"
          ]
        },
        {
          "output_type": "stream",
          "name": "stderr",
          "text": [
            "  4%|▍         | 77/2000 [00:16<06:39,  4.81it/s]\n"
          ]
        },
        {
          "output_type": "stream",
          "name": "stdout",
          "text": [
            "Training interrupted by early stopping!\n",
            "Total epochs run: 78\n",
            "Best model found at epoch 2 with valid loss 10.41435718536377 and training loss 48.57377964258194\n",
            "Total training time: 0:00:16.014745\n",
            "----------\n",
            "Camadas: 7\n",
            "----------Learning rate: 0.05 ; Batch size: 100\n",
            "Weight Decay: 1e-07 ; Probabilidades de desligamento:0.5\n",
            "----------\n",
            "\n"
          ]
        },
        {
          "output_type": "stream",
          "name": "stderr",
          "text": [
            "  4%|▍         | 76/2000 [00:18<07:56,  4.04it/s]\n"
          ]
        },
        {
          "output_type": "stream",
          "name": "stdout",
          "text": [
            "Training interrupted by early stopping!\n",
            "Total epochs run: 77\n",
            "Best model found at epoch 1 with valid loss 10.412024140357971 and training loss 48.72571158409119\n",
            "Total training time: 0:00:18.840471\n",
            "----------Tentativas sem melhora: 3, Desligando...\n",
            "\n",
            "\n",
            "\n",
            "--------------------\n",
            "Total training time: 0:10:26.638242\n",
            "----------\n",
            "Camadas: 5\n",
            "----------Learning rate: 0.05 ; Batch size: 100\n",
            "Weight Decay: 1e-07 ; Probabilidades de desligamento:0.25\n",
            "----------\n",
            "\n"
          ]
        },
        {
          "output_type": "stream",
          "name": "stderr",
          "text": [
            "  4%|▍         | 77/2000 [00:13<05:38,  5.69it/s]\n"
          ]
        },
        {
          "output_type": "stream",
          "name": "stdout",
          "text": [
            "Training interrupted by early stopping!\n",
            "Total epochs run: 78\n",
            "Best model found at epoch 2 with valid loss 10.412625133991241 and training loss 48.6577565073967\n",
            "Total training time: 0:00:13.557123\n",
            "----------\n",
            "Camadas: 6\n",
            "----------Learning rate: 0.05 ; Batch size: 100\n",
            "Weight Decay: 1e-07 ; Probabilidades de desligamento:0.25\n",
            "----------\n",
            "\n"
          ]
        },
        {
          "output_type": "stream",
          "name": "stderr",
          "text": [
            "  4%|▍         | 77/2000 [00:16<06:47,  4.72it/s]\n"
          ]
        },
        {
          "output_type": "stream",
          "name": "stdout",
          "text": [
            "Training interrupted by early stopping!\n",
            "Total epochs run: 78\n",
            "Best model found at epoch 2 with valid loss 10.414765059947968 and training loss 48.5752312541008\n",
            "Total training time: 0:00:16.307797\n",
            "----------\n",
            "Camadas: 7\n",
            "----------Learning rate: 0.05 ; Batch size: 100\n",
            "Weight Decay: 1e-07 ; Probabilidades de desligamento:0.25\n",
            "----------\n",
            "\n"
          ]
        },
        {
          "output_type": "stream",
          "name": "stderr",
          "text": [
            "  4%|▍         | 76/2000 [00:19<08:18,  3.86it/s]\n"
          ]
        },
        {
          "output_type": "stream",
          "name": "stdout",
          "text": [
            "Training interrupted by early stopping!\n",
            "Total epochs run: 77\n",
            "Best model found at epoch 1 with valid loss 10.411729991436005 and training loss 48.74225288629532\n",
            "Total training time: 0:00:19.720564\n",
            "----------Tentativas sem melhora: 3, Desligando...\n",
            "\n",
            "\n",
            "\n",
            "--------------------\n",
            "Total training time: 0:11:17.621803\n",
            "----------\n",
            "Camadas: 5\n",
            "----------Learning rate: 0.05 ; Batch size: 100\n",
            "Weight Decay: 1e-06 ; Probabilidades de desligamento:0.5\n",
            "----------\n",
            "\n"
          ]
        },
        {
          "output_type": "stream",
          "name": "stderr",
          "text": [
            "  4%|▍         | 76/2000 [00:15<06:30,  4.92it/s]\n"
          ]
        },
        {
          "output_type": "stream",
          "name": "stdout",
          "text": [
            "Training interrupted by early stopping!\n",
            "Total epochs run: 77\n",
            "Best model found at epoch 1 with valid loss 10.413155734539032 and training loss 48.910698890686035\n",
            "Total training time: 0:00:15.442132\n",
            "----------\n",
            "Camadas: 6\n",
            "----------Learning rate: 0.05 ; Batch size: 100\n",
            "Weight Decay: 1e-06 ; Probabilidades de desligamento:0.5\n",
            "----------\n",
            "\n"
          ]
        },
        {
          "output_type": "stream",
          "name": "stderr",
          "text": [
            "  4%|▍         | 77/2000 [00:22<09:31,  3.36it/s]\n"
          ]
        },
        {
          "output_type": "stream",
          "name": "stdout",
          "text": [
            "Training interrupted by early stopping!\n",
            "Total epochs run: 78\n",
            "Best model found at epoch 2 with valid loss 10.414395868778229 and training loss 48.571289360523224\n",
            "Total training time: 0:00:22.908989\n",
            "----------\n",
            "Camadas: 7\n",
            "----------Learning rate: 0.05 ; Batch size: 100\n",
            "Weight Decay: 1e-06 ; Probabilidades de desligamento:0.5\n",
            "----------\n",
            "\n"
          ]
        },
        {
          "output_type": "stream",
          "name": "stderr",
          "text": [
            "  4%|▍         | 76/2000 [00:22<09:32,  3.36it/s]\n"
          ]
        },
        {
          "output_type": "stream",
          "name": "stdout",
          "text": [
            "Training interrupted by early stopping!\n",
            "Total epochs run: 77\n",
            "Best model found at epoch 1 with valid loss 10.412003576755524 and training loss 48.716406643390656\n",
            "Total training time: 0:00:22.626530\n",
            "----------Tentativas sem melhora: 3, Desligando...\n",
            "\n",
            "\n",
            "\n",
            "--------------------\n",
            "Total training time: 0:12:20.128012\n",
            "----------\n",
            "Camadas: 5\n",
            "----------Learning rate: 0.05 ; Batch size: 100\n",
            "Weight Decay: 1e-06 ; Probabilidades de desligamento:0.25\n",
            "----------\n",
            "\n"
          ]
        },
        {
          "output_type": "stream",
          "name": "stderr",
          "text": [
            "  4%|▍         | 76/2000 [00:20<08:40,  3.70it/s]\n"
          ]
        },
        {
          "output_type": "stream",
          "name": "stdout",
          "text": [
            "Training interrupted by early stopping!\n",
            "Total epochs run: 77\n",
            "Best model found at epoch 1 with valid loss 10.414008021354675 and training loss 48.622107446193695\n",
            "Total training time: 0:00:20.583312\n",
            "----------\n",
            "Camadas: 6\n",
            "----------Learning rate: 0.05 ; Batch size: 100\n",
            "Weight Decay: 1e-06 ; Probabilidades de desligamento:0.25\n",
            "----------\n",
            "\n"
          ]
        },
        {
          "output_type": "stream",
          "name": "stderr",
          "text": [
            "  4%|▍         | 76/2000 [00:21<09:13,  3.48it/s]\n"
          ]
        },
        {
          "output_type": "stream",
          "name": "stdout",
          "text": [
            "Training interrupted by early stopping!\n",
            "Total epochs run: 77\n",
            "Best model found at epoch 1 with valid loss 10.413944840431213 and training loss 48.65663957595825\n",
            "Total training time: 0:00:21.865428\n",
            "----------\n",
            "Camadas: 7\n",
            "----------Learning rate: 0.05 ; Batch size: 100\n",
            "Weight Decay: 1e-06 ; Probabilidades de desligamento:0.25\n",
            "----------\n",
            "\n"
          ]
        },
        {
          "output_type": "stream",
          "name": "stderr",
          "text": [
            "  4%|▍         | 78/2000 [00:24<10:09,  3.15it/s]\n"
          ]
        },
        {
          "output_type": "stream",
          "name": "stdout",
          "text": [
            "Training interrupted by early stopping!\n",
            "Total epochs run: 79\n",
            "Best model found at epoch 3 with valid loss 10.414556741714478 and training loss 48.571193158626556\n",
            "Total training time: 0:00:24.746659\n",
            "----------Tentativas sem melhora: 3, Desligando...\n",
            "\n",
            "\n",
            "\n",
            "--------------------\n",
            "Total training time: 0:13:28.730003\n",
            "----------\n",
            "Camadas: 5\n",
            "----------Learning rate: 0.05 ; Batch size: 120\n",
            "Weight Decay: 1e-07 ; Probabilidades de desligamento:0.5\n",
            "----------\n",
            "\n"
          ]
        },
        {
          "output_type": "stream",
          "name": "stderr",
          "text": [
            "  4%|▍         | 79/2000 [00:11<04:37,  6.92it/s]\n"
          ]
        },
        {
          "output_type": "stream",
          "name": "stdout",
          "text": [
            "Training interrupted by early stopping!\n",
            "Total epochs run: 80\n",
            "Best model found at epoch 4 with valid loss 9.018780589103699 and training loss 41.258921682834625\n",
            "Total training time: 0:00:11.424793\n",
            "----------\n",
            "Camadas: 6\n",
            "----------Learning rate: 0.05 ; Batch size: 120\n",
            "Weight Decay: 1e-07 ; Probabilidades de desligamento:0.5\n",
            "----------\n",
            "\n"
          ]
        },
        {
          "output_type": "stream",
          "name": "stderr",
          "text": [
            "  4%|▍         | 80/2000 [00:13<05:19,  6.01it/s]\n"
          ]
        },
        {
          "output_type": "stream",
          "name": "stdout",
          "text": [
            "Training interrupted by early stopping!\n",
            "Total epochs run: 81\n",
            "Best model found at epoch 5 with valid loss 9.013904511928558 and training loss 41.900275230407715\n",
            "Total training time: 0:00:13.331809\n",
            "----------\n",
            "Camadas: 7\n",
            "----------Learning rate: 0.05 ; Batch size: 120\n",
            "Weight Decay: 1e-07 ; Probabilidades de desligamento:0.5\n",
            "----------\n",
            "\n"
          ]
        },
        {
          "output_type": "stream",
          "name": "stderr",
          "text": [
            "  4%|▍         | 77/2000 [00:16<06:43,  4.77it/s]\n"
          ]
        },
        {
          "output_type": "stream",
          "name": "stdout",
          "text": [
            "Training interrupted by early stopping!\n",
            "Total epochs run: 78\n",
            "Best model found at epoch 2 with valid loss 9.023684322834015 and training loss 40.930426597595215\n",
            "Total training time: 0:00:16.158280\n",
            "----------Tentativas sem melhora: 3, Desligando...\n",
            "\n",
            "\n",
            "\n",
            "--------------------\n",
            "Total training time: 0:14:11.064288\n",
            "----------\n",
            "Camadas: 5\n",
            "----------Learning rate: 0.05 ; Batch size: 120\n",
            "Weight Decay: 1e-07 ; Probabilidades de desligamento:0.25\n",
            "----------\n",
            "\n"
          ]
        },
        {
          "output_type": "stream",
          "name": "stderr",
          "text": [
            "  6%|▌         | 122/2000 [00:19<04:52,  6.42it/s]\n"
          ]
        },
        {
          "output_type": "stream",
          "name": "stdout",
          "text": [
            "Training interrupted by early stopping!\n",
            "Total epochs run: 123\n",
            "Best model found at epoch 47 with valid loss 8.881697237491608 and training loss 40.9353591799736\n",
            "Total training time: 0:00:19.025720\n",
            "--------------------------------------------------------- New best global model found! ---------------------------------------------------------\n",
            "GeradorRede(\n",
            "  (layers): ModuleList(\n",
            "    (0): Linear(in_features=3, out_features=96, bias=True)\n",
            "    (1): ReLU()\n",
            "    (2): Dropout(p=0.25, inplace=False)\n",
            "    (3): Linear(in_features=96, out_features=48, bias=True)\n",
            "    (4): ReLU()\n",
            "    (5): Dropout(p=0.25, inplace=False)\n",
            "    (6): Linear(in_features=48, out_features=24, bias=True)\n",
            "    (7): ReLU()\n",
            "    (8): Dropout(p=0.25, inplace=False)\n",
            "    (9): Linear(in_features=24, out_features=12, bias=True)\n",
            "    (10): ReLU()\n",
            "    (11): Dropout(p=0.25, inplace=False)\n",
            "    (12): Linear(in_features=12, out_features=6, bias=True)\n",
            "    (13): ReLU()\n",
            "    (14): Dropout(p=0.25, inplace=False)\n",
            "    (15): Linear(in_features=6, out_features=2, bias=True)\n",
            "    (16): Softmax(dim=-1)\n",
            "  )\n",
            ")\n",
            "\n",
            "Validation loss: 8.881697237491608\n",
            "\n",
            "Accuracy: 0.5386666666666666\n",
            "\n",
            "Loss: 0.6862608790397644\n",
            "\n",
            "----------\n",
            "Camadas: 6\n",
            "----------Learning rate: 0.05 ; Batch size: 120\n",
            "Weight Decay: 1e-07 ; Probabilidades de desligamento:0.25\n",
            "----------\n",
            "\n"
          ]
        },
        {
          "output_type": "stream",
          "name": "stderr",
          "text": [
            "  4%|▍         | 76/2000 [00:13<05:44,  5.58it/s]\n"
          ]
        },
        {
          "output_type": "stream",
          "name": "stdout",
          "text": [
            "Training interrupted by early stopping!\n",
            "Total epochs run: 77\n",
            "Best model found at epoch 1 with valid loss 9.017560362815857 and training loss 40.99294549226761\n",
            "Total training time: 0:00:13.640285\n",
            "----------\n",
            "Camadas: 7\n",
            "----------Learning rate: 0.05 ; Batch size: 120\n",
            "Weight Decay: 1e-07 ; Probabilidades de desligamento:0.25\n",
            "----------\n",
            "\n"
          ]
        },
        {
          "output_type": "stream",
          "name": "stderr",
          "text": [
            "  4%|▍         | 77/2000 [00:16<06:52,  4.66it/s]\n"
          ]
        },
        {
          "output_type": "stream",
          "name": "stdout",
          "text": [
            "Training interrupted by early stopping!\n",
            "Total epochs run: 78\n",
            "Best model found at epoch 2 with valid loss 9.023527324199677 and training loss 40.93171727657318\n",
            "Total training time: 0:00:16.532718\n",
            "----------\n",
            "Camadas: 8\n",
            "----------Learning rate: 0.05 ; Batch size: 120\n",
            "Weight Decay: 1e-07 ; Probabilidades de desligamento:0.25\n",
            "----------\n",
            "\n"
          ]
        },
        {
          "output_type": "stream",
          "name": "stderr",
          "text": [
            "  4%|▍         | 76/2000 [00:18<07:37,  4.21it/s]\n"
          ]
        },
        {
          "output_type": "stream",
          "name": "stdout",
          "text": [
            "Training interrupted by early stopping!\n",
            "Total epochs run: 77\n",
            "Best model found at epoch 1 with valid loss 9.023527562618256 and training loss 40.97116428613663\n",
            "Total training time: 0:00:18.076994\n",
            "----------\n",
            "Camadas: 9\n",
            "----------Learning rate: 0.05 ; Batch size: 120\n",
            "Weight Decay: 1e-07 ; Probabilidades de desligamento:0.25\n",
            "----------\n",
            "\n"
          ]
        },
        {
          "output_type": "stream",
          "name": "stderr",
          "text": [
            "  4%|▍         | 76/2000 [00:14<05:57,  5.38it/s]\n"
          ]
        },
        {
          "output_type": "stream",
          "name": "stdout",
          "text": [
            "Training interrupted by early stopping!\n",
            "Total epochs run: 77\n",
            "Best model found at epoch 1 with valid loss 8.533348858356476 and training loss 40.61774426698685\n",
            "Total training time: 0:00:14.146191\n",
            "--------------------------------------------------------- New best global model found! ---------------------------------------------------------\n",
            "GeradorRede(\n",
            "  (layers): ModuleList(\n",
            "    (0): Linear(in_features=3, out_features=96, bias=True)\n",
            "    (1): ReLU()\n",
            "    (2): Dropout(p=0.25, inplace=False)\n",
            "    (3): Linear(in_features=96, out_features=48, bias=True)\n",
            "    (4): ReLU()\n",
            "    (5): Dropout(p=0.25, inplace=False)\n",
            "    (6): Linear(in_features=48, out_features=24, bias=True)\n",
            "    (7): ReLU()\n",
            "    (8): Dropout(p=0.25, inplace=False)\n",
            "    (9): Linear(in_features=24, out_features=12, bias=True)\n",
            "    (10): ReLU()\n",
            "    (11): Dropout(p=0.25, inplace=False)\n",
            "    (12): Linear(in_features=12, out_features=6, bias=True)\n",
            "    (13): ReLU()\n",
            "    (14): Dropout(p=0.25, inplace=False)\n",
            "    (15): Linear(in_features=6, out_features=3, bias=True)\n",
            "    (16): ReLU()\n",
            "    (17): Dropout(p=0.25, inplace=False)\n",
            "    (18): Linear(in_features=3, out_features=1, bias=True)\n",
            "    (19): ReLU()\n",
            "    (20): Dropout(p=0.25, inplace=False)\n",
            "    (21): Linear(in_features=1, out_features=2, bias=True)\n",
            "    (22): Softmax(dim=-1)\n",
            "  )\n",
            ")\n",
            "\n",
            "Validation loss: 8.533348858356476\n",
            "\n",
            "Accuracy: 0.618\n",
            "\n",
            "Loss: 0.6554227471351624\n",
            "\n",
            "\n",
            "\n",
            "\n",
            "--------------------\n",
            "Total training time: 0:15:34.942999\n",
            "----------\n",
            "Camadas: 5\n",
            "----------Learning rate: 0.05 ; Batch size: 120\n",
            "Weight Decay: 1e-06 ; Probabilidades de desligamento:0.5\n",
            "----------\n",
            "\n"
          ]
        },
        {
          "output_type": "stream",
          "name": "stderr",
          "text": [
            "  4%|▍         | 76/2000 [00:11<05:02,  6.36it/s]\n"
          ]
        },
        {
          "output_type": "stream",
          "name": "stdout",
          "text": [
            "Training interrupted by early stopping!\n",
            "Total epochs run: 77\n",
            "Best model found at epoch 1 with valid loss 9.020423531532288 and training loss 41.16011518239975\n",
            "Total training time: 0:00:11.961355\n",
            "----------\n",
            "Camadas: 6\n",
            "----------Learning rate: 0.05 ; Batch size: 120\n",
            "Weight Decay: 1e-06 ; Probabilidades de desligamento:0.5\n",
            "----------\n",
            "\n"
          ]
        },
        {
          "output_type": "stream",
          "name": "stderr",
          "text": [
            "  4%|▍         | 76/2000 [00:15<06:31,  4.92it/s]\n"
          ]
        },
        {
          "output_type": "stream",
          "name": "stdout",
          "text": [
            "Training interrupted by early stopping!\n",
            "Total epochs run: 77\n",
            "Best model found at epoch 1 with valid loss 9.020532310009003 and training loss 41.121871173381805\n",
            "Total training time: 0:00:15.462675\n",
            "----------\n",
            "Camadas: 7\n",
            "----------Learning rate: 0.05 ; Batch size: 120\n",
            "Weight Decay: 1e-06 ; Probabilidades de desligamento:0.5\n",
            "----------\n",
            "\n"
          ]
        },
        {
          "output_type": "stream",
          "name": "stderr",
          "text": [
            "  4%|▍         | 77/2000 [00:16<06:46,  4.73it/s]\n"
          ]
        },
        {
          "output_type": "stream",
          "name": "stdout",
          "text": [
            "Training interrupted by early stopping!\n",
            "Total epochs run: 78\n",
            "Best model found at epoch 2 with valid loss 9.023527979850769 and training loss 40.93170791864395\n",
            "Total training time: 0:00:16.292655\n",
            "----------Tentativas sem melhora: 3, Desligando...\n",
            "\n",
            "\n",
            "\n",
            "--------------------\n",
            "Total training time: 0:16:20.239690\n",
            "----------\n",
            "Camadas: 5\n",
            "----------Learning rate: 0.05 ; Batch size: 120\n",
            "Weight Decay: 1e-06 ; Probabilidades de desligamento:0.25\n",
            "----------\n",
            "\n"
          ]
        },
        {
          "output_type": "stream",
          "name": "stderr",
          "text": [
            "  4%|▍         | 76/2000 [00:14<05:58,  5.37it/s]\n"
          ]
        },
        {
          "output_type": "stream",
          "name": "stdout",
          "text": [
            "Training interrupted by early stopping!\n",
            "Total epochs run: 77\n",
            "Best model found at epoch 1 with valid loss 8.084309697151184 and training loss 39.97443437576294\n",
            "Total training time: 0:00:14.158136\n",
            "--------------------------------------------------------- New best global model found! ---------------------------------------------------------\n",
            "GeradorRede(\n",
            "  (layers): ModuleList(\n",
            "    (0): Linear(in_features=3, out_features=96, bias=True)\n",
            "    (1): ReLU()\n",
            "    (2): Dropout(p=0.25, inplace=False)\n",
            "    (3): Linear(in_features=96, out_features=48, bias=True)\n",
            "    (4): ReLU()\n",
            "    (5): Dropout(p=0.25, inplace=False)\n",
            "    (6): Linear(in_features=48, out_features=24, bias=True)\n",
            "    (7): ReLU()\n",
            "    (8): Dropout(p=0.25, inplace=False)\n",
            "    (9): Linear(in_features=24, out_features=12, bias=True)\n",
            "    (10): ReLU()\n",
            "    (11): Dropout(p=0.25, inplace=False)\n",
            "    (12): Linear(in_features=12, out_features=6, bias=True)\n",
            "    (13): ReLU()\n",
            "    (14): Dropout(p=0.25, inplace=False)\n",
            "    (15): Linear(in_features=6, out_features=2, bias=True)\n",
            "    (16): Softmax(dim=-1)\n",
            "  )\n",
            ")\n",
            "\n",
            "Validation loss: 8.084309697151184\n",
            "\n",
            "Accuracy: 0.678\n",
            "\n",
            "Loss: 0.6187174320220947\n",
            "\n",
            "----------\n",
            "Camadas: 6\n",
            "----------Learning rate: 0.05 ; Batch size: 120\n",
            "Weight Decay: 1e-06 ; Probabilidades de desligamento:0.25\n",
            "----------\n",
            "\n"
          ]
        },
        {
          "output_type": "stream",
          "name": "stderr",
          "text": [
            "  4%|▍         | 77/2000 [00:20<08:25,  3.81it/s]\n"
          ]
        },
        {
          "output_type": "stream",
          "name": "stdout",
          "text": [
            "Training interrupted by early stopping!\n",
            "Total epochs run: 78\n",
            "Best model found at epoch 2 with valid loss 9.021397054195404 and training loss 40.926185727119446\n",
            "Total training time: 0:00:20.238466\n",
            "----------\n",
            "Camadas: 7\n",
            "----------Learning rate: 0.05 ; Batch size: 120\n",
            "Weight Decay: 1e-06 ; Probabilidades de desligamento:0.25\n",
            "----------\n",
            "\n"
          ]
        },
        {
          "output_type": "stream",
          "name": "stderr",
          "text": [
            "  4%|▍         | 77/2000 [00:16<06:57,  4.61it/s]\n"
          ]
        },
        {
          "output_type": "stream",
          "name": "stdout",
          "text": [
            "Training interrupted by early stopping!\n",
            "Total epochs run: 78\n",
            "Best model found at epoch 2 with valid loss 9.023856818675995 and training loss 40.93136417865753\n",
            "Total training time: 0:00:16.721423\n",
            "----------\n",
            "Camadas: 8\n",
            "----------Learning rate: 0.05 ; Batch size: 120\n",
            "Weight Decay: 1e-06 ; Probabilidades de desligamento:0.25\n",
            "----------\n",
            "\n"
          ]
        },
        {
          "output_type": "stream",
          "name": "stderr",
          "text": [
            "  4%|▍         | 76/2000 [00:17<07:35,  4.23it/s]\n"
          ]
        },
        {
          "output_type": "stream",
          "name": "stdout",
          "text": [
            "Training interrupted by early stopping!\n",
            "Total epochs run: 77\n",
            "Best model found at epoch 1 with valid loss 9.022708773612976 and training loss 40.968824684619904\n",
            "Total training time: 0:00:17.997792\n",
            "----------\n",
            "Camadas: 9\n",
            "----------Learning rate: 0.05 ; Batch size: 120\n",
            "Weight Decay: 1e-06 ; Probabilidades de desligamento:0.25\n",
            "----------\n",
            "\n"
          ]
        },
        {
          "output_type": "stream",
          "name": "stderr",
          "text": [
            "  4%|▍         | 78/2000 [00:17<07:18,  4.38it/s]\n"
          ]
        },
        {
          "output_type": "stream",
          "name": "stdout",
          "text": [
            "Training interrupted by early stopping!\n",
            "Total epochs run: 79\n",
            "Best model found at epoch 3 with valid loss 8.830104887485504 and training loss 40.72322100400925\n",
            "Total training time: 0:00:17.813352\n",
            "\n",
            "\n",
            "\n",
            "--------------------\n",
            "Total training time: 0:17:49.726908\n",
            "----------\n",
            "Camadas: 5\n",
            "----------Learning rate: 0.09 ; Batch size: 100\n",
            "Weight Decay: 1e-07 ; Probabilidades de desligamento:0.5\n",
            "----------\n",
            "\n"
          ]
        },
        {
          "output_type": "stream",
          "name": "stderr",
          "text": [
            "  9%|▉         | 187/2000 [00:37<06:01,  5.01it/s]\n"
          ]
        },
        {
          "output_type": "stream",
          "name": "stdout",
          "text": [
            "Training interrupted by early stopping!\n",
            "Total epochs run: 188\n",
            "Best model found at epoch 112 with valid loss 11.339113354682922 and training loss 52.08375924825668\n",
            "Total training time: 0:00:37.339437\n",
            "----------\n",
            "Camadas: 6\n",
            "----------Learning rate: 0.09 ; Batch size: 100\n",
            "Weight Decay: 1e-07 ; Probabilidades de desligamento:0.5\n",
            "----------\n",
            "\n"
          ]
        },
        {
          "output_type": "stream",
          "name": "stderr",
          "text": [
            "  4%|▍         | 76/2000 [00:15<06:36,  4.86it/s]\n"
          ]
        },
        {
          "output_type": "stream",
          "name": "stdout",
          "text": [
            "Training interrupted by early stopping!\n",
            "Total epochs run: 77\n",
            "Best model found at epoch 1 with valid loss 10.434799432754517 and training loss 49.13688498735428\n",
            "Total training time: 0:00:15.666421\n",
            "----------\n",
            "Camadas: 7\n",
            "----------Learning rate: 0.09 ; Batch size: 100\n",
            "Weight Decay: 1e-07 ; Probabilidades de desligamento:0.5\n",
            "----------\n",
            "\n"
          ]
        },
        {
          "output_type": "stream",
          "name": "stderr",
          "text": [
            "  4%|▍         | 76/2000 [00:22<09:25,  3.40it/s]\n"
          ]
        },
        {
          "output_type": "stream",
          "name": "stdout",
          "text": [
            "Training interrupted by early stopping!\n",
            "Total epochs run: 77\n",
            "Best model found at epoch 1 with valid loss 10.4395831823349 and training loss 48.73716449737549\n",
            "Total training time: 0:00:22.339484\n",
            "----------Tentativas sem melhora: 3, Desligando...\n",
            "\n",
            "\n",
            "\n",
            "--------------------\n",
            "Total training time: 0:19:06.522867\n",
            "----------\n",
            "Camadas: 5\n",
            "----------Learning rate: 0.09 ; Batch size: 100\n",
            "Weight Decay: 1e-07 ; Probabilidades de desligamento:0.25\n",
            "----------\n",
            "\n"
          ]
        },
        {
          "output_type": "stream",
          "name": "stderr",
          "text": [
            "  4%|▍         | 76/2000 [00:15<06:29,  4.94it/s]\n"
          ]
        },
        {
          "output_type": "stream",
          "name": "stdout",
          "text": [
            "Training interrupted by early stopping!\n",
            "Total epochs run: 77\n",
            "Best model found at epoch 1 with valid loss 10.325879752635956 and training loss 49.36565679311752\n",
            "Total training time: 0:00:15.393524\n",
            "----------\n",
            "Camadas: 6\n",
            "----------Learning rate: 0.09 ; Batch size: 100\n",
            "Weight Decay: 1e-07 ; Probabilidades de desligamento:0.25\n",
            "----------\n",
            "\n"
          ]
        },
        {
          "output_type": "stream",
          "name": "stderr",
          "text": [
            "  8%|▊         | 170/2000 [00:51<09:12,  3.31it/s]\n"
          ]
        },
        {
          "output_type": "stream",
          "name": "stdout",
          "text": [
            "Training interrupted by early stopping!\n",
            "Total epochs run: 171\n",
            "Best model found at epoch 95 with valid loss 10.446064293384552 and training loss 48.63515657186508\n",
            "Total training time: 0:00:51.335611\n",
            "----------\n",
            "Camadas: 7\n",
            "----------Learning rate: 0.09 ; Batch size: 100\n",
            "Weight Decay: 1e-07 ; Probabilidades de desligamento:0.25\n",
            "----------\n",
            "\n"
          ]
        },
        {
          "output_type": "stream",
          "name": "stderr",
          "text": [
            "  4%|▍         | 76/2000 [00:19<08:11,  3.91it/s]\n"
          ]
        },
        {
          "output_type": "stream",
          "name": "stdout",
          "text": [
            "Training interrupted by early stopping!\n",
            "Total epochs run: 77\n",
            "Best model found at epoch 1 with valid loss 10.444047391414642 and training loss 48.709720492362976\n",
            "Total training time: 0:00:19.442890\n",
            "----------Tentativas sem melhora: 3, Desligando...\n",
            "\n",
            "\n",
            "\n",
            "--------------------\n",
            "Total training time: 0:20:34.198567\n",
            "----------\n",
            "Camadas: 5\n",
            "----------Learning rate: 0.09 ; Batch size: 100\n",
            "Weight Decay: 1e-06 ; Probabilidades de desligamento:0.5\n",
            "----------\n",
            "\n"
          ]
        },
        {
          "output_type": "stream",
          "name": "stderr",
          "text": [
            "  4%|▍         | 76/2000 [00:17<07:31,  4.26it/s]\n"
          ]
        },
        {
          "output_type": "stream",
          "name": "stdout",
          "text": [
            "Training interrupted by early stopping!\n",
            "Total epochs run: 77\n",
            "Best model found at epoch 1 with valid loss 10.486014008522034 and training loss 51.38406699895859\n",
            "Total training time: 0:00:17.850523\n",
            "----------\n",
            "Camadas: 6\n",
            "----------Learning rate: 0.09 ; Batch size: 100\n",
            "Weight Decay: 1e-06 ; Probabilidades de desligamento:0.5\n",
            "----------\n",
            "\n"
          ]
        },
        {
          "output_type": "stream",
          "name": "stderr",
          "text": [
            "  6%|▌         | 124/2000 [00:38<09:38,  3.24it/s]\n"
          ]
        },
        {
          "output_type": "stream",
          "name": "stdout",
          "text": [
            "Training interrupted by early stopping!\n",
            "Total epochs run: 125\n",
            "Best model found at epoch 49 with valid loss 10.357875645160675 and training loss 53.134511947631836\n",
            "Total training time: 0:00:38.282013\n",
            "----------\n",
            "Camadas: 7\n",
            "----------Learning rate: 0.09 ; Batch size: 100\n",
            "Weight Decay: 1e-06 ; Probabilidades de desligamento:0.5\n",
            "----------\n",
            "\n"
          ]
        },
        {
          "output_type": "stream",
          "name": "stderr",
          "text": [
            "  4%|▍         | 76/2000 [00:21<09:02,  3.54it/s]\n"
          ]
        },
        {
          "output_type": "stream",
          "name": "stdout",
          "text": [
            "Training interrupted by early stopping!\n",
            "Total epochs run: 77\n",
            "Best model found at epoch 1 with valid loss 10.443323731422424 and training loss 48.68834912776947\n",
            "Total training time: 0:00:21.460279\n",
            "----------Tentativas sem melhora: 3, Desligando...\n",
            "\n",
            "\n",
            "\n",
            "--------------------\n",
            "Total training time: 0:21:53.390719\n",
            "----------\n",
            "Camadas: 5\n",
            "----------Learning rate: 0.09 ; Batch size: 100\n",
            "Weight Decay: 1e-06 ; Probabilidades de desligamento:0.25\n",
            "----------\n",
            "\n"
          ]
        },
        {
          "output_type": "stream",
          "name": "stderr",
          "text": [
            "  8%|▊         | 156/2000 [00:49<09:41,  3.17it/s]\n"
          ]
        },
        {
          "output_type": "stream",
          "name": "stdout",
          "text": [
            "Training interrupted by early stopping!\n",
            "Total epochs run: 157\n",
            "Best model found at epoch 81 with valid loss 10.406405746936798 and training loss 51.922912657260895\n",
            "Total training time: 0:00:49.192543\n",
            "----------\n",
            "Camadas: 6\n",
            "----------Learning rate: 0.09 ; Batch size: 100\n",
            "Weight Decay: 1e-06 ; Probabilidades de desligamento:0.25\n",
            "----------\n",
            "\n"
          ]
        },
        {
          "output_type": "stream",
          "name": "stderr",
          "text": [
            " 11%|█         | 222/2000 [01:04<08:37,  3.43it/s]\n"
          ]
        },
        {
          "output_type": "stream",
          "name": "stdout",
          "text": [
            "Training interrupted by early stopping!\n",
            "Total epochs run: 223\n",
            "Best model found at epoch 147 with valid loss 10.39982670545578 and training loss 48.71983164548874\n",
            "Total training time: 0:01:04.674573\n",
            "----------\n",
            "Camadas: 7\n",
            "----------Learning rate: 0.09 ; Batch size: 100\n",
            "Weight Decay: 1e-06 ; Probabilidades de desligamento:0.25\n",
            "----------\n",
            "\n"
          ]
        },
        {
          "output_type": "stream",
          "name": "stderr",
          "text": [
            "  4%|▍         | 76/2000 [00:28<12:06,  2.65it/s]\n"
          ]
        },
        {
          "output_type": "stream",
          "name": "stdout",
          "text": [
            "Training interrupted by early stopping!\n",
            "Total epochs run: 77\n",
            "Best model found at epoch 1 with valid loss 10.433604776859283 and training loss 49.33822214603424\n",
            "Total training time: 0:00:28.717780\n",
            "----------Tentativas sem melhora: 3, Desligando...\n",
            "\n",
            "\n",
            "\n",
            "--------------------\n",
            "Total training time: 0:24:17.527346\n",
            "----------\n",
            "Camadas: 5\n",
            "----------Learning rate: 0.09 ; Batch size: 120\n",
            "Weight Decay: 1e-07 ; Probabilidades de desligamento:0.5\n",
            "----------\n",
            "\n"
          ]
        },
        {
          "output_type": "stream",
          "name": "stderr",
          "text": [
            "  4%|▍         | 77/2000 [00:12<05:07,  6.25it/s]\n"
          ]
        },
        {
          "output_type": "stream",
          "name": "stdout",
          "text": [
            "Training interrupted by early stopping!\n",
            "Total epochs run: 78\n",
            "Best model found at epoch 2 with valid loss 9.094448626041412 and training loss 42.73541617393494\n",
            "Total training time: 0:00:12.343364\n",
            "----------\n",
            "Camadas: 6\n",
            "----------Learning rate: 0.09 ; Batch size: 120\n",
            "Weight Decay: 1e-07 ; Probabilidades de desligamento:0.5\n",
            "----------\n",
            "\n"
          ]
        },
        {
          "output_type": "stream",
          "name": "stderr",
          "text": [
            "  4%|▍         | 76/2000 [00:14<06:16,  5.11it/s]\n"
          ]
        },
        {
          "output_type": "stream",
          "name": "stdout",
          "text": [
            "Training interrupted by early stopping!\n",
            "Total epochs run: 77\n",
            "Best model found at epoch 1 with valid loss 9.035095572471619 and training loss 41.07750916481018\n",
            "Total training time: 0:00:14.886217\n",
            "----------\n",
            "Camadas: 7\n",
            "----------Learning rate: 0.09 ; Batch size: 120\n",
            "Weight Decay: 1e-07 ; Probabilidades de desligamento:0.5\n",
            "----------\n",
            "\n"
          ]
        },
        {
          "output_type": "stream",
          "name": "stderr",
          "text": [
            "  4%|▍         | 76/2000 [00:16<07:03,  4.55it/s]\n"
          ]
        },
        {
          "output_type": "stream",
          "name": "stdout",
          "text": [
            "Training interrupted by early stopping!\n",
            "Total epochs run: 77\n",
            "Best model found at epoch 1 with valid loss 9.030081510543823 and training loss 41.0231351852417\n",
            "Total training time: 0:00:16.730528\n",
            "----------Tentativas sem melhora: 3, Desligando...\n",
            "\n",
            "\n",
            "\n",
            "--------------------\n",
            "Total training time: 0:25:02.889691\n",
            "----------\n",
            "Camadas: 5\n",
            "----------Learning rate: 0.09 ; Batch size: 120\n",
            "Weight Decay: 1e-07 ; Probabilidades de desligamento:0.25\n",
            "----------\n",
            "\n"
          ]
        },
        {
          "output_type": "stream",
          "name": "stderr",
          "text": [
            "  4%|▍         | 76/2000 [00:13<05:35,  5.73it/s]\n"
          ]
        },
        {
          "output_type": "stream",
          "name": "stdout",
          "text": [
            "Training interrupted by early stopping!\n",
            "Total epochs run: 77\n",
            "Best model found at epoch 1 with valid loss 9.032437026500702 and training loss 41.11198937892914\n",
            "Total training time: 0:00:13.290496\n",
            "----------\n",
            "Camadas: 6\n",
            "----------Learning rate: 0.09 ; Batch size: 120\n",
            "Weight Decay: 1e-07 ; Probabilidades de desligamento:0.25\n",
            "----------\n",
            "\n"
          ]
        },
        {
          "output_type": "stream",
          "name": "stderr",
          "text": [
            "  4%|▍         | 76/2000 [00:16<07:04,  4.53it/s]\n"
          ]
        },
        {
          "output_type": "stream",
          "name": "stdout",
          "text": [
            "Training interrupted by early stopping!\n",
            "Total epochs run: 77\n",
            "Best model found at epoch 1 with valid loss 9.030512571334839 and training loss 41.07678812742233\n",
            "Total training time: 0:00:16.783119\n",
            "----------\n",
            "Camadas: 7\n",
            "----------Learning rate: 0.09 ; Batch size: 120\n",
            "Weight Decay: 1e-07 ; Probabilidades de desligamento:0.25\n",
            "----------\n",
            "\n"
          ]
        },
        {
          "output_type": "stream",
          "name": "stderr",
          "text": [
            " 10%|▉         | 198/2000 [01:06<10:02,  2.99it/s]\n"
          ]
        },
        {
          "output_type": "stream",
          "name": "stdout",
          "text": [
            "Training interrupted by early stopping!\n",
            "Total epochs run: 199\n",
            "Best model found at epoch 123 with valid loss 9.038522064685822 and training loss 40.970480024814606\n",
            "Total training time: 0:01:06.187223\n",
            "----------Tentativas sem melhora: 3, Desligando...\n",
            "\n",
            "\n",
            "\n",
            "--------------------\n",
            "Total training time: 0:26:40.720467\n",
            "----------\n",
            "Camadas: 5\n",
            "----------Learning rate: 0.09 ; Batch size: 120\n",
            "Weight Decay: 1e-06 ; Probabilidades de desligamento:0.5\n",
            "----------\n",
            "\n"
          ]
        },
        {
          "output_type": "stream",
          "name": "stderr",
          "text": [
            "  4%|▍         | 76/2000 [00:14<06:15,  5.12it/s]\n"
          ]
        },
        {
          "output_type": "stream",
          "name": "stdout",
          "text": [
            "Training interrupted by early stopping!\n",
            "Total epochs run: 77\n",
            "Best model found at epoch 1 with valid loss 9.03368753194809 and training loss 42.557630360126495\n",
            "Total training time: 0:00:14.862911\n",
            "----------\n",
            "Camadas: 6\n",
            "----------Learning rate: 0.09 ; Batch size: 120\n",
            "Weight Decay: 1e-06 ; Probabilidades de desligamento:0.5\n",
            "----------\n",
            "\n"
          ]
        },
        {
          "output_type": "stream",
          "name": "stderr",
          "text": [
            "  4%|▍         | 76/2000 [00:20<08:47,  3.64it/s]\n"
          ]
        },
        {
          "output_type": "stream",
          "name": "stdout",
          "text": [
            "Training interrupted by early stopping!\n",
            "Total epochs run: 77\n",
            "Best model found at epoch 1 with valid loss 9.03278124332428 and training loss 41.26040679216385\n",
            "Total training time: 0:00:20.865284\n",
            "----------\n",
            "Camadas: 7\n",
            "----------Learning rate: 0.09 ; Batch size: 120\n",
            "Weight Decay: 1e-06 ; Probabilidades de desligamento:0.5\n",
            "----------\n",
            "\n"
          ]
        },
        {
          "output_type": "stream",
          "name": "stderr",
          "text": [
            "  4%|▍         | 76/2000 [00:23<09:45,  3.29it/s]\n"
          ]
        },
        {
          "output_type": "stream",
          "name": "stdout",
          "text": [
            "Training interrupted by early stopping!\n",
            "Total epochs run: 77\n",
            "Best model found at epoch 1 with valid loss 9.028881430625916 and training loss 41.50191104412079\n",
            "Total training time: 0:00:23.130407\n",
            "----------Tentativas sem melhora: 3, Desligando...\n",
            "\n",
            "\n",
            "\n",
            "--------------------\n",
            "Total training time: 0:27:41.123900\n",
            "----------\n",
            "Camadas: 5\n",
            "----------Learning rate: 0.09 ; Batch size: 120\n",
            "Weight Decay: 1e-06 ; Probabilidades de desligamento:0.25\n",
            "----------\n",
            "\n"
          ]
        },
        {
          "output_type": "stream",
          "name": "stderr",
          "text": [
            "  7%|▋         | 132/2000 [00:40<09:32,  3.26it/s]\n"
          ]
        },
        {
          "output_type": "stream",
          "name": "stdout",
          "text": [
            "Training interrupted by early stopping!\n",
            "Total epochs run: 133\n",
            "Best model found at epoch 57 with valid loss 9.036737263202667 and training loss 40.992562651634216\n",
            "Total training time: 0:00:40.495858\n",
            "----------\n",
            "Camadas: 6\n",
            "----------Learning rate: 0.09 ; Batch size: 120\n",
            "Weight Decay: 1e-06 ; Probabilidades de desligamento:0.25\n",
            "----------\n",
            "\n"
          ]
        },
        {
          "output_type": "stream",
          "name": "stderr",
          "text": [
            "  4%|▍         | 82/2000 [00:21<08:22,  3.82it/s]\n"
          ]
        },
        {
          "output_type": "stream",
          "name": "stdout",
          "text": [
            "Training interrupted by early stopping!\n",
            "Total epochs run: 83\n",
            "Best model found at epoch 7 with valid loss 9.027821063995361 and training loss 41.17652237415314\n",
            "Total training time: 0:00:21.498060\n",
            "----------\n",
            "Camadas: 7\n",
            "----------Learning rate: 0.09 ; Batch size: 120\n",
            "Weight Decay: 1e-06 ; Probabilidades de desligamento:0.25\n",
            "----------\n",
            "\n"
          ]
        },
        {
          "output_type": "stream",
          "name": "stderr",
          "text": [
            "  4%|▍         | 76/2000 [00:17<07:32,  4.25it/s]\n"
          ]
        },
        {
          "output_type": "stream",
          "name": "stdout",
          "text": [
            "Training interrupted by early stopping!\n",
            "Total epochs run: 77\n",
            "Best model found at epoch 1 with valid loss 9.031479895114899 and training loss 41.09323573112488\n",
            "Total training time: 0:00:17.891526\n",
            "----------Tentativas sem melhora: 3, Desligando...\n",
            "\n",
            "\n",
            "\n",
            "--------------------\n",
            "Total training time: 0:29:02.532718\n",
            "----------\n",
            "Camadas: 5\n",
            "----------Learning rate: 0.05 ; Batch size: 100\n",
            "Weight Decay: 1e-07 ; Probabilidades de desligamento:0.5\n",
            "----------\n",
            "\n"
          ]
        },
        {
          "output_type": "stream",
          "name": "stderr",
          "text": [
            " 11%|█         | 213/2000 [00:46<06:31,  4.57it/s]\n"
          ]
        },
        {
          "output_type": "stream",
          "name": "stdout",
          "text": [
            "Training interrupted by early stopping!\n",
            "Total epochs run: 214\n",
            "Best model found at epoch 138 with valid loss 10.397030055522919 and training loss 51.38215708732605\n",
            "Total training time: 0:00:46.631855\n",
            "----------\n",
            "Camadas: 6\n",
            "----------Learning rate: 0.05 ; Batch size: 100\n",
            "Weight Decay: 1e-07 ; Probabilidades de desligamento:0.5\n",
            "----------\n",
            "\n"
          ]
        },
        {
          "output_type": "stream",
          "name": "stderr",
          "text": [
            "  4%|▍         | 80/2000 [00:15<06:14,  5.12it/s]\n"
          ]
        },
        {
          "output_type": "stream",
          "name": "stdout",
          "text": [
            "Training interrupted by early stopping!\n",
            "Total epochs run: 81\n",
            "Best model found at epoch 5 with valid loss 10.402662813663483 and training loss 49.01243484020233\n",
            "Total training time: 0:00:15.637940\n",
            "----------\n",
            "Camadas: 7\n",
            "----------Learning rate: 0.05 ; Batch size: 100\n",
            "Weight Decay: 1e-07 ; Probabilidades de desligamento:0.5\n",
            "----------\n",
            "\n"
          ]
        },
        {
          "output_type": "stream",
          "name": "stderr",
          "text": [
            "  4%|▍         | 81/2000 [00:19<07:38,  4.18it/s]\n"
          ]
        },
        {
          "output_type": "stream",
          "name": "stdout",
          "text": [
            "Training interrupted by early stopping!\n",
            "Total epochs run: 82\n",
            "Best model found at epoch 6 with valid loss 10.403828501701355 and training loss 49.28766447305679\n",
            "Total training time: 0:00:19.370615\n",
            "----------Tentativas sem melhora: 3, Desligando...\n",
            "\n",
            "\n",
            "\n",
            "--------------------\n",
            "Total training time: 0:30:25.664774\n",
            "----------\n",
            "Camadas: 5\n",
            "----------Learning rate: 0.05 ; Batch size: 100\n",
            "Weight Decay: 1e-07 ; Probabilidades de desligamento:0.25\n",
            "----------\n",
            "\n"
          ]
        },
        {
          "output_type": "stream",
          "name": "stderr",
          "text": [
            "  4%|▍         | 76/2000 [00:13<05:50,  5.49it/s]\n"
          ]
        },
        {
          "output_type": "stream",
          "name": "stdout",
          "text": [
            "Training interrupted by early stopping!\n",
            "Total epochs run: 77\n",
            "Best model found at epoch 1 with valid loss 10.281233370304108 and training loss 48.55514591932297\n",
            "Total training time: 0:00:13.851652\n",
            "----------\n",
            "Camadas: 6\n",
            "----------Learning rate: 0.05 ; Batch size: 100\n",
            "Weight Decay: 1e-07 ; Probabilidades de desligamento:0.25\n",
            "----------\n",
            "\n"
          ]
        },
        {
          "output_type": "stream",
          "name": "stderr",
          "text": [
            "  4%|▍         | 77/2000 [00:17<07:14,  4.43it/s]\n"
          ]
        },
        {
          "output_type": "stream",
          "name": "stdout",
          "text": [
            "Training interrupted by early stopping!\n",
            "Total epochs run: 78\n",
            "Best model found at epoch 2 with valid loss 10.415001034736633 and training loss 48.57192701101303\n",
            "Total training time: 0:00:17.409700\n",
            "----------\n",
            "Camadas: 7\n",
            "----------Learning rate: 0.05 ; Batch size: 100\n",
            "Weight Decay: 1e-07 ; Probabilidades de desligamento:0.25\n",
            "----------\n",
            "\n"
          ]
        },
        {
          "output_type": "stream",
          "name": "stderr",
          "text": [
            "  4%|▍         | 76/2000 [00:20<08:41,  3.69it/s]\n"
          ]
        },
        {
          "output_type": "stream",
          "name": "stdout",
          "text": [
            "Training interrupted by early stopping!\n",
            "Total epochs run: 77\n",
            "Best model found at epoch 1 with valid loss 10.412565767765045 and training loss 49.11571645736694\n",
            "Total training time: 0:00:20.615890\n",
            "----------Tentativas sem melhora: 3, Desligando...\n",
            "\n",
            "\n",
            "\n",
            "--------------------\n",
            "Total training time: 0:31:19.002661\n",
            "----------\n",
            "Camadas: 5\n",
            "----------Learning rate: 0.05 ; Batch size: 100\n",
            "Weight Decay: 1e-06 ; Probabilidades de desligamento:0.5\n",
            "----------\n",
            "\n"
          ]
        },
        {
          "output_type": "stream",
          "name": "stderr",
          "text": [
            "  4%|▍         | 77/2000 [00:18<07:34,  4.23it/s]\n"
          ]
        },
        {
          "output_type": "stream",
          "name": "stdout",
          "text": [
            "Training interrupted by early stopping!\n",
            "Total epochs run: 78\n",
            "Best model found at epoch 2 with valid loss 10.41484647989273 and training loss 48.61731547117233\n",
            "Total training time: 0:00:18.212247\n",
            "----------\n",
            "Camadas: 6\n",
            "----------Learning rate: 0.05 ; Batch size: 100\n",
            "Weight Decay: 1e-06 ; Probabilidades de desligamento:0.5\n",
            "----------\n",
            "\n"
          ]
        },
        {
          "output_type": "stream",
          "name": "stderr",
          "text": [
            "  4%|▍         | 76/2000 [00:21<09:05,  3.53it/s]\n"
          ]
        },
        {
          "output_type": "stream",
          "name": "stdout",
          "text": [
            "Training interrupted by early stopping!\n",
            "Total epochs run: 77\n",
            "Best model found at epoch 1 with valid loss 10.40904951095581 and training loss 48.816626369953156\n",
            "Total training time: 0:00:21.557539\n",
            "----------\n",
            "Camadas: 7\n",
            "----------Learning rate: 0.05 ; Batch size: 100\n",
            "Weight Decay: 1e-06 ; Probabilidades de desligamento:0.5\n",
            "----------\n",
            "\n"
          ]
        },
        {
          "output_type": "stream",
          "name": "stderr",
          "text": [
            "  4%|▍         | 77/2000 [00:23<09:49,  3.26it/s]\n"
          ]
        },
        {
          "output_type": "stream",
          "name": "stdout",
          "text": [
            "Training interrupted by early stopping!\n",
            "Total epochs run: 78\n",
            "Best model found at epoch 2 with valid loss 10.414704740047455 and training loss 48.5724835395813\n",
            "Total training time: 0:00:23.629934\n",
            "----------Tentativas sem melhora: 3, Desligando...\n",
            "\n",
            "\n",
            "\n",
            "--------------------\n",
            "Total training time: 0:32:23.848723\n",
            "----------\n",
            "Camadas: 5\n",
            "----------Learning rate: 0.05 ; Batch size: 100\n",
            "Weight Decay: 1e-06 ; Probabilidades de desligamento:0.25\n",
            "----------\n",
            "\n"
          ]
        },
        {
          "output_type": "stream",
          "name": "stderr",
          "text": [
            "  4%|▍         | 77/2000 [00:22<09:26,  3.40it/s]\n"
          ]
        },
        {
          "output_type": "stream",
          "name": "stdout",
          "text": [
            "Training interrupted by early stopping!\n",
            "Total epochs run: 78\n",
            "Best model found at epoch 2 with valid loss 10.41452044248581 and training loss 48.5733380317688\n",
            "Total training time: 0:00:22.685541\n",
            "----------\n",
            "Camadas: 6\n",
            "----------Learning rate: 0.05 ; Batch size: 100\n",
            "Weight Decay: 1e-06 ; Probabilidades de desligamento:0.25\n",
            "----------\n",
            "\n"
          ]
        },
        {
          "output_type": "stream",
          "name": "stderr",
          "text": [
            "  4%|▍         | 77/2000 [00:25<10:41,  3.00it/s]\n"
          ]
        },
        {
          "output_type": "stream",
          "name": "stdout",
          "text": [
            "Training interrupted by early stopping!\n",
            "Total epochs run: 78\n",
            "Best model found at epoch 2 with valid loss 10.414726316928864 and training loss 48.57284903526306\n",
            "Total training time: 0:00:25.715167\n",
            "----------\n",
            "Camadas: 7\n",
            "----------Learning rate: 0.05 ; Batch size: 100\n",
            "Weight Decay: 1e-06 ; Probabilidades de desligamento:0.25\n",
            "----------\n",
            "\n"
          ]
        },
        {
          "output_type": "stream",
          "name": "stderr",
          "text": [
            "  4%|▍         | 77/2000 [00:25<10:44,  2.98it/s]\n"
          ]
        },
        {
          "output_type": "stream",
          "name": "stdout",
          "text": [
            "Training interrupted by early stopping!\n",
            "Total epochs run: 78\n",
            "Best model found at epoch 2 with valid loss 10.380825936794281 and training loss 48.56245458126068\n",
            "Total training time: 0:00:25.825474\n",
            "----------Tentativas sem melhora: 3, Desligando...\n",
            "\n",
            "\n",
            "\n",
            "--------------------\n",
            "Total training time: 0:33:39.497088\n",
            "----------\n",
            "Camadas: 5\n",
            "----------Learning rate: 0.05 ; Batch size: 120\n",
            "Weight Decay: 1e-07 ; Probabilidades de desligamento:0.5\n",
            "----------\n",
            "\n"
          ]
        },
        {
          "output_type": "stream",
          "name": "stderr",
          "text": [
            "  8%|▊         | 166/2000 [00:27<04:59,  6.13it/s]\n"
          ]
        },
        {
          "output_type": "stream",
          "name": "stdout",
          "text": [
            "Training interrupted by early stopping!\n",
            "Total epochs run: 167\n",
            "Best model found at epoch 91 with valid loss 9.012478530406952 and training loss 41.81124538183212\n",
            "Total training time: 0:00:27.114584\n",
            "----------\n",
            "Camadas: 6\n",
            "----------Learning rate: 0.05 ; Batch size: 120\n",
            "Weight Decay: 1e-07 ; Probabilidades de desligamento:0.5\n",
            "----------\n",
            "\n"
          ]
        },
        {
          "output_type": "stream",
          "name": "stderr",
          "text": [
            "  4%|▍         | 79/2000 [00:13<05:33,  5.76it/s]\n"
          ]
        },
        {
          "output_type": "stream",
          "name": "stdout",
          "text": [
            "Training interrupted by early stopping!\n",
            "Total epochs run: 80\n",
            "Best model found at epoch 4 with valid loss 9.01467102766037 and training loss 41.49983638525009\n",
            "Total training time: 0:00:13.725919\n",
            "----------\n",
            "Camadas: 7\n",
            "----------Learning rate: 0.05 ; Batch size: 120\n",
            "Weight Decay: 1e-07 ; Probabilidades de desligamento:0.5\n",
            "----------\n",
            "\n"
          ]
        },
        {
          "output_type": "stream",
          "name": "stderr",
          "text": [
            "  4%|▍         | 76/2000 [00:14<06:04,  5.28it/s]\n"
          ]
        },
        {
          "output_type": "stream",
          "name": "stdout",
          "text": [
            "Training interrupted by early stopping!\n",
            "Total epochs run: 77\n",
            "Best model found at epoch 1 with valid loss 9.017958104610443 and training loss 41.231548964977264\n",
            "Total training time: 0:00:14.417615\n",
            "----------Tentativas sem melhora: 3, Desligando...\n",
            "\n",
            "\n",
            "\n",
            "--------------------\n",
            "Total training time: 0:34:36.198056\n",
            "----------\n",
            "Camadas: 5\n",
            "----------Learning rate: 0.05 ; Batch size: 120\n",
            "Weight Decay: 1e-07 ; Probabilidades de desligamento:0.25\n",
            "----------\n",
            "\n"
          ]
        },
        {
          "output_type": "stream",
          "name": "stderr",
          "text": [
            "  4%|▍         | 76/2000 [00:11<04:59,  6.41it/s]\n"
          ]
        },
        {
          "output_type": "stream",
          "name": "stdout",
          "text": [
            "Training interrupted by early stopping!\n",
            "Total epochs run: 77\n",
            "Best model found at epoch 1 with valid loss 7.8549195528030396 and training loss 39.99031013250351\n",
            "Total training time: 0:00:11.857330\n",
            "----------\n",
            "Camadas: 6\n",
            "----------Learning rate: 0.05 ; Batch size: 120\n",
            "Weight Decay: 1e-07 ; Probabilidades de desligamento:0.25\n",
            "----------\n",
            "\n"
          ]
        },
        {
          "output_type": "stream",
          "name": "stderr",
          "text": [
            "  4%|▍         | 76/2000 [00:15<06:34,  4.88it/s]\n"
          ]
        },
        {
          "output_type": "stream",
          "name": "stdout",
          "text": [
            "Training interrupted by early stopping!\n",
            "Total epochs run: 77\n",
            "Best model found at epoch 1 with valid loss 9.021915853023529 and training loss 41.0686217546463\n",
            "Total training time: 0:00:15.602338\n",
            "----------\n",
            "Camadas: 7\n",
            "----------Learning rate: 0.05 ; Batch size: 120\n",
            "Weight Decay: 1e-07 ; Probabilidades de desligamento:0.25\n",
            "----------\n",
            "\n"
          ]
        },
        {
          "output_type": "stream",
          "name": "stderr",
          "text": [
            "  4%|▍         | 77/2000 [00:20<08:31,  3.76it/s]\n"
          ]
        },
        {
          "output_type": "stream",
          "name": "stdout",
          "text": [
            "Training interrupted by early stopping!\n",
            "Total epochs run: 78\n",
            "Best model found at epoch 2 with valid loss 9.023423254489899 and training loss 40.931821405887604\n",
            "Total training time: 0:00:20.497625\n",
            "----------Tentativas sem melhora: 3, Desligando...\n",
            "\n",
            "\n",
            "\n",
            "--------------------\n",
            "Total training time: 0:35:25.587356\n",
            "----------\n",
            "Camadas: 5\n",
            "----------Learning rate: 0.05 ; Batch size: 120\n",
            "Weight Decay: 1e-06 ; Probabilidades de desligamento:0.5\n",
            "----------\n",
            "\n"
          ]
        },
        {
          "output_type": "stream",
          "name": "stderr",
          "text": [
            "  5%|▌         | 101/2000 [00:20<06:27,  4.90it/s]\n"
          ]
        },
        {
          "output_type": "stream",
          "name": "stdout",
          "text": [
            "Training interrupted by early stopping!\n",
            "Total epochs run: 102\n",
            "Best model found at epoch 26 with valid loss 9.011848986148834 and training loss 41.88116139173508\n",
            "Total training time: 0:00:20.610819\n",
            "----------\n",
            "Camadas: 6\n",
            "----------Learning rate: 0.05 ; Batch size: 120\n",
            "Weight Decay: 1e-06 ; Probabilidades de desligamento:0.5\n",
            "----------\n",
            "\n"
          ]
        },
        {
          "output_type": "stream",
          "name": "stderr",
          "text": [
            "  4%|▍         | 76/2000 [00:16<06:49,  4.69it/s]\n"
          ]
        },
        {
          "output_type": "stream",
          "name": "stdout",
          "text": [
            "Training interrupted by early stopping!\n",
            "Total epochs run: 77\n",
            "Best model found at epoch 1 with valid loss 9.02277261018753 and training loss 41.33548432588577\n",
            "Total training time: 0:00:16.206142\n",
            "----------\n",
            "Camadas: 7\n",
            "----------Learning rate: 0.05 ; Batch size: 120\n",
            "Weight Decay: 1e-06 ; Probabilidades de desligamento:0.5\n",
            "----------\n",
            "\n"
          ]
        },
        {
          "output_type": "stream",
          "name": "stderr",
          "text": [
            "  4%|▍         | 77/2000 [00:22<09:26,  3.39it/s]\n"
          ]
        },
        {
          "output_type": "stream",
          "name": "stdout",
          "text": [
            "Training interrupted by early stopping!\n",
            "Total epochs run: 78\n",
            "Best model found at epoch 2 with valid loss 9.02352112531662 and training loss 40.9321072101593\n",
            "Total training time: 0:00:22.704656\n",
            "----------Tentativas sem melhora: 3, Desligando...\n",
            "\n",
            "\n",
            "\n",
            "--------------------\n",
            "Total training time: 0:36:26.539620\n",
            "----------\n",
            "Camadas: 5\n",
            "----------Learning rate: 0.05 ; Batch size: 120\n",
            "Weight Decay: 1e-06 ; Probabilidades de desligamento:0.25\n",
            "----------\n",
            "\n"
          ]
        },
        {
          "output_type": "stream",
          "name": "stderr",
          "text": [
            "  4%|▍         | 76/2000 [00:19<08:14,  3.89it/s]\n"
          ]
        },
        {
          "output_type": "stream",
          "name": "stdout",
          "text": [
            "Training interrupted by early stopping!\n",
            "Total epochs run: 77\n",
            "Best model found at epoch 1 with valid loss 8.813751757144928 and training loss 40.72202146053314\n",
            "Total training time: 0:00:19.541925\n",
            "----------\n",
            "Camadas: 6\n",
            "----------Learning rate: 0.05 ; Batch size: 120\n",
            "Weight Decay: 1e-06 ; Probabilidades de desligamento:0.25\n",
            "----------\n",
            "\n"
          ]
        },
        {
          "output_type": "stream",
          "name": "stderr",
          "text": [
            "  4%|▍         | 76/2000 [00:23<09:42,  3.30it/s]\n"
          ]
        },
        {
          "output_type": "stream",
          "name": "stdout",
          "text": [
            "Training interrupted by early stopping!\n",
            "Total epochs run: 77\n",
            "Best model found at epoch 1 with valid loss 9.02262020111084 and training loss 41.07148718833923\n",
            "Total training time: 0:00:23.043547\n",
            "----------\n",
            "Camadas: 7\n",
            "----------Learning rate: 0.05 ; Batch size: 120\n",
            "Weight Decay: 1e-06 ; Probabilidades de desligamento:0.25\n",
            "----------\n",
            "\n"
          ]
        },
        {
          "output_type": "stream",
          "name": "stderr",
          "text": [
            "  4%|▍         | 77/2000 [00:20<08:43,  3.67it/s]\n"
          ]
        },
        {
          "output_type": "stream",
          "name": "stdout",
          "text": [
            "Training interrupted by early stopping!\n",
            "Total epochs run: 78\n",
            "Best model found at epoch 2 with valid loss 9.023422122001648 and training loss 40.93175905942917\n",
            "Total training time: 0:00:20.984967\n",
            "----------Tentativas sem melhora: 3, Desligando...\n",
            "\n",
            "\n",
            "\n",
            "--------------------\n",
            "Total training time: 0:37:31.663612\n",
            "8.084309697151184\n",
            "0.678\n",
            "GeradorRede(\n",
            "  (layers): ModuleList(\n",
            "    (0): Linear(in_features=3, out_features=96, bias=True)\n",
            "    (1): ReLU()\n",
            "    (2): Dropout(p=0.25, inplace=False)\n",
            "    (3): Linear(in_features=96, out_features=48, bias=True)\n",
            "    (4): ReLU()\n",
            "    (5): Dropout(p=0.25, inplace=False)\n",
            "    (6): Linear(in_features=48, out_features=24, bias=True)\n",
            "    (7): ReLU()\n",
            "    (8): Dropout(p=0.25, inplace=False)\n",
            "    (9): Linear(in_features=24, out_features=12, bias=True)\n",
            "    (10): ReLU()\n",
            "    (11): Dropout(p=0.25, inplace=False)\n",
            "    (12): Linear(in_features=12, out_features=6, bias=True)\n",
            "    (13): ReLU()\n",
            "    (14): Dropout(p=0.25, inplace=False)\n",
            "    (15): Linear(in_features=6, out_features=2, bias=True)\n",
            "    (16): Softmax(dim=-1)\n",
            "  )\n",
            ")\n"
          ]
        }
      ]
    },
    {
      "cell_type": "code",
      "source": [
        "best_valid_loss2, total_accuracy2, best_model2 = run_models(df, 3, '../atp_pic2',\n",
        "            num_neuronios= [128, 144], \n",
        "            probs_desligar= [.125, .062], \n",
        "            weight_decays= [1e-5, 1e-4],\n",
        "            num_layers = [5, 6, 7, 8, 9],\n",
        "            learning_rates = [0.09, 0.05], \n",
        "            run_batch_sizes = [100, 120],\n",
        "            run_epochs = 2000,\n",
        "            run_early_stopping_epochs = 75\n",
        "            )\n",
        "print(best_valid_loss2)\n",
        "print(total_accuracy2)\n",
        "print(best_model2)"
      ],
      "metadata": {
        "colab": {
          "base_uri": "https://localhost:8080/"
        },
        "id": "1NOXQ-TShQDD",
        "outputId": "9728634d-57fb-4bbf-a03c-2bab27bd99e5"
      },
      "execution_count": 9,
      "outputs": [
        {
          "output_type": "stream",
          "name": "stdout",
          "text": [
            "----------\n",
            "Camadas: 5\n",
            "----------Learning rate: 0.09 ; Batch size: 100\n",
            "Weight Decay: 1e-05 ; Probabilidades de desligamento:0.125\n",
            "----------\n",
            "\n"
          ]
        },
        {
          "output_type": "stream",
          "name": "stderr",
          "text": [
            "  6%|▌         | 119/2000 [00:48<12:41,  2.47it/s]\n"
          ]
        },
        {
          "output_type": "stream",
          "name": "stdout",
          "text": [
            "Training interrupted by early stopping!\n",
            "Total epochs run: 120\n",
            "Best model found at epoch 44 with valid loss 10.428783118724823 and training loss 54.09025377035141\n",
            "Total training time: 0:00:48.210885\n",
            "--------------------------------------------------------- New best global model found! ---------------------------------------------------------\n",
            "GeradorRede(\n",
            "  (layers): ModuleList(\n",
            "    (0): Linear(in_features=3, out_features=128, bias=True)\n",
            "    (1): ReLU()\n",
            "    (2): Dropout(p=0.125, inplace=False)\n",
            "    (3): Linear(in_features=128, out_features=64, bias=True)\n",
            "    (4): ReLU()\n",
            "    (5): Dropout(p=0.125, inplace=False)\n",
            "    (6): Linear(in_features=64, out_features=32, bias=True)\n",
            "    (7): ReLU()\n",
            "    (8): Dropout(p=0.125, inplace=False)\n",
            "    (9): Linear(in_features=32, out_features=16, bias=True)\n",
            "    (10): ReLU()\n",
            "    (11): Dropout(p=0.125, inplace=False)\n",
            "    (12): Linear(in_features=16, out_features=8, bias=True)\n",
            "    (13): ReLU()\n",
            "    (14): Dropout(p=0.125, inplace=False)\n",
            "    (15): Linear(in_features=8, out_features=2, bias=True)\n",
            "    (16): Softmax(dim=-1)\n",
            "  )\n",
            ")\n",
            "\n",
            "Validation loss: 10.428783118724823\n",
            "\n",
            "Accuracy: 0.49733333333333335\n",
            "\n",
            "Loss: 0.6952522993087769\n",
            "\n",
            "----------\n",
            "Camadas: 6\n",
            "----------Learning rate: 0.09 ; Batch size: 100\n",
            "Weight Decay: 1e-05 ; Probabilidades de desligamento:0.125\n",
            "----------\n",
            "\n"
          ]
        },
        {
          "output_type": "stream",
          "name": "stderr",
          "text": [
            "  4%|▍         | 76/2000 [00:31<13:19,  2.41it/s]\n"
          ]
        },
        {
          "output_type": "stream",
          "name": "stdout",
          "text": [
            "Training interrupted by early stopping!\n",
            "Total epochs run: 77\n",
            "Best model found at epoch 1 with valid loss 10.441726684570312 and training loss 48.70566713809967\n",
            "Total training time: 0:00:31.618068\n",
            "----------\n",
            "Camadas: 7\n",
            "----------Learning rate: 0.09 ; Batch size: 100\n",
            "Weight Decay: 1e-05 ; Probabilidades de desligamento:0.125\n",
            "----------\n",
            "\n"
          ]
        },
        {
          "output_type": "stream",
          "name": "stderr",
          "text": [
            "  4%|▍         | 76/2000 [00:31<13:05,  2.45it/s]\n"
          ]
        },
        {
          "output_type": "stream",
          "name": "stdout",
          "text": [
            "Training interrupted by early stopping!\n",
            "Total epochs run: 77\n",
            "Best model found at epoch 1 with valid loss 10.439862966537476 and training loss 48.77767086029053\n",
            "Total training time: 0:00:31.056534\n",
            "----------\n",
            "Camadas: 8\n",
            "----------Learning rate: 0.09 ; Batch size: 100\n",
            "Weight Decay: 1e-05 ; Probabilidades de desligamento:0.125\n",
            "----------\n",
            "\n"
          ]
        },
        {
          "output_type": "stream",
          "name": "stderr",
          "text": [
            "  4%|▍         | 76/2000 [00:32<13:39,  2.35it/s]\n"
          ]
        },
        {
          "output_type": "stream",
          "name": "stdout",
          "text": [
            "Training interrupted by early stopping!\n",
            "Total epochs run: 77\n",
            "Best model found at epoch 1 with valid loss 10.444406390190125 and training loss 48.68463146686554\n",
            "Total training time: 0:00:32.405568\n",
            "----------\n",
            "Camadas: 9\n",
            "----------Learning rate: 0.09 ; Batch size: 100\n",
            "Weight Decay: 1e-05 ; Probabilidades de desligamento:0.125\n",
            "----------\n",
            "\n"
          ]
        },
        {
          "output_type": "stream",
          "name": "stderr",
          "text": [
            "  6%|▋         | 127/2000 [01:08<16:51,  1.85it/s]\n"
          ]
        },
        {
          "output_type": "stream",
          "name": "stdout",
          "text": [
            "Training interrupted by early stopping!\n",
            "Total epochs run: 128\n",
            "Best model found at epoch 52 with valid loss 10.446062803268433 and training loss 48.635152995586395\n",
            "Total training time: 0:01:08.635101\n",
            "\n",
            "\n",
            "\n",
            "--------------------\n",
            "Total training time: 0:03:34.777220\n",
            "----------\n",
            "Camadas: 5\n",
            "----------Learning rate: 0.09 ; Batch size: 100\n",
            "Weight Decay: 1e-05 ; Probabilidades de desligamento:0.062\n",
            "----------\n",
            "\n"
          ]
        },
        {
          "output_type": "stream",
          "name": "stderr",
          "text": [
            "  4%|▍         | 76/2000 [00:29<12:23,  2.59it/s]\n"
          ]
        },
        {
          "output_type": "stream",
          "name": "stdout",
          "text": [
            "Training interrupted by early stopping!\n",
            "Total epochs run: 77\n",
            "Best model found at epoch 1 with valid loss 12.15892630815506 and training loss 56.28958189487457\n",
            "Total training time: 0:00:29.388472\n",
            "----------\n",
            "Camadas: 6\n",
            "----------Learning rate: 0.09 ; Batch size: 100\n",
            "Weight Decay: 1e-05 ; Probabilidades de desligamento:0.062\n",
            "----------\n",
            "\n"
          ]
        },
        {
          "output_type": "stream",
          "name": "stderr",
          "text": [
            "  4%|▍         | 76/2000 [00:32<13:46,  2.33it/s]\n"
          ]
        },
        {
          "output_type": "stream",
          "name": "stdout",
          "text": [
            "Training interrupted by early stopping!\n",
            "Total epochs run: 77\n",
            "Best model found at epoch 1 with valid loss 10.443350732326508 and training loss 48.745086789131165\n",
            "Total training time: 0:00:32.652408\n",
            "----------\n",
            "Camadas: 7\n",
            "----------Learning rate: 0.09 ; Batch size: 100\n",
            "Weight Decay: 1e-05 ; Probabilidades de desligamento:0.062\n",
            "----------\n",
            "\n"
          ]
        },
        {
          "output_type": "stream",
          "name": "stderr",
          "text": [
            "  7%|▋         | 144/2000 [01:14<15:54,  1.94it/s]\n"
          ]
        },
        {
          "output_type": "stream",
          "name": "stdout",
          "text": [
            "Training interrupted by early stopping!\n",
            "Total epochs run: 145\n",
            "Best model found at epoch 69 with valid loss 10.430002987384796 and training loss 48.63396292924881\n",
            "Total training time: 0:01:14.073665\n",
            "----------Tentativas sem melhora: 3, Desligando...\n",
            "\n",
            "\n",
            "\n",
            "--------------------\n",
            "Total training time: 0:05:52.424057\n",
            "----------\n",
            "Camadas: 5\n",
            "----------Learning rate: 0.09 ; Batch size: 100\n",
            "Weight Decay: 0.0001 ; Probabilidades de desligamento:0.125\n",
            "----------\n",
            "\n"
          ]
        },
        {
          "output_type": "stream",
          "name": "stderr",
          "text": [
            "  4%|▍         | 76/2000 [00:28<12:09,  2.64it/s]\n"
          ]
        },
        {
          "output_type": "stream",
          "name": "stdout",
          "text": [
            "Training interrupted by early stopping!\n",
            "Total epochs run: 77\n",
            "Best model found at epoch 1 with valid loss 10.397307515144348 and training loss 49.48524588346481\n",
            "Total training time: 0:00:28.818253\n",
            "--------------------------------------------------------- New best global model found! ---------------------------------------------------------\n",
            "GeradorRede(\n",
            "  (layers): ModuleList(\n",
            "    (0): Linear(in_features=3, out_features=128, bias=True)\n",
            "    (1): ReLU()\n",
            "    (2): Dropout(p=0.125, inplace=False)\n",
            "    (3): Linear(in_features=128, out_features=64, bias=True)\n",
            "    (4): ReLU()\n",
            "    (5): Dropout(p=0.125, inplace=False)\n",
            "    (6): Linear(in_features=64, out_features=32, bias=True)\n",
            "    (7): ReLU()\n",
            "    (8): Dropout(p=0.125, inplace=False)\n",
            "    (9): Linear(in_features=32, out_features=16, bias=True)\n",
            "    (10): ReLU()\n",
            "    (11): Dropout(p=0.125, inplace=False)\n",
            "    (12): Linear(in_features=16, out_features=8, bias=True)\n",
            "    (13): ReLU()\n",
            "    (14): Dropout(p=0.125, inplace=False)\n",
            "    (15): Linear(in_features=8, out_features=2, bias=True)\n",
            "    (16): Softmax(dim=-1)\n",
            "  )\n",
            ")\n",
            "\n",
            "Validation loss: 10.397307515144348\n",
            "\n",
            "Accuracy: 0.5026666666666667\n",
            "\n",
            "Loss: 0.6931537389755249\n",
            "\n",
            "----------\n",
            "Camadas: 6\n",
            "----------Learning rate: 0.09 ; Batch size: 100\n",
            "Weight Decay: 0.0001 ; Probabilidades de desligamento:0.125\n",
            "----------\n",
            "\n"
          ]
        },
        {
          "output_type": "stream",
          "name": "stderr",
          "text": [
            " 10%|█         | 206/2000 [01:16<11:05,  2.70it/s]\n"
          ]
        },
        {
          "output_type": "stream",
          "name": "stdout",
          "text": [
            "Training interrupted by early stopping!\n",
            "Total epochs run: 207\n",
            "Best model found at epoch 131 with valid loss 10.402712404727936 and training loss 52.000695407390594\n",
            "Total training time: 0:01:16.387562\n",
            "----------\n",
            "Camadas: 7\n",
            "----------Learning rate: 0.09 ; Batch size: 100\n",
            "Weight Decay: 0.0001 ; Probabilidades de desligamento:0.125\n",
            "----------\n",
            "\n"
          ]
        },
        {
          "output_type": "stream",
          "name": "stderr",
          "text": [
            " 14%|█▍        | 276/2000 [01:09<07:12,  3.99it/s]\n"
          ]
        },
        {
          "output_type": "stream",
          "name": "stdout",
          "text": [
            "Training interrupted by early stopping!\n",
            "Total epochs run: 277\n",
            "Best model found at epoch 201 with valid loss 10.42938631772995 and training loss 48.61615031957626\n",
            "Total training time: 0:01:09.179798\n",
            "----------\n",
            "Camadas: 8\n",
            "----------Learning rate: 0.09 ; Batch size: 100\n",
            "Weight Decay: 0.0001 ; Probabilidades de desligamento:0.125\n",
            "----------\n",
            "\n"
          ]
        },
        {
          "output_type": "stream",
          "name": "stderr",
          "text": [
            "  7%|▋         | 149/2000 [01:16<15:51,  1.94it/s]\n"
          ]
        },
        {
          "output_type": "stream",
          "name": "stdout",
          "text": [
            "Training interrupted by early stopping!\n",
            "Total epochs run: 150\n",
            "Best model found at epoch 74 with valid loss 10.443621039390564 and training loss 48.700921416282654\n",
            "Total training time: 0:01:16.645790\n",
            "----------\n",
            "Camadas: 9\n",
            "----------Learning rate: 0.09 ; Batch size: 100\n",
            "Weight Decay: 0.0001 ; Probabilidades de desligamento:0.125\n",
            "----------\n",
            "\n"
          ]
        },
        {
          "output_type": "stream",
          "name": "stderr",
          "text": [
            "  8%|▊         | 158/2000 [00:56<10:58,  2.80it/s]\n"
          ]
        },
        {
          "output_type": "stream",
          "name": "stdout",
          "text": [
            "Training interrupted by early stopping!\n",
            "Total epochs run: 159\n",
            "Best model found at epoch 83 with valid loss 10.445171773433685 and training loss 48.655704498291016\n",
            "Total training time: 0:00:56.506572\n",
            "\n",
            "\n",
            "\n",
            "--------------------\n",
            "Total training time: 0:11:02.810193\n",
            "----------\n",
            "Camadas: 5\n",
            "----------Learning rate: 0.09 ; Batch size: 100\n",
            "Weight Decay: 0.0001 ; Probabilidades de desligamento:0.062\n",
            "----------\n",
            "\n"
          ]
        },
        {
          "output_type": "stream",
          "name": "stderr",
          "text": [
            " 10%|█         | 202/2000 [01:11<10:38,  2.82it/s]\n"
          ]
        },
        {
          "output_type": "stream",
          "name": "stdout",
          "text": [
            "Training interrupted by early stopping!\n",
            "Total epochs run: 203\n",
            "Best model found at epoch 127 with valid loss 10.413775622844696 and training loss 48.78960078954697\n",
            "Total training time: 0:01:11.749493\n",
            "----------\n",
            "Camadas: 6\n",
            "----------Learning rate: 0.09 ; Batch size: 100\n",
            "Weight Decay: 0.0001 ; Probabilidades de desligamento:0.062\n",
            "----------\n",
            "\n"
          ]
        },
        {
          "output_type": "stream",
          "name": "stderr",
          "text": [
            "  4%|▍         | 82/2000 [00:40<15:38,  2.04it/s]\n"
          ]
        },
        {
          "output_type": "stream",
          "name": "stdout",
          "text": [
            "Training interrupted by early stopping!\n",
            "Total epochs run: 83\n",
            "Best model found at epoch 7 with valid loss 10.402240633964539 and training loss 48.639187693595886\n",
            "Total training time: 0:00:40.142742\n",
            "----------\n",
            "Camadas: 7\n",
            "----------Learning rate: 0.09 ; Batch size: 100\n",
            "Weight Decay: 0.0001 ; Probabilidades de desligamento:0.062\n",
            "----------\n",
            "\n"
          ]
        },
        {
          "output_type": "stream",
          "name": "stderr",
          "text": [
            "  4%|▍         | 76/2000 [00:39<16:33,  1.94it/s]\n"
          ]
        },
        {
          "output_type": "stream",
          "name": "stdout",
          "text": [
            "Training interrupted by early stopping!\n",
            "Total epochs run: 77\n",
            "Best model found at epoch 1 with valid loss 10.44052791595459 and training loss 48.77168947458267\n",
            "Total training time: 0:00:39.264984\n",
            "----------Tentativas sem melhora: 3, Desligando...\n",
            "\n",
            "\n",
            "\n",
            "--------------------\n",
            "Total training time: 0:13:35.404758\n",
            "----------\n",
            "Camadas: 5\n",
            "----------Learning rate: 0.09 ; Batch size: 120\n",
            "Weight Decay: 1e-05 ; Probabilidades de desligamento:0.125\n",
            "----------\n",
            "\n"
          ]
        },
        {
          "output_type": "stream",
          "name": "stderr",
          "text": [
            "  4%|▍         | 76/2000 [00:27<11:32,  2.78it/s]\n"
          ]
        },
        {
          "output_type": "stream",
          "name": "stdout",
          "text": [
            "Training interrupted by early stopping!\n",
            "Total epochs run: 77\n",
            "Best model found at epoch 1 with valid loss 9.035107910633087 and training loss 41.20783883333206\n",
            "Total training time: 0:00:27.379630\n",
            "----------\n",
            "Camadas: 6\n",
            "----------Learning rate: 0.09 ; Batch size: 120\n",
            "Weight Decay: 1e-05 ; Probabilidades de desligamento:0.125\n",
            "----------\n",
            "\n"
          ]
        },
        {
          "output_type": "stream",
          "name": "stderr",
          "text": [
            "  4%|▍         | 76/2000 [00:24<10:31,  3.05it/s]\n"
          ]
        },
        {
          "output_type": "stream",
          "name": "stdout",
          "text": [
            "Training interrupted by early stopping!\n",
            "Total epochs run: 77\n",
            "Best model found at epoch 1 with valid loss 9.032261550426483 and training loss 41.03784418106079\n",
            "Total training time: 0:00:24.971010\n",
            "----------\n",
            "Camadas: 7\n",
            "----------Learning rate: 0.09 ; Batch size: 120\n",
            "Weight Decay: 1e-05 ; Probabilidades de desligamento:0.125\n",
            "----------\n",
            "\n"
          ]
        },
        {
          "output_type": "stream",
          "name": "stderr",
          "text": [
            "  4%|▍         | 77/2000 [00:27<11:22,  2.82it/s]\n"
          ]
        },
        {
          "output_type": "stream",
          "name": "stdout",
          "text": [
            "Training interrupted by early stopping!\n",
            "Total epochs run: 78\n",
            "Best model found at epoch 2 with valid loss 9.036422431468964 and training loss 40.966899275779724\n",
            "Total training time: 0:00:27.333323\n",
            "----------Tentativas sem melhora: 3, Desligando...\n",
            "\n",
            "\n",
            "\n",
            "--------------------\n",
            "Total training time: 0:14:56.521884\n",
            "----------\n",
            "Camadas: 5\n",
            "----------Learning rate: 0.09 ; Batch size: 120\n",
            "Weight Decay: 1e-05 ; Probabilidades de desligamento:0.062\n",
            "----------\n",
            "\n"
          ]
        },
        {
          "output_type": "stream",
          "name": "stderr",
          "text": [
            "  4%|▍         | 76/2000 [00:25<10:45,  2.98it/s]\n"
          ]
        },
        {
          "output_type": "stream",
          "name": "stdout",
          "text": [
            "Training interrupted by early stopping!\n",
            "Total epochs run: 77\n",
            "Best model found at epoch 1 with valid loss 8.757129669189453 and training loss 41.043442487716675\n",
            "Total training time: 0:00:25.519263\n",
            "----------\n",
            "Camadas: 6\n",
            "----------Learning rate: 0.09 ; Batch size: 120\n",
            "Weight Decay: 1e-05 ; Probabilidades de desligamento:0.062\n",
            "----------\n",
            "\n"
          ]
        },
        {
          "output_type": "stream",
          "name": "stderr",
          "text": [
            "  4%|▍         | 76/2000 [00:26<11:09,  2.87it/s]\n"
          ]
        },
        {
          "output_type": "stream",
          "name": "stdout",
          "text": [
            "Training interrupted by early stopping!\n",
            "Total epochs run: 77\n",
            "Best model found at epoch 1 with valid loss 9.034099519252777 and training loss 41.07653844356537\n",
            "Total training time: 0:00:26.456389\n",
            "----------\n",
            "Camadas: 7\n",
            "----------Learning rate: 0.09 ; Batch size: 120\n",
            "Weight Decay: 1e-05 ; Probabilidades de desligamento:0.062\n",
            "----------\n",
            "\n"
          ]
        },
        {
          "output_type": "stream",
          "name": "stderr",
          "text": [
            "  4%|▍         | 77/2000 [00:29<12:18,  2.60it/s]\n"
          ]
        },
        {
          "output_type": "stream",
          "name": "stdout",
          "text": [
            "Training interrupted by early stopping!\n",
            "Total epochs run: 78\n",
            "Best model found at epoch 2 with valid loss 9.037144005298615 and training loss 40.96958148479462\n",
            "Total training time: 0:00:29.587262\n",
            "----------Tentativas sem melhora: 3, Desligando...\n",
            "\n",
            "\n",
            "\n",
            "--------------------\n",
            "Total training time: 0:16:19.533225\n",
            "----------\n",
            "Camadas: 5\n",
            "----------Learning rate: 0.09 ; Batch size: 120\n",
            "Weight Decay: 0.0001 ; Probabilidades de desligamento:0.125\n",
            "----------\n",
            "\n"
          ]
        },
        {
          "output_type": "stream",
          "name": "stderr",
          "text": [
            "  6%|▋         | 129/2000 [00:44<10:47,  2.89it/s]\n"
          ]
        },
        {
          "output_type": "stream",
          "name": "stdout",
          "text": [
            "Training interrupted by early stopping!\n",
            "Total epochs run: 130\n",
            "Best model found at epoch 54 with valid loss 9.01408839225769 and training loss 43.832381308078766\n",
            "Total training time: 0:00:44.637373\n",
            "----------\n",
            "Camadas: 6\n",
            "----------Learning rate: 0.09 ; Batch size: 120\n",
            "Weight Decay: 0.0001 ; Probabilidades de desligamento:0.125\n",
            "----------\n",
            "\n"
          ]
        },
        {
          "output_type": "stream",
          "name": "stderr",
          "text": [
            "  4%|▍         | 88/2000 [00:23<08:24,  3.79it/s]\n"
          ]
        },
        {
          "output_type": "stream",
          "name": "stdout",
          "text": [
            "Training interrupted by early stopping!\n",
            "Total epochs run: 89\n",
            "Best model found at epoch 13 with valid loss 9.013087213039398 and training loss 40.98263520002365\n",
            "Total training time: 0:00:23.232567\n",
            "----------\n",
            "Camadas: 7\n",
            "----------Learning rate: 0.09 ; Batch size: 120\n",
            "Weight Decay: 0.0001 ; Probabilidades de desligamento:0.125\n",
            "----------\n",
            "\n"
          ]
        },
        {
          "output_type": "stream",
          "name": "stderr",
          "text": [
            "  4%|▍         | 76/2000 [00:28<11:50,  2.71it/s]\n"
          ]
        },
        {
          "output_type": "stream",
          "name": "stdout",
          "text": [
            "Training interrupted by early stopping!\n",
            "Total epochs run: 77\n",
            "Best model found at epoch 1 with valid loss 9.033329606056213 and training loss 41.008941411972046\n",
            "Total training time: 0:00:28.057102\n",
            "----------Tentativas sem melhora: 3, Desligando...\n",
            "\n",
            "\n",
            "\n",
            "--------------------\n",
            "Total training time: 0:17:57.119450\n",
            "----------\n",
            "Camadas: 5\n",
            "----------Learning rate: 0.09 ; Batch size: 120\n",
            "Weight Decay: 0.0001 ; Probabilidades de desligamento:0.062\n",
            "----------\n",
            "\n"
          ]
        },
        {
          "output_type": "stream",
          "name": "stderr",
          "text": [
            "  5%|▌         | 100/2000 [00:39<12:35,  2.52it/s]\n"
          ]
        },
        {
          "output_type": "stream",
          "name": "stdout",
          "text": [
            "Training interrupted by early stopping!\n",
            "Total epochs run: 101\n",
            "Best model found at epoch 25 with valid loss 9.012613594532013 and training loss 41.009198904037476\n",
            "Total training time: 0:00:39.752953\n",
            "----------\n",
            "Camadas: 6\n",
            "----------Learning rate: 0.09 ; Batch size: 120\n",
            "Weight Decay: 0.0001 ; Probabilidades de desligamento:0.062\n",
            "----------\n",
            "\n"
          ]
        },
        {
          "output_type": "stream",
          "name": "stderr",
          "text": [
            "  4%|▍         | 84/2000 [00:39<15:05,  2.11it/s]\n"
          ]
        },
        {
          "output_type": "stream",
          "name": "stdout",
          "text": [
            "Training interrupted by early stopping!\n",
            "Total epochs run: 85\n",
            "Best model found at epoch 9 with valid loss 9.015608072280884 and training loss 40.94887149333954\n",
            "Total training time: 0:00:39.736914\n",
            "----------\n",
            "Camadas: 7\n",
            "----------Learning rate: 0.09 ; Batch size: 120\n",
            "Weight Decay: 0.0001 ; Probabilidades de desligamento:0.062\n",
            "----------\n",
            "\n"
          ]
        },
        {
          "output_type": "stream",
          "name": "stderr",
          "text": [
            "  4%|▍         | 90/2000 [00:27<09:36,  3.32it/s]\n"
          ]
        },
        {
          "output_type": "stream",
          "name": "stdout",
          "text": [
            "Training interrupted by early stopping!\n",
            "Total epochs run: 91\n",
            "Best model found at epoch 15 with valid loss 9.033726274967194 and training loss 40.97139924764633\n",
            "Total training time: 0:00:27.163704\n",
            "----------Tentativas sem melhora: 3, Desligando...\n",
            "\n",
            "\n",
            "\n",
            "--------------------\n",
            "Total training time: 0:19:45.482288\n",
            "----------\n",
            "Camadas: 5\n",
            "----------Learning rate: 0.05 ; Batch size: 100\n",
            "Weight Decay: 1e-05 ; Probabilidades de desligamento:0.125\n",
            "----------\n",
            "\n"
          ]
        },
        {
          "output_type": "stream",
          "name": "stderr",
          "text": [
            "  4%|▍         | 76/2000 [00:21<09:06,  3.52it/s]\n"
          ]
        },
        {
          "output_type": "stream",
          "name": "stdout",
          "text": [
            "Training interrupted by early stopping!\n",
            "Total epochs run: 77\n",
            "Best model found at epoch 1 with valid loss 8.89296805858612 and training loss 45.99782186746597\n",
            "Total training time: 0:00:21.614423\n",
            "--------------------------------------------------------- New best global model found! ---------------------------------------------------------\n",
            "GeradorRede(\n",
            "  (layers): ModuleList(\n",
            "    (0): Linear(in_features=3, out_features=128, bias=True)\n",
            "    (1): ReLU()\n",
            "    (2): Dropout(p=0.125, inplace=False)\n",
            "    (3): Linear(in_features=128, out_features=64, bias=True)\n",
            "    (4): ReLU()\n",
            "    (5): Dropout(p=0.125, inplace=False)\n",
            "    (6): Linear(in_features=64, out_features=32, bias=True)\n",
            "    (7): ReLU()\n",
            "    (8): Dropout(p=0.125, inplace=False)\n",
            "    (9): Linear(in_features=32, out_features=16, bias=True)\n",
            "    (10): ReLU()\n",
            "    (11): Dropout(p=0.125, inplace=False)\n",
            "    (12): Linear(in_features=16, out_features=8, bias=True)\n",
            "    (13): ReLU()\n",
            "    (14): Dropout(p=0.125, inplace=False)\n",
            "    (15): Linear(in_features=8, out_features=2, bias=True)\n",
            "    (16): Softmax(dim=-1)\n",
            "  )\n",
            ")\n",
            "\n",
            "Validation loss: 8.89296805858612\n",
            "\n",
            "Accuracy: 0.6933333333333334\n",
            "\n",
            "Loss: 0.6086463928222656\n",
            "\n",
            "----------\n",
            "Camadas: 6\n",
            "----------Learning rate: 0.05 ; Batch size: 100\n",
            "Weight Decay: 1e-05 ; Probabilidades de desligamento:0.125\n",
            "----------\n",
            "\n"
          ]
        },
        {
          "output_type": "stream",
          "name": "stderr",
          "text": [
            "  4%|▍         | 76/2000 [00:23<10:01,  3.20it/s]\n"
          ]
        },
        {
          "output_type": "stream",
          "name": "stdout",
          "text": [
            "Training interrupted by early stopping!\n",
            "Total epochs run: 77\n",
            "Best model found at epoch 1 with valid loss 10.414424002170563 and training loss 48.62696051597595\n",
            "Total training time: 0:00:23.774551\n",
            "----------\n",
            "Camadas: 7\n",
            "----------Learning rate: 0.05 ; Batch size: 100\n",
            "Weight Decay: 1e-05 ; Probabilidades de desligamento:0.125\n",
            "----------\n",
            "\n"
          ]
        },
        {
          "output_type": "stream",
          "name": "stderr",
          "text": [
            "  4%|▍         | 76/2000 [00:24<10:29,  3.06it/s]\n"
          ]
        },
        {
          "output_type": "stream",
          "name": "stdout",
          "text": [
            "Training interrupted by early stopping!\n",
            "Total epochs run: 77\n",
            "Best model found at epoch 1 with valid loss 10.414081752300262 and training loss 48.65195035934448\n",
            "Total training time: 0:00:24.890469\n",
            "----------\n",
            "Camadas: 8\n",
            "----------Learning rate: 0.05 ; Batch size: 100\n",
            "Weight Decay: 1e-05 ; Probabilidades de desligamento:0.125\n",
            "----------\n",
            "\n"
          ]
        },
        {
          "output_type": "stream",
          "name": "stderr",
          "text": [
            "  4%|▍         | 76/2000 [00:29<12:35,  2.55it/s]\n"
          ]
        },
        {
          "output_type": "stream",
          "name": "stdout",
          "text": [
            "Training interrupted by early stopping!\n",
            "Total epochs run: 77\n",
            "Best model found at epoch 1 with valid loss 10.414045095443726 and training loss 48.596271336078644\n",
            "Total training time: 0:00:29.868726\n",
            "----------\n",
            "Camadas: 9\n",
            "----------Learning rate: 0.05 ; Batch size: 100\n",
            "Weight Decay: 1e-05 ; Probabilidades de desligamento:0.125\n",
            "----------\n",
            "\n"
          ]
        },
        {
          "output_type": "stream",
          "name": "stderr",
          "text": [
            "  4%|▍         | 79/2000 [00:30<12:16,  2.61it/s]\n"
          ]
        },
        {
          "output_type": "stream",
          "name": "stdout",
          "text": [
            "Training interrupted by early stopping!\n",
            "Total epochs run: 80\n",
            "Best model found at epoch 4 with valid loss 10.411516427993774 and training loss 48.58799481391907\n",
            "Total training time: 0:00:30.297763\n",
            "\n",
            "\n",
            "\n",
            "--------------------\n",
            "Total training time: 0:21:58.658650\n",
            "----------\n",
            "Camadas: 5\n",
            "----------Learning rate: 0.05 ; Batch size: 100\n",
            "Weight Decay: 1e-05 ; Probabilidades de desligamento:0.062\n",
            "----------\n",
            "\n"
          ]
        },
        {
          "output_type": "stream",
          "name": "stderr",
          "text": [
            "  4%|▍         | 76/2000 [00:27<11:24,  2.81it/s]\n"
          ]
        },
        {
          "output_type": "stream",
          "name": "stdout",
          "text": [
            "Training interrupted by early stopping!\n",
            "Total epochs run: 77\n",
            "Best model found at epoch 1 with valid loss 9.905111491680145 and training loss 46.97783577442169\n",
            "Total training time: 0:00:27.040885\n",
            "----------\n",
            "Camadas: 6\n",
            "----------Learning rate: 0.05 ; Batch size: 100\n",
            "Weight Decay: 1e-05 ; Probabilidades de desligamento:0.062\n",
            "----------\n",
            "\n"
          ]
        },
        {
          "output_type": "stream",
          "name": "stderr",
          "text": [
            "  4%|▍         | 76/2000 [00:25<10:43,  2.99it/s]\n"
          ]
        },
        {
          "output_type": "stream",
          "name": "stdout",
          "text": [
            "Training interrupted by early stopping!\n",
            "Total epochs run: 77\n",
            "Best model found at epoch 1 with valid loss 10.413793921470642 and training loss 48.62803000211716\n",
            "Total training time: 0:00:25.439622\n",
            "----------\n",
            "Camadas: 7\n",
            "----------Learning rate: 0.05 ; Batch size: 100\n",
            "Weight Decay: 1e-05 ; Probabilidades de desligamento:0.062\n",
            "----------\n",
            "\n"
          ]
        },
        {
          "output_type": "stream",
          "name": "stderr",
          "text": [
            "  4%|▍         | 76/2000 [00:30<13:00,  2.47it/s]\n"
          ]
        },
        {
          "output_type": "stream",
          "name": "stdout",
          "text": [
            "Training interrupted by early stopping!\n",
            "Total epochs run: 77\n",
            "Best model found at epoch 1 with valid loss 10.384849190711975 and training loss 48.62859135866165\n",
            "Total training time: 0:00:30.834315\n",
            "----------Tentativas sem melhora: 3, Desligando...\n",
            "\n",
            "\n",
            "\n",
            "--------------------\n",
            "Total training time: 0:23:23.611266\n",
            "----------\n",
            "Camadas: 5\n",
            "----------Learning rate: 0.05 ; Batch size: 100\n",
            "Weight Decay: 0.0001 ; Probabilidades de desligamento:0.125\n",
            "----------\n",
            "\n"
          ]
        },
        {
          "output_type": "stream",
          "name": "stderr",
          "text": [
            "  7%|▋         | 144/2000 [00:53<11:30,  2.69it/s]\n"
          ]
        },
        {
          "output_type": "stream",
          "name": "stdout",
          "text": [
            "Training interrupted by early stopping!\n",
            "Total epochs run: 145\n",
            "Best model found at epoch 69 with valid loss 10.397195816040039 and training loss 48.591392159461975\n",
            "Total training time: 0:00:53.558808\n",
            "----------\n",
            "Camadas: 6\n",
            "----------Learning rate: 0.05 ; Batch size: 100\n",
            "Weight Decay: 0.0001 ; Probabilidades de desligamento:0.125\n",
            "----------\n",
            "\n"
          ]
        },
        {
          "output_type": "stream",
          "name": "stderr",
          "text": [
            "  4%|▍         | 76/2000 [00:35<14:54,  2.15it/s]\n"
          ]
        },
        {
          "output_type": "stream",
          "name": "stdout",
          "text": [
            "Training interrupted by early stopping!\n",
            "Total epochs run: 77\n",
            "Best model found at epoch 1 with valid loss 10.413964688777924 and training loss 48.63286364078522\n",
            "Total training time: 0:00:35.350063\n",
            "----------\n",
            "Camadas: 7\n",
            "----------Learning rate: 0.05 ; Batch size: 100\n",
            "Weight Decay: 0.0001 ; Probabilidades de desligamento:0.125\n",
            "----------\n",
            "\n"
          ]
        },
        {
          "output_type": "stream",
          "name": "stderr",
          "text": [
            "  4%|▍         | 77/2000 [00:38<16:05,  1.99it/s]\n"
          ]
        },
        {
          "output_type": "stream",
          "name": "stdout",
          "text": [
            "Training interrupted by early stopping!\n",
            "Total epochs run: 78\n",
            "Best model found at epoch 2 with valid loss 10.413778722286224 and training loss 48.578137159347534\n",
            "Total training time: 0:00:38.651136\n",
            "----------Tentativas sem melhora: 3, Desligando...\n",
            "\n",
            "\n",
            "\n",
            "--------------------\n",
            "Total training time: 0:25:32.784431\n",
            "----------\n",
            "Camadas: 5\n",
            "----------Learning rate: 0.05 ; Batch size: 100\n",
            "Weight Decay: 0.0001 ; Probabilidades de desligamento:0.062\n",
            "----------\n",
            "\n"
          ]
        },
        {
          "output_type": "stream",
          "name": "stderr",
          "text": [
            "  4%|▍         | 77/2000 [00:30<12:34,  2.55it/s]\n"
          ]
        },
        {
          "output_type": "stream",
          "name": "stdout",
          "text": [
            "Training interrupted by early stopping!\n",
            "Total epochs run: 78\n",
            "Best model found at epoch 2 with valid loss 9.408498764038086 and training loss 44.288324415683746\n",
            "Total training time: 0:00:30.247058\n",
            "----------\n",
            "Camadas: 6\n",
            "----------Learning rate: 0.05 ; Batch size: 100\n",
            "Weight Decay: 0.0001 ; Probabilidades de desligamento:0.062\n",
            "----------\n",
            "\n"
          ]
        },
        {
          "output_type": "stream",
          "name": "stderr",
          "text": [
            "  4%|▍         | 78/2000 [00:37<15:31,  2.06it/s]\n"
          ]
        },
        {
          "output_type": "stream",
          "name": "stdout",
          "text": [
            "Training interrupted by early stopping!\n",
            "Total epochs run: 79\n",
            "Best model found at epoch 3 with valid loss 10.413991510868073 and training loss 48.58223605155945\n",
            "Total training time: 0:00:37.842235\n",
            "----------\n",
            "Camadas: 7\n",
            "----------Learning rate: 0.05 ; Batch size: 100\n",
            "Weight Decay: 0.0001 ; Probabilidades de desligamento:0.062\n",
            "----------\n",
            "\n"
          ]
        },
        {
          "output_type": "stream",
          "name": "stderr",
          "text": [
            "  4%|▍         | 77/2000 [00:38<16:02,  2.00it/s]\n"
          ]
        },
        {
          "output_type": "stream",
          "name": "stdout",
          "text": [
            "Training interrupted by early stopping!\n",
            "Total epochs run: 78\n",
            "Best model found at epoch 2 with valid loss 10.41466760635376 and training loss 48.57225602865219\n",
            "Total training time: 0:00:38.562290\n",
            "----------Tentativas sem melhora: 3, Desligando...\n",
            "\n",
            "\n",
            "\n",
            "--------------------\n",
            "Total training time: 0:27:20.897375\n",
            "----------\n",
            "Camadas: 5\n",
            "----------Learning rate: 0.05 ; Batch size: 120\n",
            "Weight Decay: 1e-05 ; Probabilidades de desligamento:0.125\n",
            "----------\n",
            "\n"
          ]
        },
        {
          "output_type": "stream",
          "name": "stderr",
          "text": [
            "  4%|▍         | 77/2000 [00:20<08:20,  3.85it/s]\n"
          ]
        },
        {
          "output_type": "stream",
          "name": "stdout",
          "text": [
            "Training interrupted by early stopping!\n",
            "Total epochs run: 78\n",
            "Best model found at epoch 2 with valid loss 7.282630503177643 and training loss 36.444040060043335\n",
            "Total training time: 0:00:20.043865\n",
            "--------------------------------------------------------- New best global model found! ---------------------------------------------------------\n",
            "GeradorRede(\n",
            "  (layers): ModuleList(\n",
            "    (0): Linear(in_features=3, out_features=128, bias=True)\n",
            "    (1): ReLU()\n",
            "    (2): Dropout(p=0.125, inplace=False)\n",
            "    (3): Linear(in_features=128, out_features=64, bias=True)\n",
            "    (4): ReLU()\n",
            "    (5): Dropout(p=0.125, inplace=False)\n",
            "    (6): Linear(in_features=64, out_features=32, bias=True)\n",
            "    (7): ReLU()\n",
            "    (8): Dropout(p=0.125, inplace=False)\n",
            "    (9): Linear(in_features=32, out_features=16, bias=True)\n",
            "    (10): ReLU()\n",
            "    (11): Dropout(p=0.125, inplace=False)\n",
            "    (12): Linear(in_features=16, out_features=8, bias=True)\n",
            "    (13): ReLU()\n",
            "    (14): Dropout(p=0.125, inplace=False)\n",
            "    (15): Linear(in_features=8, out_features=2, bias=True)\n",
            "    (16): Softmax(dim=-1)\n",
            "  )\n",
            ")\n",
            "\n",
            "Validation loss: 7.282630503177643\n",
            "\n",
            "Accuracy: 0.7133333333333334\n",
            "\n",
            "Loss: 0.5961818695068359\n",
            "\n",
            "----------\n",
            "Camadas: 6\n",
            "----------Learning rate: 0.05 ; Batch size: 120\n",
            "Weight Decay: 1e-05 ; Probabilidades de desligamento:0.125\n",
            "----------\n",
            "\n"
          ]
        },
        {
          "output_type": "stream",
          "name": "stderr",
          "text": [
            "  4%|▍         | 78/2000 [00:26<10:47,  2.97it/s]\n"
          ]
        },
        {
          "output_type": "stream",
          "name": "stdout",
          "text": [
            "Training interrupted by early stopping!\n",
            "Total epochs run: 79\n",
            "Best model found at epoch 3 with valid loss 8.835949182510376 and training loss 40.67710870504379\n",
            "Total training time: 0:00:26.285830\n",
            "----------\n",
            "Camadas: 7\n",
            "----------Learning rate: 0.05 ; Batch size: 120\n",
            "Weight Decay: 1e-05 ; Probabilidades de desligamento:0.125\n",
            "----------\n",
            "\n"
          ]
        },
        {
          "output_type": "stream",
          "name": "stderr",
          "text": [
            "  4%|▍         | 76/2000 [00:24<10:12,  3.14it/s]\n"
          ]
        },
        {
          "output_type": "stream",
          "name": "stdout",
          "text": [
            "Training interrupted by early stopping!\n",
            "Total epochs run: 77\n",
            "Best model found at epoch 1 with valid loss 9.022155702114105 and training loss 40.94183677434921\n",
            "Total training time: 0:00:24.197643\n",
            "----------\n",
            "Camadas: 8\n",
            "----------Learning rate: 0.05 ; Batch size: 120\n",
            "Weight Decay: 1e-05 ; Probabilidades de desligamento:0.125\n",
            "----------\n",
            "\n"
          ]
        },
        {
          "output_type": "stream",
          "name": "stderr",
          "text": [
            "  4%|▍         | 76/2000 [00:25<10:34,  3.03it/s]\n"
          ]
        },
        {
          "output_type": "stream",
          "name": "stdout",
          "text": [
            "Training interrupted by early stopping!\n",
            "Total epochs run: 77\n",
            "Best model found at epoch 1 with valid loss 9.021798431873322 and training loss 40.95654970407486\n",
            "Total training time: 0:00:25.076283\n",
            "----------\n",
            "Camadas: 9\n",
            "----------Learning rate: 0.05 ; Batch size: 120\n",
            "Weight Decay: 1e-05 ; Probabilidades de desligamento:0.125\n",
            "----------\n",
            "\n"
          ]
        },
        {
          "output_type": "stream",
          "name": "stderr",
          "text": [
            "  4%|▍         | 76/2000 [00:25<10:51,  2.96it/s]\n"
          ]
        },
        {
          "output_type": "stream",
          "name": "stdout",
          "text": [
            "Training interrupted by early stopping!\n",
            "Total epochs run: 77\n",
            "Best model found at epoch 1 with valid loss 9.02003800868988 and training loss 40.91951364278793\n",
            "Total training time: 0:00:25.732250\n",
            "\n",
            "\n",
            "\n",
            "--------------------\n",
            "Total training time: 0:29:24.840438\n",
            "----------\n",
            "Camadas: 5\n",
            "----------Learning rate: 0.05 ; Batch size: 120\n",
            "Weight Decay: 1e-05 ; Probabilidades de desligamento:0.062\n",
            "----------\n",
            "\n"
          ]
        },
        {
          "output_type": "stream",
          "name": "stderr",
          "text": [
            "  4%|▍         | 77/2000 [00:24<10:05,  3.17it/s]\n"
          ]
        },
        {
          "output_type": "stream",
          "name": "stdout",
          "text": [
            "Training interrupted by early stopping!\n",
            "Total epochs run: 78\n",
            "Best model found at epoch 2 with valid loss 8.010309398174286 and training loss 37.61795210838318\n",
            "Total training time: 0:00:24.280920\n",
            "----------\n",
            "Camadas: 6\n",
            "----------Learning rate: 0.05 ; Batch size: 120\n",
            "Weight Decay: 1e-05 ; Probabilidades de desligamento:0.062\n",
            "----------\n",
            "\n"
          ]
        },
        {
          "output_type": "stream",
          "name": "stderr",
          "text": [
            "  4%|▍         | 80/2000 [00:25<10:12,  3.14it/s]\n"
          ]
        },
        {
          "output_type": "stream",
          "name": "stdout",
          "text": [
            "Training interrupted by early stopping!\n",
            "Total epochs run: 81\n",
            "Best model found at epoch 5 with valid loss 7.672156929969788 and training loss 37.495118737220764\n",
            "Total training time: 0:00:25.517796\n",
            "----------\n",
            "Camadas: 7\n",
            "----------Learning rate: 0.05 ; Batch size: 120\n",
            "Weight Decay: 1e-05 ; Probabilidades de desligamento:0.062\n",
            "----------\n",
            "\n"
          ]
        },
        {
          "output_type": "stream",
          "name": "stderr",
          "text": [
            "  4%|▍         | 80/2000 [00:22<09:08,  3.50it/s]\n"
          ]
        },
        {
          "output_type": "stream",
          "name": "stdout",
          "text": [
            "Training interrupted by early stopping!\n",
            "Total epochs run: 81\n",
            "Best model found at epoch 5 with valid loss 9.023470401763916 and training loss 40.930596351623535\n",
            "Total training time: 0:00:22.856550\n",
            "----------Tentativas sem melhora: 3, Desligando...\n",
            "\n",
            "\n",
            "\n",
            "--------------------\n",
            "Total training time: 0:30:39.061005\n",
            "----------\n",
            "Camadas: 5\n",
            "----------Learning rate: 0.05 ; Batch size: 120\n",
            "Weight Decay: 0.0001 ; Probabilidades de desligamento:0.125\n",
            "----------\n",
            "\n"
          ]
        },
        {
          "output_type": "stream",
          "name": "stderr",
          "text": [
            "  7%|▋         | 132/2000 [00:52<12:29,  2.49it/s]\n"
          ]
        },
        {
          "output_type": "stream",
          "name": "stdout",
          "text": [
            "Training interrupted by early stopping!\n",
            "Total epochs run: 133\n",
            "Best model found at epoch 57 with valid loss 9.01141732931137 and training loss 40.93768513202667\n",
            "Total training time: 0:00:52.946240\n",
            "----------\n",
            "Camadas: 6\n",
            "----------Learning rate: 0.05 ; Batch size: 120\n",
            "Weight Decay: 0.0001 ; Probabilidades de desligamento:0.125\n",
            "----------\n",
            "\n"
          ]
        },
        {
          "output_type": "stream",
          "name": "stderr",
          "text": [
            "  4%|▍         | 76/2000 [00:24<10:24,  3.08it/s]\n"
          ]
        },
        {
          "output_type": "stream",
          "name": "stdout",
          "text": [
            "Training interrupted by early stopping!\n",
            "Total epochs run: 77\n",
            "Best model found at epoch 1 with valid loss 9.020675003528595 and training loss 40.96028369665146\n",
            "Total training time: 0:00:24.710424\n",
            "----------\n",
            "Camadas: 7\n",
            "----------Learning rate: 0.05 ; Batch size: 120\n",
            "Weight Decay: 0.0001 ; Probabilidades de desligamento:0.125\n",
            "----------\n",
            "\n"
          ]
        },
        {
          "output_type": "stream",
          "name": "stderr",
          "text": [
            "  4%|▍         | 77/2000 [00:34<14:19,  2.24it/s]\n"
          ]
        },
        {
          "output_type": "stream",
          "name": "stdout",
          "text": [
            "Training interrupted by early stopping!\n",
            "Total epochs run: 78\n",
            "Best model found at epoch 2 with valid loss 9.023726046085358 and training loss 40.93123996257782\n",
            "Total training time: 0:00:34.447106\n",
            "----------Tentativas sem melhora: 3, Desligando...\n",
            "\n",
            "\n",
            "\n",
            "--------------------\n",
            "Total training time: 0:32:32.703117\n",
            "----------\n",
            "Camadas: 5\n",
            "----------Learning rate: 0.05 ; Batch size: 120\n",
            "Weight Decay: 0.0001 ; Probabilidades de desligamento:0.062\n",
            "----------\n",
            "\n"
          ]
        },
        {
          "output_type": "stream",
          "name": "stderr",
          "text": [
            "  9%|▉         | 177/2000 [00:52<09:01,  3.36it/s]\n"
          ]
        },
        {
          "output_type": "stream",
          "name": "stdout",
          "text": [
            "Training interrupted by early stopping!\n",
            "Total epochs run: 178\n",
            "Best model found at epoch 102 with valid loss 9.014318525791168 and training loss 40.94170957803726\n",
            "Total training time: 0:00:52.626352\n",
            "----------\n",
            "Camadas: 6\n",
            "----------Learning rate: 0.05 ; Batch size: 120\n",
            "Weight Decay: 0.0001 ; Probabilidades de desligamento:0.062\n",
            "----------\n",
            "\n"
          ]
        },
        {
          "output_type": "stream",
          "name": "stderr",
          "text": [
            "  9%|▊         | 171/2000 [01:06<11:54,  2.56it/s]\n"
          ]
        },
        {
          "output_type": "stream",
          "name": "stdout",
          "text": [
            "Training interrupted by early stopping!\n",
            "Total epochs run: 172\n",
            "Best model found at epoch 96 with valid loss 9.018043458461761 and training loss 40.93537074327469\n",
            "Total training time: 0:01:06.854168\n",
            "----------\n",
            "Camadas: 7\n",
            "----------Learning rate: 0.05 ; Batch size: 120\n",
            "Weight Decay: 0.0001 ; Probabilidades de desligamento:0.062\n",
            "----------\n",
            "\n"
          ]
        },
        {
          "output_type": "stream",
          "name": "stderr",
          "text": [
            "  4%|▍         | 76/2000 [00:36<15:11,  2.11it/s]\n"
          ]
        },
        {
          "output_type": "stream",
          "name": "stdout",
          "text": [
            "Training interrupted by early stopping!\n",
            "Total epochs run: 77\n",
            "Best model found at epoch 1 with valid loss 9.019810736179352 and training loss 40.97385388612747\n",
            "Total training time: 0:00:36.028202\n",
            "----------Tentativas sem melhora: 3, Desligando...\n",
            "\n",
            "\n",
            "\n",
            "--------------------\n",
            "Total training time: 0:35:09.792728\n",
            "----------\n",
            "Camadas: 5\n",
            "----------Learning rate: 0.09 ; Batch size: 100\n",
            "Weight Decay: 1e-05 ; Probabilidades de desligamento:0.125\n",
            "----------\n",
            "\n"
          ]
        },
        {
          "output_type": "stream",
          "name": "stderr",
          "text": [
            "  5%|▌         | 105/2000 [00:41<12:30,  2.53it/s]\n"
          ]
        },
        {
          "output_type": "stream",
          "name": "stdout",
          "text": [
            "Training interrupted by early stopping!\n",
            "Total epochs run: 106\n",
            "Best model found at epoch 30 with valid loss 12.15892630815506 and training loss 56.68655562400818\n",
            "Total training time: 0:00:41.599653\n",
            "----------\n",
            "Camadas: 6\n",
            "----------Learning rate: 0.09 ; Batch size: 100\n",
            "Weight Decay: 1e-05 ; Probabilidades de desligamento:0.125\n",
            "----------\n",
            "\n"
          ]
        },
        {
          "output_type": "stream",
          "name": "stderr",
          "text": [
            "  4%|▍         | 76/2000 [00:38<16:08,  1.99it/s]\n"
          ]
        },
        {
          "output_type": "stream",
          "name": "stdout",
          "text": [
            "Training interrupted by early stopping!\n",
            "Total epochs run: 77\n",
            "Best model found at epoch 1 with valid loss 10.417514085769653 and training loss 48.9140944480896\n",
            "Total training time: 0:00:38.281974\n",
            "----------\n",
            "Camadas: 7\n",
            "----------Learning rate: 0.09 ; Batch size: 100\n",
            "Weight Decay: 1e-05 ; Probabilidades de desligamento:0.125\n",
            "----------\n",
            "\n"
          ]
        },
        {
          "output_type": "stream",
          "name": "stderr",
          "text": [
            "  4%|▍         | 76/2000 [00:31<13:10,  2.43it/s]\n"
          ]
        },
        {
          "output_type": "stream",
          "name": "stdout",
          "text": [
            "Training interrupted by early stopping!\n",
            "Total epochs run: 77\n",
            "Best model found at epoch 1 with valid loss 10.419474422931671 and training loss 51.94772893190384\n",
            "Total training time: 0:00:31.247358\n",
            "----------Tentativas sem melhora: 3, Desligando...\n",
            "\n",
            "\n",
            "\n",
            "--------------------\n",
            "Total training time: 0:37:02.648040\n",
            "----------\n",
            "Camadas: 5\n",
            "----------Learning rate: 0.09 ; Batch size: 100\n",
            "Weight Decay: 1e-05 ; Probabilidades de desligamento:0.062\n",
            "----------\n",
            "\n"
          ]
        },
        {
          "output_type": "stream",
          "name": "stderr",
          "text": [
            "  9%|▉         | 179/2000 [01:25<14:31,  2.09it/s]\n"
          ]
        },
        {
          "output_type": "stream",
          "name": "stdout",
          "text": [
            "Training interrupted by early stopping!\n",
            "Total epochs run: 180\n",
            "Best model found at epoch 104 with valid loss 11.698926270008087 and training loss 56.41457062959671\n",
            "Total training time: 0:01:25.727767\n",
            "----------\n",
            "Camadas: 6\n",
            "----------Learning rate: 0.09 ; Batch size: 100\n",
            "Weight Decay: 1e-05 ; Probabilidades de desligamento:0.062\n",
            "----------\n",
            "\n"
          ]
        },
        {
          "output_type": "stream",
          "name": "stderr",
          "text": [
            "  5%|▌         | 107/2000 [01:01<18:16,  1.73it/s]\n"
          ]
        },
        {
          "output_type": "stream",
          "name": "stdout",
          "text": [
            "Training interrupted by early stopping!\n",
            "Total epochs run: 108\n",
            "Best model found at epoch 32 with valid loss 10.43251097202301 and training loss 48.63702595233917\n",
            "Total training time: 0:01:01.967509\n",
            "----------\n",
            "Camadas: 7\n",
            "----------Learning rate: 0.09 ; Batch size: 100\n",
            "Weight Decay: 1e-05 ; Probabilidades de desligamento:0.062\n",
            "----------\n",
            "\n"
          ]
        },
        {
          "output_type": "stream",
          "name": "stderr",
          "text": [
            "  4%|▍         | 76/2000 [00:43<18:32,  1.73it/s]\n"
          ]
        },
        {
          "output_type": "stream",
          "name": "stdout",
          "text": [
            "Training interrupted by early stopping!\n",
            "Total epochs run: 77\n",
            "Best model found at epoch 1 with valid loss 10.442237138748169 and training loss 48.73640328645706\n",
            "Total training time: 0:00:43.985430\n",
            "----------Tentativas sem melhora: 3, Desligando...\n",
            "\n",
            "\n",
            "\n",
            "--------------------\n",
            "Total training time: 0:40:15.966140\n",
            "----------\n",
            "Camadas: 5\n",
            "----------Learning rate: 0.09 ; Batch size: 100\n",
            "Weight Decay: 0.0001 ; Probabilidades de desligamento:0.125\n",
            "----------\n",
            "\n"
          ]
        },
        {
          "output_type": "stream",
          "name": "stderr",
          "text": [
            "  5%|▌         | 108/2000 [00:56<16:35,  1.90it/s]\n"
          ]
        },
        {
          "output_type": "stream",
          "name": "stdout",
          "text": [
            "Training interrupted by early stopping!\n",
            "Total epochs run: 109\n",
            "Best model found at epoch 33 with valid loss 10.3971666097641 and training loss 48.637120604515076\n",
            "Total training time: 0:00:56.868476\n",
            "----------\n",
            "Camadas: 6\n",
            "----------Learning rate: 0.09 ; Batch size: 100\n",
            "Weight Decay: 0.0001 ; Probabilidades de desligamento:0.125\n",
            "----------\n",
            "\n"
          ]
        },
        {
          "output_type": "stream",
          "name": "stderr",
          "text": [
            "  4%|▍         | 77/2000 [00:42<17:42,  1.81it/s]\n"
          ]
        },
        {
          "output_type": "stream",
          "name": "stdout",
          "text": [
            "Training interrupted by early stopping!\n",
            "Total epochs run: 78\n",
            "Best model found at epoch 2 with valid loss 10.405077576637268 and training loss 48.588670909404755\n",
            "Total training time: 0:00:42.556566\n",
            "----------\n",
            "Camadas: 7\n",
            "----------Learning rate: 0.09 ; Batch size: 100\n",
            "Weight Decay: 0.0001 ; Probabilidades de desligamento:0.125\n",
            "----------\n",
            "\n"
          ]
        },
        {
          "output_type": "stream",
          "name": "stderr",
          "text": [
            "  5%|▍         | 97/2000 [00:59<19:19,  1.64it/s]\n"
          ]
        },
        {
          "output_type": "stream",
          "name": "stdout",
          "text": [
            "Training interrupted by early stopping!\n",
            "Total epochs run: 98\n",
            "Best model found at epoch 22 with valid loss 10.398776352405548 and training loss 48.64412045478821\n",
            "Total training time: 0:00:59.111429\n",
            "----------Tentativas sem melhora: 3, Desligando...\n",
            "\n",
            "\n",
            "\n",
            "--------------------\n",
            "Total training time: 0:42:56.240991\n",
            "----------\n",
            "Camadas: 5\n",
            "----------Learning rate: 0.09 ; Batch size: 100\n",
            "Weight Decay: 0.0001 ; Probabilidades de desligamento:0.062\n",
            "----------\n",
            "\n"
          ]
        },
        {
          "output_type": "stream",
          "name": "stderr",
          "text": [
            "  4%|▍         | 79/2000 [00:41<16:57,  1.89it/s]\n"
          ]
        },
        {
          "output_type": "stream",
          "name": "stdout",
          "text": [
            "Training interrupted by early stopping!\n",
            "Total epochs run: 80\n",
            "Best model found at epoch 4 with valid loss 10.431882083415985 and training loss 48.637748420238495\n",
            "Total training time: 0:00:41.861651\n",
            "----------\n",
            "Camadas: 6\n",
            "----------Learning rate: 0.09 ; Batch size: 100\n",
            "Weight Decay: 0.0001 ; Probabilidades de desligamento:0.062\n",
            "----------\n",
            "\n"
          ]
        },
        {
          "output_type": "stream",
          "name": "stderr",
          "text": [
            "  8%|▊         | 158/2000 [01:07<13:06,  2.34it/s]\n"
          ]
        },
        {
          "output_type": "stream",
          "name": "stdout",
          "text": [
            "Training interrupted by early stopping!\n",
            "Total epochs run: 159\n",
            "Best model found at epoch 83 with valid loss 10.398363709449768 and training loss 48.699347615242004\n",
            "Total training time: 0:01:07.482121\n",
            "----------\n",
            "Camadas: 7\n",
            "----------Learning rate: 0.09 ; Batch size: 100\n",
            "Weight Decay: 0.0001 ; Probabilidades de desligamento:0.062\n",
            "----------\n",
            "\n"
          ]
        },
        {
          "output_type": "stream",
          "name": "stderr",
          "text": [
            "  4%|▍         | 78/2000 [00:48<19:51,  1.61it/s]\n"
          ]
        },
        {
          "output_type": "stream",
          "name": "stdout",
          "text": [
            "Training interrupted by early stopping!\n",
            "Total epochs run: 79\n",
            "Best model found at epoch 3 with valid loss 10.4457426071167 and training loss 48.63410997390747\n",
            "Total training time: 0:00:48.366108\n",
            "----------Tentativas sem melhora: 3, Desligando...\n",
            "\n",
            "\n",
            "\n",
            "--------------------\n",
            "Total training time: 0:45:35.596070\n",
            "----------\n",
            "Camadas: 5\n",
            "----------Learning rate: 0.09 ; Batch size: 120\n",
            "Weight Decay: 1e-05 ; Probabilidades de desligamento:0.125\n",
            "----------\n",
            "\n"
          ]
        },
        {
          "output_type": "stream",
          "name": "stderr",
          "text": [
            "  5%|▌         | 101/2000 [00:45<14:19,  2.21it/s]\n"
          ]
        },
        {
          "output_type": "stream",
          "name": "stdout",
          "text": [
            "Training interrupted by early stopping!\n",
            "Total epochs run: 102\n",
            "Best model found at epoch 26 with valid loss 9.01576942205429 and training loss 40.967777490615845\n",
            "Total training time: 0:00:45.707651\n",
            "----------\n",
            "Camadas: 6\n",
            "----------Learning rate: 0.09 ; Batch size: 120\n",
            "Weight Decay: 1e-05 ; Probabilidades de desligamento:0.125\n",
            "----------\n",
            "\n"
          ]
        },
        {
          "output_type": "stream",
          "name": "stderr",
          "text": [
            "  4%|▍         | 76/2000 [00:34<14:30,  2.21it/s]\n"
          ]
        },
        {
          "output_type": "stream",
          "name": "stdout",
          "text": [
            "Training interrupted by early stopping!\n",
            "Total epochs run: 77\n",
            "Best model found at epoch 1 with valid loss 9.030663967132568 and training loss 41.179475486278534\n",
            "Total training time: 0:00:34.394906\n",
            "----------\n",
            "Camadas: 7\n",
            "----------Learning rate: 0.09 ; Batch size: 120\n",
            "Weight Decay: 1e-05 ; Probabilidades de desligamento:0.125\n",
            "----------\n",
            "\n"
          ]
        },
        {
          "output_type": "stream",
          "name": "stderr",
          "text": [
            "  4%|▍         | 76/2000 [00:31<13:23,  2.39it/s]\n"
          ]
        },
        {
          "output_type": "stream",
          "name": "stdout",
          "text": [
            "Training interrupted by early stopping!\n",
            "Total epochs run: 77\n",
            "Best model found at epoch 1 with valid loss 9.031213760375977 and training loss 41.12453246116638\n",
            "Total training time: 0:00:31.763623\n",
            "----------Tentativas sem melhora: 3, Desligando...\n",
            "\n",
            "\n",
            "\n",
            "--------------------\n",
            "Total training time: 0:47:29.055415\n",
            "----------\n",
            "Camadas: 5\n",
            "----------Learning rate: 0.09 ; Batch size: 120\n",
            "Weight Decay: 1e-05 ; Probabilidades de desligamento:0.062\n",
            "----------\n",
            "\n"
          ]
        },
        {
          "output_type": "stream",
          "name": "stderr",
          "text": [
            "  4%|▍         | 76/2000 [00:31<13:06,  2.45it/s]\n"
          ]
        },
        {
          "output_type": "stream",
          "name": "stdout",
          "text": [
            "Training interrupted by early stopping!\n",
            "Total epochs run: 77\n",
            "Best model found at epoch 1 with valid loss 8.55001986026764 and training loss 40.64739811420441\n",
            "Total training time: 0:00:31.098530\n",
            "----------\n",
            "Camadas: 6\n",
            "----------Learning rate: 0.09 ; Batch size: 120\n",
            "Weight Decay: 1e-05 ; Probabilidades de desligamento:0.062\n",
            "----------\n",
            "\n"
          ]
        },
        {
          "output_type": "stream",
          "name": "stderr",
          "text": [
            "  5%|▍         | 97/2000 [00:50<16:32,  1.92it/s]\n"
          ]
        },
        {
          "output_type": "stream",
          "name": "stdout",
          "text": [
            "Training interrupted by early stopping!\n",
            "Total epochs run: 98\n",
            "Best model found at epoch 22 with valid loss 9.011537730693817 and training loss 40.989894807338715\n",
            "Total training time: 0:00:50.595961\n",
            "----------\n",
            "Camadas: 7\n",
            "----------Learning rate: 0.09 ; Batch size: 120\n",
            "Weight Decay: 1e-05 ; Probabilidades de desligamento:0.062\n",
            "----------\n",
            "\n"
          ]
        },
        {
          "output_type": "stream",
          "name": "stderr",
          "text": [
            "  4%|▍         | 76/2000 [00:39<16:43,  1.92it/s]\n"
          ]
        },
        {
          "output_type": "stream",
          "name": "stdout",
          "text": [
            "Training interrupted by early stopping!\n",
            "Total epochs run: 77\n",
            "Best model found at epoch 1 with valid loss 9.033242046833038 and training loss 41.106326043605804\n",
            "Total training time: 0:00:39.646311\n",
            "----------Tentativas sem melhora: 3, Desligando...\n",
            "\n",
            "\n",
            "\n",
            "--------------------\n",
            "Total training time: 0:49:31.971687\n",
            "----------\n",
            "Camadas: 5\n",
            "----------Learning rate: 0.09 ; Batch size: 120\n",
            "Weight Decay: 0.0001 ; Probabilidades de desligamento:0.125\n",
            "----------\n",
            "\n"
          ]
        },
        {
          "output_type": "stream",
          "name": "stderr",
          "text": [
            "  6%|▋         | 130/2000 [01:07<16:09,  1.93it/s]\n"
          ]
        },
        {
          "output_type": "stream",
          "name": "stdout",
          "text": [
            "Training interrupted by early stopping!\n",
            "Total epochs run: 131\n",
            "Best model found at epoch 55 with valid loss 9.01069563627243 and training loss 40.9865385890007\n",
            "Total training time: 0:01:07.446927\n",
            "----------\n",
            "Camadas: 6\n",
            "----------Learning rate: 0.09 ; Batch size: 120\n",
            "Weight Decay: 0.0001 ; Probabilidades de desligamento:0.125\n",
            "----------\n",
            "\n"
          ]
        },
        {
          "output_type": "stream",
          "name": "stderr",
          "text": [
            "  4%|▍         | 77/2000 [00:39<16:33,  1.94it/s]\n"
          ]
        },
        {
          "output_type": "stream",
          "name": "stdout",
          "text": [
            "Training interrupted by early stopping!\n",
            "Total epochs run: 78\n",
            "Best model found at epoch 2 with valid loss 9.03623342514038 and training loss 40.96597498655319\n",
            "Total training time: 0:00:39.798450\n",
            "----------\n",
            "Camadas: 7\n",
            "----------Learning rate: 0.09 ; Batch size: 120\n",
            "Weight Decay: 0.0001 ; Probabilidades de desligamento:0.125\n",
            "----------\n",
            "\n"
          ]
        },
        {
          "output_type": "stream",
          "name": "stderr",
          "text": [
            "  4%|▍         | 76/2000 [00:41<17:39,  1.82it/s]\n"
          ]
        },
        {
          "output_type": "stream",
          "name": "stdout",
          "text": [
            "Training interrupted by early stopping!\n",
            "Total epochs run: 77\n",
            "Best model found at epoch 1 with valid loss 9.030359864234924 and training loss 41.0648518204689\n",
            "Total training time: 0:00:41.863934\n",
            "----------Tentativas sem melhora: 3, Desligando...\n",
            "\n",
            "\n",
            "\n",
            "--------------------\n",
            "Total training time: 0:52:02.643928\n",
            "----------\n",
            "Camadas: 5\n",
            "----------Learning rate: 0.09 ; Batch size: 120\n",
            "Weight Decay: 0.0001 ; Probabilidades de desligamento:0.062\n",
            "----------\n",
            "\n"
          ]
        },
        {
          "output_type": "stream",
          "name": "stderr",
          "text": [
            "  4%|▍         | 79/2000 [00:36<14:58,  2.14it/s]\n"
          ]
        },
        {
          "output_type": "stream",
          "name": "stdout",
          "text": [
            "Training interrupted by early stopping!\n",
            "Total epochs run: 80\n",
            "Best model found at epoch 4 with valid loss 9.019573986530304 and training loss 40.768402099609375\n",
            "Total training time: 0:00:36.977756\n",
            "----------\n",
            "Camadas: 6\n",
            "----------Learning rate: 0.09 ; Batch size: 120\n",
            "Weight Decay: 0.0001 ; Probabilidades de desligamento:0.062\n",
            "----------\n",
            "\n"
          ]
        },
        {
          "output_type": "stream",
          "name": "stderr",
          "text": [
            "  7%|▋         | 132/2000 [00:46<10:57,  2.84it/s]\n"
          ]
        },
        {
          "output_type": "stream",
          "name": "stdout",
          "text": [
            "Training interrupted by early stopping!\n",
            "Total epochs run: 133\n",
            "Best model found at epoch 57 with valid loss 9.022912859916687 and training loss 40.95749628543854\n",
            "Total training time: 0:00:46.492576\n",
            "----------\n",
            "Camadas: 7\n",
            "----------Learning rate: 0.09 ; Batch size: 120\n",
            "Weight Decay: 0.0001 ; Probabilidades de desligamento:0.062\n",
            "----------\n",
            "\n"
          ]
        },
        {
          "output_type": "stream",
          "name": "stderr",
          "text": [
            "  5%|▍         | 95/2000 [00:40<13:35,  2.34it/s]\n"
          ]
        },
        {
          "output_type": "stream",
          "name": "stdout",
          "text": [
            "Training interrupted by early stopping!\n",
            "Total epochs run: 96\n",
            "Best model found at epoch 20 with valid loss 9.034514367580414 and training loss 40.96516311168671\n",
            "Total training time: 0:00:40.702880\n",
            "----------Tentativas sem melhora: 3, Desligando...\n",
            "\n",
            "\n",
            "\n",
            "--------------------\n",
            "Total training time: 0:54:08.427081\n",
            "----------\n",
            "Camadas: 5\n",
            "----------Learning rate: 0.05 ; Batch size: 100\n",
            "Weight Decay: 1e-05 ; Probabilidades de desligamento:0.125\n",
            "----------\n",
            "\n"
          ]
        },
        {
          "output_type": "stream",
          "name": "stderr",
          "text": [
            "  4%|▍         | 77/2000 [00:34<14:17,  2.24it/s]\n"
          ]
        },
        {
          "output_type": "stream",
          "name": "stdout",
          "text": [
            "Training interrupted by early stopping!\n",
            "Total epochs run: 78\n",
            "Best model found at epoch 2 with valid loss 10.355097532272339 and training loss 46.758219957351685\n",
            "Total training time: 0:00:34.343230\n",
            "----------\n",
            "Camadas: 6\n",
            "----------Learning rate: 0.05 ; Batch size: 100\n",
            "Weight Decay: 1e-05 ; Probabilidades de desligamento:0.125\n",
            "----------\n",
            "\n"
          ]
        },
        {
          "output_type": "stream",
          "name": "stderr",
          "text": [
            "  4%|▍         | 77/2000 [00:32<13:43,  2.34it/s]\n"
          ]
        },
        {
          "output_type": "stream",
          "name": "stdout",
          "text": [
            "Training interrupted by early stopping!\n",
            "Total epochs run: 78\n",
            "Best model found at epoch 2 with valid loss 9.59989595413208 and training loss 47.38286465406418\n",
            "Total training time: 0:00:32.988828\n",
            "----------\n",
            "Camadas: 7\n",
            "----------Learning rate: 0.05 ; Batch size: 100\n",
            "Weight Decay: 1e-05 ; Probabilidades de desligamento:0.125\n",
            "----------\n",
            "\n"
          ]
        },
        {
          "output_type": "stream",
          "name": "stderr",
          "text": [
            "  4%|▍         | 77/2000 [00:28<11:59,  2.67it/s]\n"
          ]
        },
        {
          "output_type": "stream",
          "name": "stdout",
          "text": [
            "Training interrupted by early stopping!\n",
            "Total epochs run: 78\n",
            "Best model found at epoch 2 with valid loss 10.41461569070816 and training loss 48.57260888814926\n",
            "Total training time: 0:00:28.820297\n",
            "----------Tentativas sem melhora: 3, Desligando...\n",
            "\n",
            "\n",
            "\n",
            "--------------------\n",
            "Total training time: 0:55:46.081696\n",
            "----------\n",
            "Camadas: 5\n",
            "----------Learning rate: 0.05 ; Batch size: 100\n",
            "Weight Decay: 1e-05 ; Probabilidades de desligamento:0.062\n",
            "----------\n",
            "\n"
          ]
        },
        {
          "output_type": "stream",
          "name": "stderr",
          "text": [
            "  4%|▍         | 76/2000 [00:27<11:47,  2.72it/s]\n"
          ]
        },
        {
          "output_type": "stream",
          "name": "stdout",
          "text": [
            "Training interrupted by early stopping!\n",
            "Total epochs run: 77\n",
            "Best model found at epoch 1 with valid loss 10.060549199581146 and training loss 47.56410747766495\n",
            "Total training time: 0:00:27.958854\n",
            "----------\n",
            "Camadas: 6\n",
            "----------Learning rate: 0.05 ; Batch size: 100\n",
            "Weight Decay: 1e-05 ; Probabilidades de desligamento:0.062\n",
            "----------\n",
            "\n"
          ]
        },
        {
          "output_type": "stream",
          "name": "stderr",
          "text": [
            "  4%|▍         | 76/2000 [00:39<16:32,  1.94it/s]\n"
          ]
        },
        {
          "output_type": "stream",
          "name": "stdout",
          "text": [
            "Training interrupted by early stopping!\n",
            "Total epochs run: 77\n",
            "Best model found at epoch 1 with valid loss 10.359760224819183 and training loss 48.10333240032196\n",
            "Total training time: 0:00:39.218509\n",
            "----------\n",
            "Camadas: 7\n",
            "----------Learning rate: 0.05 ; Batch size: 100\n",
            "Weight Decay: 1e-05 ; Probabilidades de desligamento:0.062\n",
            "----------\n",
            "\n"
          ]
        },
        {
          "output_type": "stream",
          "name": "stderr",
          "text": [
            "  4%|▍         | 77/2000 [00:36<15:08,  2.12it/s]\n"
          ]
        },
        {
          "output_type": "stream",
          "name": "stdout",
          "text": [
            "Training interrupted by early stopping!\n",
            "Total epochs run: 78\n",
            "Best model found at epoch 2 with valid loss 10.414926707744598 and training loss 48.573669254779816\n",
            "Total training time: 0:00:36.395849\n",
            "----------Tentativas sem melhora: 3, Desligando...\n",
            "\n",
            "\n",
            "\n",
            "--------------------\n",
            "Total training time: 0:57:31.159992\n",
            "----------\n",
            "Camadas: 5\n",
            "----------Learning rate: 0.05 ; Batch size: 100\n",
            "Weight Decay: 0.0001 ; Probabilidades de desligamento:0.125\n",
            "----------\n",
            "\n"
          ]
        },
        {
          "output_type": "stream",
          "name": "stderr",
          "text": [
            "  4%|▍         | 77/2000 [00:35<14:40,  2.18it/s]\n"
          ]
        },
        {
          "output_type": "stream",
          "name": "stdout",
          "text": [
            "Training interrupted by early stopping!\n",
            "Total epochs run: 78\n",
            "Best model found at epoch 2 with valid loss 10.300570964813232 and training loss 47.8864871263504\n",
            "Total training time: 0:00:35.273835\n",
            "----------\n",
            "Camadas: 6\n",
            "----------Learning rate: 0.05 ; Batch size: 100\n",
            "Weight Decay: 0.0001 ; Probabilidades de desligamento:0.125\n",
            "----------\n",
            "\n"
          ]
        },
        {
          "output_type": "stream",
          "name": "stderr",
          "text": [
            "  4%|▍         | 76/2000 [00:32<13:36,  2.36it/s]\n"
          ]
        },
        {
          "output_type": "stream",
          "name": "stdout",
          "text": [
            "Training interrupted by early stopping!\n",
            "Total epochs run: 77\n",
            "Best model found at epoch 1 with valid loss 10.222593665122986 and training loss 47.601573050022125\n",
            "Total training time: 0:00:32.264551\n",
            "----------\n",
            "Camadas: 7\n",
            "----------Learning rate: 0.05 ; Batch size: 100\n",
            "Weight Decay: 0.0001 ; Probabilidades de desligamento:0.125\n",
            "----------\n",
            "\n"
          ]
        },
        {
          "output_type": "stream",
          "name": "stderr",
          "text": [
            "  4%|▍         | 76/2000 [00:43<18:08,  1.77it/s]\n"
          ]
        },
        {
          "output_type": "stream",
          "name": "stdout",
          "text": [
            "Training interrupted by early stopping!\n",
            "Total epochs run: 77\n",
            "Best model found at epoch 1 with valid loss 10.413557946681976 and training loss 48.63453131914139\n",
            "Total training time: 0:00:43.032912\n",
            "----------Tentativas sem melhora: 3, Desligando...\n",
            "\n",
            "\n",
            "\n",
            "--------------------\n",
            "Total training time: 0:59:23.182976\n",
            "----------\n",
            "Camadas: 5\n",
            "----------Learning rate: 0.05 ; Batch size: 100\n",
            "Weight Decay: 0.0001 ; Probabilidades de desligamento:0.062\n",
            "----------\n",
            "\n"
          ]
        },
        {
          "output_type": "stream",
          "name": "stderr",
          "text": [
            "  4%|▍         | 76/2000 [00:31<13:19,  2.41it/s]\n"
          ]
        },
        {
          "output_type": "stream",
          "name": "stdout",
          "text": [
            "Training interrupted by early stopping!\n",
            "Total epochs run: 77\n",
            "Best model found at epoch 1 with valid loss 10.160296320915222 and training loss 48.487656235694885\n",
            "Total training time: 0:00:31.596477\n",
            "----------\n",
            "Camadas: 6\n",
            "----------Learning rate: 0.05 ; Batch size: 100\n",
            "Weight Decay: 0.0001 ; Probabilidades de desligamento:0.062\n",
            "----------\n",
            "\n"
          ]
        },
        {
          "output_type": "stream",
          "name": "stderr",
          "text": [
            "  4%|▍         | 77/2000 [00:38<16:02,  2.00it/s]\n"
          ]
        },
        {
          "output_type": "stream",
          "name": "stdout",
          "text": [
            "Training interrupted by early stopping!\n",
            "Total epochs run: 78\n",
            "Best model found at epoch 2 with valid loss 9.4208362698555 and training loss 45.66312026977539\n",
            "Total training time: 0:00:38.544019\n",
            "----------\n",
            "Camadas: 7\n",
            "----------Learning rate: 0.05 ; Batch size: 100\n",
            "Weight Decay: 0.0001 ; Probabilidades de desligamento:0.062\n",
            "----------\n",
            "\n"
          ]
        },
        {
          "output_type": "stream",
          "name": "stderr",
          "text": [
            "  4%|▍         | 76/2000 [00:46<19:41,  1.63it/s]\n"
          ]
        },
        {
          "output_type": "stream",
          "name": "stdout",
          "text": [
            "Training interrupted by early stopping!\n",
            "Total epochs run: 77\n",
            "Best model found at epoch 1 with valid loss 10.413446545600891 and training loss 48.62353277206421\n",
            "Total training time: 0:00:46.684531\n",
            "----------Tentativas sem melhora: 3, Desligando...\n",
            "\n",
            "\n",
            "\n",
            "--------------------\n",
            "Total training time: 1:01:21.514155\n",
            "----------\n",
            "Camadas: 5\n",
            "----------Learning rate: 0.05 ; Batch size: 120\n",
            "Weight Decay: 1e-05 ; Probabilidades de desligamento:0.125\n",
            "----------\n",
            "\n"
          ]
        },
        {
          "output_type": "stream",
          "name": "stderr",
          "text": [
            "  4%|▍         | 77/2000 [00:26<11:00,  2.91it/s]\n"
          ]
        },
        {
          "output_type": "stream",
          "name": "stdout",
          "text": [
            "Training interrupted by early stopping!\n",
            "Total epochs run: 78\n",
            "Best model found at epoch 2 with valid loss 7.944980442523956 and training loss 36.56048250198364\n",
            "Total training time: 0:00:26.465896\n",
            "----------\n",
            "Camadas: 6\n",
            "----------Learning rate: 0.05 ; Batch size: 120\n",
            "Weight Decay: 1e-05 ; Probabilidades de desligamento:0.125\n",
            "----------\n",
            "\n"
          ]
        },
        {
          "output_type": "stream",
          "name": "stderr",
          "text": [
            "  4%|▍         | 77/2000 [00:30<12:31,  2.56it/s]\n"
          ]
        },
        {
          "output_type": "stream",
          "name": "stdout",
          "text": [
            "Training interrupted by early stopping!\n",
            "Total epochs run: 78\n",
            "Best model found at epoch 2 with valid loss 8.606910526752472 and training loss 40.245747447013855\n",
            "Total training time: 0:00:30.116971\n",
            "----------\n",
            "Camadas: 7\n",
            "----------Learning rate: 0.05 ; Batch size: 120\n",
            "Weight Decay: 1e-05 ; Probabilidades de desligamento:0.125\n",
            "----------\n",
            "\n"
          ]
        },
        {
          "output_type": "stream",
          "name": "stderr",
          "text": [
            "  4%|▍         | 77/2000 [00:24<10:17,  3.11it/s]\n"
          ]
        },
        {
          "output_type": "stream",
          "name": "stdout",
          "text": [
            "Training interrupted by early stopping!\n",
            "Total epochs run: 78\n",
            "Best model found at epoch 2 with valid loss 9.023591101169586 and training loss 40.931160628795624\n",
            "Total training time: 0:00:24.753891\n",
            "----------Tentativas sem melhora: 3, Desligando...\n",
            "\n",
            "\n",
            "\n",
            "--------------------\n",
            "Total training time: 1:02:44.325090\n",
            "----------\n",
            "Camadas: 5\n",
            "----------Learning rate: 0.05 ; Batch size: 120\n",
            "Weight Decay: 1e-05 ; Probabilidades de desligamento:0.062\n",
            "----------\n",
            "\n"
          ]
        },
        {
          "output_type": "stream",
          "name": "stderr",
          "text": [
            "  4%|▍         | 78/2000 [00:28<11:53,  2.70it/s]\n"
          ]
        },
        {
          "output_type": "stream",
          "name": "stdout",
          "text": [
            "Training interrupted by early stopping!\n",
            "Total epochs run: 79\n",
            "Best model found at epoch 3 with valid loss 7.6792842745780945 and training loss 35.9198514521122\n",
            "Total training time: 0:00:28.947829\n",
            "----------\n",
            "Camadas: 6\n",
            "----------Learning rate: 0.05 ; Batch size: 120\n",
            "Weight Decay: 1e-05 ; Probabilidades de desligamento:0.062\n",
            "----------\n",
            "\n"
          ]
        },
        {
          "output_type": "stream",
          "name": "stderr",
          "text": [
            "  4%|▍         | 78/2000 [00:25<10:40,  3.00it/s]\n"
          ]
        },
        {
          "output_type": "stream",
          "name": "stdout",
          "text": [
            "Training interrupted by early stopping!\n",
            "Total epochs run: 79\n",
            "Best model found at epoch 3 with valid loss 7.894404113292694 and training loss 36.541857838630676\n",
            "Total training time: 0:00:26.008272\n",
            "----------\n",
            "Camadas: 7\n",
            "----------Learning rate: 0.05 ; Batch size: 120\n",
            "Weight Decay: 1e-05 ; Probabilidades de desligamento:0.062\n",
            "----------\n",
            "\n"
          ]
        },
        {
          "output_type": "stream",
          "name": "stderr",
          "text": [
            "  4%|▍         | 78/2000 [00:32<13:11,  2.43it/s]\n"
          ]
        },
        {
          "output_type": "stream",
          "name": "stdout",
          "text": [
            "Training interrupted by early stopping!\n",
            "Total epochs run: 79\n",
            "Best model found at epoch 3 with valid loss 7.9734527468681335 and training loss 36.93794667720795\n",
            "Total training time: 0:00:32.140552\n",
            "----------Tentativas sem melhora: 3, Desligando...\n",
            "\n",
            "\n",
            "\n",
            "--------------------\n",
            "Total training time: 1:04:12.878053\n",
            "----------\n",
            "Camadas: 5\n",
            "----------Learning rate: 0.05 ; Batch size: 120\n",
            "Weight Decay: 0.0001 ; Probabilidades de desligamento:0.125\n",
            "----------\n",
            "\n"
          ]
        },
        {
          "output_type": "stream",
          "name": "stderr",
          "text": [
            "  6%|▌         | 124/2000 [00:53<13:25,  2.33it/s]\n"
          ]
        },
        {
          "output_type": "stream",
          "name": "stdout",
          "text": [
            "Training interrupted by early stopping!\n",
            "Total epochs run: 125\n",
            "Best model found at epoch 49 with valid loss 9.014906466007233 and training loss 40.94035995006561\n",
            "Total training time: 0:00:53.274820\n",
            "----------\n",
            "Camadas: 6\n",
            "----------Learning rate: 0.05 ; Batch size: 120\n",
            "Weight Decay: 0.0001 ; Probabilidades de desligamento:0.125\n",
            "----------\n",
            "\n"
          ]
        },
        {
          "output_type": "stream",
          "name": "stderr",
          "text": [
            "  4%|▍         | 89/2000 [00:47<16:56,  1.88it/s]\n"
          ]
        },
        {
          "output_type": "stream",
          "name": "stdout",
          "text": [
            "Training interrupted by early stopping!\n",
            "Total epochs run: 90\n",
            "Best model found at epoch 14 with valid loss 9.02221667766571 and training loss 40.94714277982712\n",
            "Total training time: 0:00:47.341852\n",
            "----------\n",
            "Camadas: 7\n",
            "----------Learning rate: 0.05 ; Batch size: 120\n",
            "Weight Decay: 0.0001 ; Probabilidades de desligamento:0.125\n",
            "----------\n",
            "\n"
          ]
        },
        {
          "output_type": "stream",
          "name": "stderr",
          "text": [
            " 10%|█         | 205/2000 [01:13<10:43,  2.79it/s]\n"
          ]
        },
        {
          "output_type": "stream",
          "name": "stdout",
          "text": [
            "Training interrupted by early stopping!\n",
            "Total epochs run: 206\n",
            "Best model found at epoch 130 with valid loss 9.011776387691498 and training loss 40.93810278177261\n",
            "Total training time: 0:01:13.562040\n",
            "----------Tentativas sem melhora: 3, Desligando...\n",
            "\n",
            "\n",
            "\n",
            "--------------------\n",
            "Total training time: 1:07:08.954029\n",
            "----------\n",
            "Camadas: 5\n",
            "----------Learning rate: 0.05 ; Batch size: 120\n",
            "Weight Decay: 0.0001 ; Probabilidades de desligamento:0.062\n",
            "----------\n",
            "\n"
          ]
        },
        {
          "output_type": "stream",
          "name": "stderr",
          "text": [
            "  7%|▋         | 145/2000 [01:15<16:00,  1.93it/s]\n"
          ]
        },
        {
          "output_type": "stream",
          "name": "stdout",
          "text": [
            "Training interrupted by early stopping!\n",
            "Total epochs run: 146\n",
            "Best model found at epoch 70 with valid loss 9.02142995595932 and training loss 40.97724986076355\n",
            "Total training time: 0:01:15.120378\n",
            "----------\n",
            "Camadas: 6\n",
            "----------Learning rate: 0.05 ; Batch size: 120\n",
            "Weight Decay: 0.0001 ; Probabilidades de desligamento:0.062\n",
            "----------\n",
            "\n"
          ]
        },
        {
          "output_type": "stream",
          "name": "stderr",
          "text": [
            "  6%|▌         | 118/2000 [01:05<17:23,  1.80it/s]\n"
          ]
        },
        {
          "output_type": "stream",
          "name": "stdout",
          "text": [
            "Training interrupted by early stopping!\n",
            "Total epochs run: 119\n",
            "Best model found at epoch 43 with valid loss 9.01958304643631 and training loss 40.94880920648575\n",
            "Total training time: 0:01:05.447595\n",
            "----------\n",
            "Camadas: 7\n",
            "----------Learning rate: 0.05 ; Batch size: 120\n",
            "Weight Decay: 0.0001 ; Probabilidades de desligamento:0.062\n",
            "----------\n",
            "\n"
          ]
        },
        {
          "output_type": "stream",
          "name": "stderr",
          "text": [
            "  8%|▊         | 150/2000 [00:56<11:39,  2.65it/s]\n"
          ]
        },
        {
          "output_type": "stream",
          "name": "stdout",
          "text": [
            "Training interrupted by early stopping!\n",
            "Total epochs run: 151\n",
            "Best model found at epoch 75 with valid loss 9.022847771644592 and training loss 40.94505190849304\n",
            "Total training time: 0:00:56.721998\n",
            "----------Tentativas sem melhora: 3, Desligando...\n",
            "\n",
            "\n",
            "\n",
            "--------------------\n",
            "Total training time: 1:10:28.122953\n",
            "7.282630503177643\n",
            "0.7133333333333334\n",
            "GeradorRede(\n",
            "  (layers): ModuleList(\n",
            "    (0): Linear(in_features=3, out_features=128, bias=True)\n",
            "    (1): ReLU()\n",
            "    (2): Dropout(p=0.125, inplace=False)\n",
            "    (3): Linear(in_features=128, out_features=64, bias=True)\n",
            "    (4): ReLU()\n",
            "    (5): Dropout(p=0.125, inplace=False)\n",
            "    (6): Linear(in_features=64, out_features=32, bias=True)\n",
            "    (7): ReLU()\n",
            "    (8): Dropout(p=0.125, inplace=False)\n",
            "    (9): Linear(in_features=32, out_features=16, bias=True)\n",
            "    (10): ReLU()\n",
            "    (11): Dropout(p=0.125, inplace=False)\n",
            "    (12): Linear(in_features=16, out_features=8, bias=True)\n",
            "    (13): ReLU()\n",
            "    (14): Dropout(p=0.125, inplace=False)\n",
            "    (15): Linear(in_features=8, out_features=2, bias=True)\n",
            "    (16): Softmax(dim=-1)\n",
            "  )\n",
            ")\n"
          ]
        }
      ]
    },
    {
      "cell_type": "code",
      "source": [
        "best_valid_loss3, total_accuracy3, best_model3 = run_models(df, 3, '../atp_pic3',\n",
        "            num_neuronios= [160, 176], \n",
        "            probs_desligar= [.31, .16], \n",
        "            weight_decays= [1e-7, 1e-6],\n",
        "            num_layers = [5, 6, 7, 8, 9],\n",
        "            learning_rates = [0.09, 0.05], \n",
        "            run_batch_sizes = [100, 120],\n",
        "            run_epochs = 2000,\n",
        "            run_early_stopping_epochs = 75\n",
        "            )\n",
        "\n",
        "print(best_valid_loss3)\n",
        "print(total_accuracy3)\n",
        "print(best_model3)"
      ],
      "metadata": {
        "colab": {
          "base_uri": "https://localhost:8080/"
        },
        "id": "iZKhrEwOhkPU",
        "outputId": "3956e314-d9c5-45dc-bc96-be41fce6162d"
      },
      "execution_count": 10,
      "outputs": [
        {
          "output_type": "stream",
          "name": "stdout",
          "text": [
            "----------\n",
            "Camadas: 5\n",
            "----------Learning rate: 0.09 ; Batch size: 100\n",
            "Weight Decay: 1e-07 ; Probabilidades de desligamento:0.31\n",
            "----------\n",
            "\n"
          ]
        },
        {
          "output_type": "stream",
          "name": "stderr",
          "text": [
            "  7%|▋         | 136/2000 [00:38<08:54,  3.49it/s]\n"
          ]
        },
        {
          "output_type": "stream",
          "name": "stdout",
          "text": [
            "Training interrupted by early stopping!\n",
            "Total epochs run: 137\n",
            "Best model found at epoch 61 with valid loss 10.405647814273834 and training loss 50.68290710449219\n",
            "Total training time: 0:00:39.003910\n",
            "--------------------------------------------------------- New best global model found! ---------------------------------------------------------\n",
            "GeradorRede(\n",
            "  (layers): ModuleList(\n",
            "    (0): Linear(in_features=3, out_features=160, bias=True)\n",
            "    (1): ReLU()\n",
            "    (2): Dropout(p=0.31, inplace=False)\n",
            "    (3): Linear(in_features=160, out_features=80, bias=True)\n",
            "    (4): ReLU()\n",
            "    (5): Dropout(p=0.31, inplace=False)\n",
            "    (6): Linear(in_features=80, out_features=40, bias=True)\n",
            "    (7): ReLU()\n",
            "    (8): Dropout(p=0.31, inplace=False)\n",
            "    (9): Linear(in_features=40, out_features=20, bias=True)\n",
            "    (10): ReLU()\n",
            "    (11): Dropout(p=0.31, inplace=False)\n",
            "    (12): Linear(in_features=20, out_features=10, bias=True)\n",
            "    (13): ReLU()\n",
            "    (14): Dropout(p=0.31, inplace=False)\n",
            "    (15): Linear(in_features=10, out_features=2, bias=True)\n",
            "    (16): Softmax(dim=-1)\n",
            "  )\n",
            ")\n",
            "\n",
            "Validation loss: 10.405647814273834\n",
            "\n",
            "Accuracy: 0.5026666666666667\n",
            "\n",
            "Loss: 0.6937097907066345\n",
            "\n",
            "----------\n",
            "Camadas: 6\n",
            "----------Learning rate: 0.09 ; Batch size: 100\n",
            "Weight Decay: 1e-07 ; Probabilidades de desligamento:0.31\n",
            "----------\n",
            "\n"
          ]
        },
        {
          "output_type": "stream",
          "name": "stderr",
          "text": [
            "  9%|▉         | 181/2000 [01:09<11:37,  2.61it/s]\n"
          ]
        },
        {
          "output_type": "stream",
          "name": "stdout",
          "text": [
            "Training interrupted by early stopping!\n",
            "Total epochs run: 182\n",
            "Best model found at epoch 106 with valid loss 10.40170305967331 and training loss 49.573061883449554\n",
            "Total training time: 0:01:09.388185\n",
            "----------\n",
            "Camadas: 7\n",
            "----------Learning rate: 0.09 ; Batch size: 100\n",
            "Weight Decay: 1e-07 ; Probabilidades de desligamento:0.31\n",
            "----------\n",
            "\n"
          ]
        },
        {
          "output_type": "stream",
          "name": "stderr",
          "text": [
            "  8%|▊         | 154/2000 [01:11<14:21,  2.14it/s]\n"
          ]
        },
        {
          "output_type": "stream",
          "name": "stdout",
          "text": [
            "Training interrupted by early stopping!\n",
            "Total epochs run: 155\n",
            "Best model found at epoch 79 with valid loss 10.446064293384552 and training loss 48.635155737400055\n",
            "Total training time: 0:01:11.871482\n",
            "----------\n",
            "Camadas: 8\n",
            "----------Learning rate: 0.09 ; Batch size: 100\n",
            "Weight Decay: 1e-07 ; Probabilidades de desligamento:0.31\n",
            "----------\n",
            "\n"
          ]
        },
        {
          "output_type": "stream",
          "name": "stderr",
          "text": [
            "  8%|▊         | 169/2000 [01:17<14:04,  2.17it/s]\n"
          ]
        },
        {
          "output_type": "stream",
          "name": "stdout",
          "text": [
            "Training interrupted by early stopping!\n",
            "Total epochs run: 170\n",
            "Best model found at epoch 94 with valid loss 10.446064293384552 and training loss 48.63515704870224\n",
            "Total training time: 0:01:17.927204\n",
            "----------\n",
            "Camadas: 9\n",
            "----------Learning rate: 0.09 ; Batch size: 100\n",
            "Weight Decay: 1e-07 ; Probabilidades de desligamento:0.31\n",
            "----------\n",
            "\n"
          ]
        },
        {
          "output_type": "stream",
          "name": "stderr",
          "text": [
            "  4%|▍         | 76/2000 [00:24<10:13,  3.14it/s]\n"
          ]
        },
        {
          "output_type": "stream",
          "name": "stdout",
          "text": [
            "Training interrupted by early stopping!\n",
            "Total epochs run: 77\n",
            "Best model found at epoch 1 with valid loss 10.445287466049194 and training loss 48.686839163303375\n",
            "Total training time: 0:00:24.252269\n",
            "\n",
            "\n",
            "\n",
            "--------------------\n",
            "Total training time: 0:04:45.603100\n",
            "----------\n",
            "Camadas: 5\n",
            "----------Learning rate: 0.09 ; Batch size: 100\n",
            "Weight Decay: 1e-07 ; Probabilidades de desligamento:0.16\n",
            "----------\n",
            "\n"
          ]
        },
        {
          "output_type": "stream",
          "name": "stderr",
          "text": [
            "  4%|▍         | 76/2000 [00:18<07:46,  4.13it/s]\n"
          ]
        },
        {
          "output_type": "stream",
          "name": "stdout",
          "text": [
            "Training interrupted by early stopping!\n",
            "Total epochs run: 77\n",
            "Best model found at epoch 1 with valid loss 10.103517293930054 and training loss 49.76888281106949\n",
            "Total training time: 0:00:18.437582\n",
            "--------------------------------------------------------- New best global model found! ---------------------------------------------------------\n",
            "GeradorRede(\n",
            "  (layers): ModuleList(\n",
            "    (0): Linear(in_features=3, out_features=160, bias=True)\n",
            "    (1): ReLU()\n",
            "    (2): Dropout(p=0.16, inplace=False)\n",
            "    (3): Linear(in_features=160, out_features=80, bias=True)\n",
            "    (4): ReLU()\n",
            "    (5): Dropout(p=0.16, inplace=False)\n",
            "    (6): Linear(in_features=80, out_features=40, bias=True)\n",
            "    (7): ReLU()\n",
            "    (8): Dropout(p=0.16, inplace=False)\n",
            "    (9): Linear(in_features=40, out_features=20, bias=True)\n",
            "    (10): ReLU()\n",
            "    (11): Dropout(p=0.16, inplace=False)\n",
            "    (12): Linear(in_features=20, out_features=10, bias=True)\n",
            "    (13): ReLU()\n",
            "    (14): Dropout(p=0.16, inplace=False)\n",
            "    (15): Linear(in_features=10, out_features=2, bias=True)\n",
            "    (16): Softmax(dim=-1)\n",
            "  )\n",
            ")\n",
            "\n",
            "Validation loss: 10.103517293930054\n",
            "\n",
            "Accuracy: 0.554\n",
            "\n",
            "Loss: 0.6780650019645691\n",
            "\n",
            "----------\n",
            "Camadas: 6\n",
            "----------Learning rate: 0.09 ; Batch size: 100\n",
            "Weight Decay: 1e-07 ; Probabilidades de desligamento:0.16\n",
            "----------\n",
            "\n"
          ]
        },
        {
          "output_type": "stream",
          "name": "stderr",
          "text": [
            "  8%|▊         | 170/2000 [01:13<13:06,  2.33it/s]\n"
          ]
        },
        {
          "output_type": "stream",
          "name": "stdout",
          "text": [
            "Training interrupted by early stopping!\n",
            "Total epochs run: 171\n",
            "Best model found at epoch 95 with valid loss 10.446064293384552 and training loss 48.63515692949295\n",
            "Total training time: 0:01:13.106368\n",
            "----------\n",
            "Camadas: 7\n",
            "----------Learning rate: 0.09 ; Batch size: 100\n",
            "Weight Decay: 1e-07 ; Probabilidades de desligamento:0.16\n",
            "----------\n",
            "\n"
          ]
        },
        {
          "output_type": "stream",
          "name": "stderr",
          "text": [
            "  4%|▍         | 76/2000 [00:39<16:37,  1.93it/s]\n"
          ]
        },
        {
          "output_type": "stream",
          "name": "stdout",
          "text": [
            "Training interrupted by early stopping!\n",
            "Total epochs run: 77\n",
            "Best model found at epoch 1 with valid loss 10.443410038948059 and training loss 48.72355419397354\n",
            "Total training time: 0:00:39.415716\n",
            "----------\n",
            "Camadas: 8\n",
            "----------Learning rate: 0.09 ; Batch size: 100\n",
            "Weight Decay: 1e-07 ; Probabilidades de desligamento:0.16\n",
            "----------\n",
            "\n"
          ]
        },
        {
          "output_type": "stream",
          "name": "stderr",
          "text": [
            "  4%|▍         | 76/2000 [00:40<17:06,  1.87it/s]\n"
          ]
        },
        {
          "output_type": "stream",
          "name": "stdout",
          "text": [
            "Training interrupted by early stopping!\n",
            "Total epochs run: 77\n",
            "Best model found at epoch 1 with valid loss 10.442125141620636 and training loss 48.78006029129028\n",
            "Total training time: 0:00:40.566333\n",
            "----------\n",
            "Camadas: 9\n",
            "----------Learning rate: 0.09 ; Batch size: 100\n",
            "Weight Decay: 1e-07 ; Probabilidades de desligamento:0.16\n",
            "----------\n",
            "\n"
          ]
        },
        {
          "output_type": "stream",
          "name": "stderr",
          "text": [
            "  4%|▍         | 76/2000 [00:24<10:28,  3.06it/s]\n"
          ]
        },
        {
          "output_type": "stream",
          "name": "stdout",
          "text": [
            "Training interrupted by early stopping!\n",
            "Total epochs run: 77\n",
            "Best model found at epoch 1 with valid loss 10.44212007522583 and training loss 48.69727075099945\n",
            "Total training time: 0:00:24.862646\n",
            "\n",
            "\n",
            "\n",
            "--------------------\n",
            "Total training time: 0:08:04.787358\n",
            "----------\n",
            "Camadas: 5\n",
            "----------Learning rate: 0.09 ; Batch size: 100\n",
            "Weight Decay: 1e-06 ; Probabilidades de desligamento:0.31\n",
            "----------\n",
            "\n"
          ]
        },
        {
          "output_type": "stream",
          "name": "stderr",
          "text": [
            "  4%|▍         | 82/2000 [00:29<11:32,  2.77it/s]\n"
          ]
        },
        {
          "output_type": "stream",
          "name": "stdout",
          "text": [
            "Training interrupted by early stopping!\n",
            "Total epochs run: 83\n",
            "Best model found at epoch 7 with valid loss 10.397128582000732 and training loss 50.93219214677811\n",
            "Total training time: 0:00:29.633258\n",
            "----------\n",
            "Camadas: 6\n",
            "----------Learning rate: 0.09 ; Batch size: 100\n",
            "Weight Decay: 1e-06 ; Probabilidades de desligamento:0.31\n",
            "----------\n",
            "\n"
          ]
        },
        {
          "output_type": "stream",
          "name": "stderr",
          "text": [
            "  4%|▍         | 76/2000 [00:33<14:20,  2.24it/s]\n"
          ]
        },
        {
          "output_type": "stream",
          "name": "stdout",
          "text": [
            "Training interrupted by early stopping!\n",
            "Total epochs run: 77\n",
            "Best model found at epoch 1 with valid loss 10.430211544036865 and training loss 48.78040432929993\n",
            "Total training time: 0:00:33.999317\n",
            "----------\n",
            "Camadas: 7\n",
            "----------Learning rate: 0.09 ; Batch size: 100\n",
            "Weight Decay: 1e-06 ; Probabilidades de desligamento:0.31\n",
            "----------\n",
            "\n"
          ]
        },
        {
          "output_type": "stream",
          "name": "stderr",
          "text": [
            "  4%|▍         | 77/2000 [00:36<15:15,  2.10it/s]\n"
          ]
        },
        {
          "output_type": "stream",
          "name": "stdout",
          "text": [
            "Training interrupted by early stopping!\n",
            "Total epochs run: 78\n",
            "Best model found at epoch 2 with valid loss 10.445808112621307 and training loss 48.63399350643158\n",
            "Total training time: 0:00:36.691009\n",
            "----------Tentativas sem melhora: 3, Desligando...\n",
            "\n",
            "\n",
            "\n",
            "--------------------\n",
            "Total training time: 0:09:46.638183\n",
            "----------\n",
            "Camadas: 5\n",
            "----------Learning rate: 0.09 ; Batch size: 100\n",
            "Weight Decay: 1e-06 ; Probabilidades de desligamento:0.16\n",
            "----------\n",
            "\n"
          ]
        },
        {
          "output_type": "stream",
          "name": "stderr",
          "text": [
            "  4%|▍         | 77/2000 [00:32<13:37,  2.35it/s]\n"
          ]
        },
        {
          "output_type": "stream",
          "name": "stdout",
          "text": [
            "Training interrupted by early stopping!\n",
            "Total epochs run: 78\n",
            "Best model found at epoch 2 with valid loss 10.399963974952698 and training loss 51.18055480718613\n",
            "Total training time: 0:00:32.741970\n",
            "----------\n",
            "Camadas: 6\n",
            "----------Learning rate: 0.09 ; Batch size: 100\n",
            "Weight Decay: 1e-06 ; Probabilidades de desligamento:0.16\n",
            "----------\n",
            "\n"
          ]
        },
        {
          "output_type": "stream",
          "name": "stderr",
          "text": [
            "  4%|▍         | 76/2000 [00:34<14:23,  2.23it/s]\n"
          ]
        },
        {
          "output_type": "stream",
          "name": "stdout",
          "text": [
            "Training interrupted by early stopping!\n",
            "Total epochs run: 77\n",
            "Best model found at epoch 1 with valid loss 10.444932579994202 and training loss 48.82858592271805\n",
            "Total training time: 0:00:34.123686\n",
            "----------\n",
            "Camadas: 7\n",
            "----------Learning rate: 0.09 ; Batch size: 100\n",
            "Weight Decay: 1e-06 ; Probabilidades de desligamento:0.16\n",
            "----------\n",
            "\n"
          ]
        },
        {
          "output_type": "stream",
          "name": "stderr",
          "text": [
            "  7%|▋         | 141/2000 [00:55<12:08,  2.55it/s]\n"
          ]
        },
        {
          "output_type": "stream",
          "name": "stdout",
          "text": [
            "Training interrupted by early stopping!\n",
            "Total epochs run: 142\n",
            "Best model found at epoch 66 with valid loss 10.398077845573425 and training loss 48.643365263938904\n",
            "Total training time: 0:00:55.282345\n",
            "----------Tentativas sem melhora: 3, Desligando...\n",
            "\n",
            "\n",
            "\n",
            "--------------------\n",
            "Total training time: 0:11:50.310464\n",
            "----------\n",
            "Camadas: 5\n",
            "----------Learning rate: 0.09 ; Batch size: 120\n",
            "Weight Decay: 1e-07 ; Probabilidades de desligamento:0.31\n",
            "----------\n",
            "\n"
          ]
        },
        {
          "output_type": "stream",
          "name": "stderr",
          "text": [
            "  4%|▍         | 76/2000 [00:15<06:33,  4.89it/s]\n"
          ]
        },
        {
          "output_type": "stream",
          "name": "stdout",
          "text": [
            "Training interrupted by early stopping!\n",
            "Total epochs run: 77\n",
            "Best model found at epoch 1 with valid loss 9.029936134815216 and training loss 42.09672403335571\n",
            "Total training time: 0:00:15.558355\n",
            "----------\n",
            "Camadas: 6\n",
            "----------Learning rate: 0.09 ; Batch size: 120\n",
            "Weight Decay: 1e-07 ; Probabilidades de desligamento:0.31\n",
            "----------\n",
            "\n"
          ]
        },
        {
          "output_type": "stream",
          "name": "stderr",
          "text": [
            "  4%|▍         | 76/2000 [00:18<07:41,  4.17it/s]\n"
          ]
        },
        {
          "output_type": "stream",
          "name": "stdout",
          "text": [
            "Training interrupted by early stopping!\n",
            "Total epochs run: 77\n",
            "Best model found at epoch 1 with valid loss 9.032460451126099 and training loss 41.11803525686264\n",
            "Total training time: 0:00:18.260741\n",
            "----------\n",
            "Camadas: 7\n",
            "----------Learning rate: 0.09 ; Batch size: 120\n",
            "Weight Decay: 1e-07 ; Probabilidades de desligamento:0.31\n",
            "----------\n",
            "\n"
          ]
        },
        {
          "output_type": "stream",
          "name": "stderr",
          "text": [
            "  4%|▍         | 76/2000 [00:27<11:26,  2.80it/s]\n"
          ]
        },
        {
          "output_type": "stream",
          "name": "stdout",
          "text": [
            "Training interrupted by early stopping!\n",
            "Total epochs run: 77\n",
            "Best model found at epoch 1 with valid loss 9.03214567899704 and training loss 41.05627906322479\n",
            "Total training time: 0:00:27.124902\n",
            "----------Tentativas sem melhora: 3, Desligando...\n",
            "\n",
            "\n",
            "\n",
            "--------------------\n",
            "Total training time: 0:12:52.873880\n",
            "----------\n",
            "Camadas: 5\n",
            "----------Learning rate: 0.09 ; Batch size: 120\n",
            "Weight Decay: 1e-07 ; Probabilidades de desligamento:0.16\n",
            "----------\n",
            "\n"
          ]
        },
        {
          "output_type": "stream",
          "name": "stderr",
          "text": [
            "  7%|▋         | 144/2000 [00:42<09:07,  3.39it/s]\n"
          ]
        },
        {
          "output_type": "stream",
          "name": "stdout",
          "text": [
            "Training interrupted by early stopping!\n",
            "Total epochs run: 145\n",
            "Best model found at epoch 69 with valid loss 9.037231981754303 and training loss 40.98568481206894\n",
            "Total training time: 0:00:42.521476\n",
            "----------\n",
            "Camadas: 6\n",
            "----------Learning rate: 0.09 ; Batch size: 120\n",
            "Weight Decay: 1e-07 ; Probabilidades de desligamento:0.16\n",
            "----------\n",
            "\n"
          ]
        },
        {
          "output_type": "stream",
          "name": "stderr",
          "text": [
            "  4%|▍         | 76/2000 [00:22<09:40,  3.32it/s]\n"
          ]
        },
        {
          "output_type": "stream",
          "name": "stdout",
          "text": [
            "Training interrupted by early stopping!\n",
            "Total epochs run: 77\n",
            "Best model found at epoch 1 with valid loss 9.03657352924347 and training loss 41.068917989730835\n",
            "Total training time: 0:00:22.930968\n",
            "----------\n",
            "Camadas: 7\n",
            "----------Learning rate: 0.09 ; Batch size: 120\n",
            "Weight Decay: 1e-07 ; Probabilidades de desligamento:0.16\n",
            "----------\n",
            "\n"
          ]
        },
        {
          "output_type": "stream",
          "name": "stderr",
          "text": [
            "  4%|▍         | 76/2000 [00:21<08:59,  3.57it/s]\n"
          ]
        },
        {
          "output_type": "stream",
          "name": "stdout",
          "text": [
            "Training interrupted by early stopping!\n",
            "Total epochs run: 77\n",
            "Best model found at epoch 1 with valid loss 9.032409310340881 and training loss 41.010269701480865\n",
            "Total training time: 0:00:21.322863\n",
            "----------Tentativas sem melhora: 3, Desligando...\n",
            "\n",
            "\n",
            "\n",
            "--------------------\n",
            "Total training time: 0:14:21.219315\n",
            "----------\n",
            "Camadas: 5\n",
            "----------Learning rate: 0.09 ; Batch size: 120\n",
            "Weight Decay: 1e-06 ; Probabilidades de desligamento:0.31\n",
            "----------\n",
            "\n"
          ]
        },
        {
          "output_type": "stream",
          "name": "stderr",
          "text": [
            "  5%|▍         | 96/2000 [00:36<12:03,  2.63it/s]\n"
          ]
        },
        {
          "output_type": "stream",
          "name": "stdout",
          "text": [
            "Training interrupted by early stopping!\n",
            "Total epochs run: 97\n",
            "Best model found at epoch 21 with valid loss 10.530735969543457 and training loss 47.44980365037918\n",
            "Total training time: 0:00:36.497687\n",
            "----------\n",
            "Camadas: 6\n",
            "----------Learning rate: 0.09 ; Batch size: 120\n",
            "Weight Decay: 1e-06 ; Probabilidades de desligamento:0.31\n",
            "----------\n",
            "\n"
          ]
        },
        {
          "output_type": "stream",
          "name": "stderr",
          "text": [
            "  4%|▍         | 76/2000 [00:28<12:13,  2.62it/s]\n"
          ]
        },
        {
          "output_type": "stream",
          "name": "stdout",
          "text": [
            "Training interrupted by early stopping!\n",
            "Total epochs run: 77\n",
            "Best model found at epoch 1 with valid loss 9.030803918838501 and training loss 41.27313995361328\n",
            "Total training time: 0:00:29.007449\n",
            "----------\n",
            "Camadas: 7\n",
            "----------Learning rate: 0.09 ; Batch size: 120\n",
            "Weight Decay: 1e-06 ; Probabilidades de desligamento:0.31\n",
            "----------\n",
            "\n"
          ]
        },
        {
          "output_type": "stream",
          "name": "stderr",
          "text": [
            "  4%|▍         | 77/2000 [00:38<15:57,  2.01it/s]\n"
          ]
        },
        {
          "output_type": "stream",
          "name": "stdout",
          "text": [
            "Training interrupted by early stopping!\n",
            "Total epochs run: 78\n",
            "Best model found at epoch 2 with valid loss 9.037782371044159 and training loss 40.97031968832016\n",
            "Total training time: 0:00:38.349234\n",
            "----------Tentativas sem melhora: 3, Desligando...\n",
            "\n",
            "\n",
            "\n",
            "--------------------\n",
            "Total training time: 0:16:06.524629\n",
            "----------\n",
            "Camadas: 5\n",
            "----------Learning rate: 0.09 ; Batch size: 120\n",
            "Weight Decay: 1e-06 ; Probabilidades de desligamento:0.16\n",
            "----------\n",
            "\n"
          ]
        },
        {
          "output_type": "stream",
          "name": "stderr",
          "text": [
            "  4%|▍         | 83/2000 [00:29<11:29,  2.78it/s]\n"
          ]
        },
        {
          "output_type": "stream",
          "name": "stdout",
          "text": [
            "Training interrupted by early stopping!\n",
            "Total epochs run: 84\n",
            "Best model found at epoch 8 with valid loss 10.530735969543457 and training loss 47.85088151693344\n",
            "Total training time: 0:00:29.853542\n",
            "----------\n",
            "Camadas: 6\n",
            "----------Learning rate: 0.09 ; Batch size: 120\n",
            "Weight Decay: 1e-06 ; Probabilidades de desligamento:0.16\n",
            "----------\n",
            "\n"
          ]
        },
        {
          "output_type": "stream",
          "name": "stderr",
          "text": [
            "  4%|▍         | 76/2000 [00:36<15:12,  2.11it/s]\n"
          ]
        },
        {
          "output_type": "stream",
          "name": "stdout",
          "text": [
            "Training interrupted by early stopping!\n",
            "Total epochs run: 77\n",
            "Best model found at epoch 1 with valid loss 10.530735969543457 and training loss 47.37347602844238\n",
            "Total training time: 0:00:36.062471\n",
            "----------\n",
            "Camadas: 7\n",
            "----------Learning rate: 0.09 ; Batch size: 120\n",
            "Weight Decay: 1e-06 ; Probabilidades de desligamento:0.16\n",
            "----------\n",
            "\n"
          ]
        },
        {
          "output_type": "stream",
          "name": "stderr",
          "text": [
            "  4%|▍         | 77/2000 [00:36<15:07,  2.12it/s]\n"
          ]
        },
        {
          "output_type": "stream",
          "name": "stdout",
          "text": [
            "Training interrupted by early stopping!\n",
            "Total epochs run: 78\n",
            "Best model found at epoch 2 with valid loss 9.044062852859497 and training loss 41.23202157020569\n",
            "Total training time: 0:00:36.360257\n",
            "----------Tentativas sem melhora: 3, Desligando...\n",
            "\n",
            "\n",
            "\n",
            "--------------------\n",
            "Total training time: 0:17:50.268499\n",
            "----------\n",
            "Camadas: 5\n",
            "----------Learning rate: 0.05 ; Batch size: 100\n",
            "Weight Decay: 1e-07 ; Probabilidades de desligamento:0.31\n",
            "----------\n",
            "\n"
          ]
        },
        {
          "output_type": "stream",
          "name": "stderr",
          "text": [
            "  4%|▍         | 86/2000 [00:19<07:04,  4.51it/s]\n"
          ]
        },
        {
          "output_type": "stream",
          "name": "stdout",
          "text": [
            "Training interrupted by early stopping!\n",
            "Total epochs run: 87\n",
            "Best model found at epoch 11 with valid loss 10.406973004341125 and training loss 48.729043424129486\n",
            "Total training time: 0:00:19.076063\n",
            "----------\n",
            "Camadas: 6\n",
            "----------Learning rate: 0.05 ; Batch size: 100\n",
            "Weight Decay: 1e-07 ; Probabilidades de desligamento:0.31\n",
            "----------\n",
            "\n"
          ]
        },
        {
          "output_type": "stream",
          "name": "stderr",
          "text": [
            "  9%|▊         | 172/2000 [00:56<10:04,  3.02it/s]\n"
          ]
        },
        {
          "output_type": "stream",
          "name": "stdout",
          "text": [
            "Training interrupted by early stopping!\n",
            "Total epochs run: 173\n",
            "Best model found at epoch 97 with valid loss 10.400386452674866 and training loss 51.09097105264664\n",
            "Total training time: 0:00:56.930467\n",
            "----------\n",
            "Camadas: 7\n",
            "----------Learning rate: 0.05 ; Batch size: 100\n",
            "Weight Decay: 1e-07 ; Probabilidades de desligamento:0.31\n",
            "----------\n",
            "\n"
          ]
        },
        {
          "output_type": "stream",
          "name": "stderr",
          "text": [
            "  4%|▍         | 79/2000 [00:23<09:34,  3.35it/s]\n"
          ]
        },
        {
          "output_type": "stream",
          "name": "stdout",
          "text": [
            "Training interrupted by early stopping!\n",
            "Total epochs run: 80\n",
            "Best model found at epoch 4 with valid loss 10.401630759239197 and training loss 51.265423357486725\n",
            "Total training time: 0:00:23.626545\n",
            "----------Tentativas sem melhora: 3, Desligando...\n",
            "\n",
            "\n",
            "\n",
            "--------------------\n",
            "Total training time: 0:19:31.447120\n",
            "----------\n",
            "Camadas: 5\n",
            "----------Learning rate: 0.05 ; Batch size: 100\n",
            "Weight Decay: 1e-07 ; Probabilidades de desligamento:0.16\n",
            "----------\n",
            "\n"
          ]
        },
        {
          "output_type": "stream",
          "name": "stderr",
          "text": [
            "  4%|▍         | 76/2000 [00:18<07:50,  4.09it/s]\n"
          ]
        },
        {
          "output_type": "stream",
          "name": "stdout",
          "text": [
            "Training interrupted by early stopping!\n",
            "Total epochs run: 77\n",
            "Best model found at epoch 1 with valid loss 8.78389972448349 and training loss 47.09868311882019\n",
            "Total training time: 0:00:18.597008\n",
            "--------------------------------------------------------- New best global model found! ---------------------------------------------------------\n",
            "GeradorRede(\n",
            "  (layers): ModuleList(\n",
            "    (0): Linear(in_features=3, out_features=160, bias=True)\n",
            "    (1): ReLU()\n",
            "    (2): Dropout(p=0.16, inplace=False)\n",
            "    (3): Linear(in_features=160, out_features=80, bias=True)\n",
            "    (4): ReLU()\n",
            "    (5): Dropout(p=0.16, inplace=False)\n",
            "    (6): Linear(in_features=80, out_features=40, bias=True)\n",
            "    (7): ReLU()\n",
            "    (8): Dropout(p=0.16, inplace=False)\n",
            "    (9): Linear(in_features=40, out_features=20, bias=True)\n",
            "    (10): ReLU()\n",
            "    (11): Dropout(p=0.16, inplace=False)\n",
            "    (12): Linear(in_features=20, out_features=10, bias=True)\n",
            "    (13): ReLU()\n",
            "    (14): Dropout(p=0.16, inplace=False)\n",
            "    (15): Linear(in_features=10, out_features=2, bias=True)\n",
            "    (16): Softmax(dim=-1)\n",
            "  )\n",
            ")\n",
            "\n",
            "Validation loss: 8.78389972448349\n",
            "\n",
            "Accuracy: 0.694\n",
            "\n",
            "Loss: 0.604820966720581\n",
            "\n",
            "----------\n",
            "Camadas: 6\n",
            "----------Learning rate: 0.05 ; Batch size: 100\n",
            "Weight Decay: 1e-07 ; Probabilidades de desligamento:0.16\n",
            "----------\n",
            "\n"
          ]
        },
        {
          "output_type": "stream",
          "name": "stderr",
          "text": [
            "  4%|▍         | 76/2000 [00:21<09:03,  3.54it/s]\n"
          ]
        },
        {
          "output_type": "stream",
          "name": "stdout",
          "text": [
            "Training interrupted by early stopping!\n",
            "Total epochs run: 77\n",
            "Best model found at epoch 1 with valid loss 10.414124131202698 and training loss 48.66845256090164\n",
            "Total training time: 0:00:21.492222\n",
            "----------\n",
            "Camadas: 7\n",
            "----------Learning rate: 0.05 ; Batch size: 100\n",
            "Weight Decay: 1e-07 ; Probabilidades de desligamento:0.16\n",
            "----------\n",
            "\n"
          ]
        },
        {
          "output_type": "stream",
          "name": "stderr",
          "text": [
            "  4%|▍         | 77/2000 [00:32<13:22,  2.40it/s]\n"
          ]
        },
        {
          "output_type": "stream",
          "name": "stdout",
          "text": [
            "Training interrupted by early stopping!\n",
            "Total epochs run: 78\n",
            "Best model found at epoch 2 with valid loss 10.414485275745392 and training loss 48.580106139183044\n",
            "Total training time: 0:00:32.134500\n",
            "----------\n",
            "Camadas: 8\n",
            "----------Learning rate: 0.05 ; Batch size: 100\n",
            "Weight Decay: 1e-07 ; Probabilidades de desligamento:0.16\n",
            "----------\n",
            "\n"
          ]
        },
        {
          "output_type": "stream",
          "name": "stderr",
          "text": [
            "  4%|▍         | 77/2000 [00:26<10:56,  2.93it/s]\n"
          ]
        },
        {
          "output_type": "stream",
          "name": "stdout",
          "text": [
            "Training interrupted by early stopping!\n",
            "Total epochs run: 78\n",
            "Best model found at epoch 2 with valid loss 10.413592636585236 and training loss 48.56963104009628\n",
            "Total training time: 0:00:26.314660\n",
            "----------\n",
            "Camadas: 9\n",
            "----------Learning rate: 0.05 ; Batch size: 100\n",
            "Weight Decay: 1e-07 ; Probabilidades de desligamento:0.16\n",
            "----------\n",
            "\n"
          ]
        },
        {
          "output_type": "stream",
          "name": "stderr",
          "text": [
            "  4%|▍         | 77/2000 [00:25<10:46,  2.97it/s]\n"
          ]
        },
        {
          "output_type": "stream",
          "name": "stdout",
          "text": [
            "Training interrupted by early stopping!\n",
            "Total epochs run: 78\n",
            "Best model found at epoch 2 with valid loss 10.414712488651276 and training loss 48.57251173257828\n",
            "Total training time: 0:00:25.900144\n",
            "\n",
            "\n",
            "\n",
            "--------------------\n",
            "Total training time: 0:21:38.503016\n",
            "----------\n",
            "Camadas: 5\n",
            "----------Learning rate: 0.05 ; Batch size: 100\n",
            "Weight Decay: 1e-06 ; Probabilidades de desligamento:0.31\n",
            "----------\n",
            "\n"
          ]
        },
        {
          "output_type": "stream",
          "name": "stderr",
          "text": [
            "  4%|▍         | 78/2000 [00:25<10:33,  3.03it/s]\n"
          ]
        },
        {
          "output_type": "stream",
          "name": "stdout",
          "text": [
            "Training interrupted by early stopping!\n",
            "Total epochs run: 79\n",
            "Best model found at epoch 3 with valid loss 10.404732048511505 and training loss 48.9246945977211\n",
            "Total training time: 0:00:25.724505\n",
            "----------\n",
            "Camadas: 6\n",
            "----------Learning rate: 0.05 ; Batch size: 100\n",
            "Weight Decay: 1e-06 ; Probabilidades de desligamento:0.31\n",
            "----------\n",
            "\n"
          ]
        },
        {
          "output_type": "stream",
          "name": "stderr",
          "text": [
            "  4%|▍         | 76/2000 [00:30<12:47,  2.51it/s]\n"
          ]
        },
        {
          "output_type": "stream",
          "name": "stdout",
          "text": [
            "Training interrupted by early stopping!\n",
            "Total epochs run: 77\n",
            "Best model found at epoch 1 with valid loss 10.414127945899963 and training loss 48.793921768665314\n",
            "Total training time: 0:00:30.335003\n",
            "----------\n",
            "Camadas: 7\n",
            "----------Learning rate: 0.05 ; Batch size: 100\n",
            "Weight Decay: 1e-06 ; Probabilidades de desligamento:0.31\n",
            "----------\n",
            "\n"
          ]
        },
        {
          "output_type": "stream",
          "name": "stderr",
          "text": [
            "  4%|▍         | 77/2000 [00:43<17:57,  1.78it/s]\n"
          ]
        },
        {
          "output_type": "stream",
          "name": "stdout",
          "text": [
            "Training interrupted by early stopping!\n",
            "Total epochs run: 78\n",
            "Best model found at epoch 2 with valid loss 10.41136908531189 and training loss 48.56911760568619\n",
            "Total training time: 0:00:43.157190\n",
            "----------Tentativas sem melhora: 3, Desligando...\n",
            "\n",
            "\n",
            "\n",
            "--------------------\n",
            "Total training time: 0:23:19.204415\n",
            "----------\n",
            "Camadas: 5\n",
            "----------Learning rate: 0.05 ; Batch size: 100\n",
            "Weight Decay: 1e-06 ; Probabilidades de desligamento:0.16\n",
            "----------\n",
            "\n"
          ]
        },
        {
          "output_type": "stream",
          "name": "stderr",
          "text": [
            "  4%|▍         | 76/2000 [00:33<14:17,  2.24it/s]\n"
          ]
        },
        {
          "output_type": "stream",
          "name": "stdout",
          "text": [
            "Training interrupted by early stopping!\n",
            "Total epochs run: 77\n",
            "Best model found at epoch 1 with valid loss 10.412754714488983 and training loss 48.65623062849045\n",
            "Total training time: 0:00:33.869381\n",
            "----------\n",
            "Camadas: 6\n",
            "----------Learning rate: 0.05 ; Batch size: 100\n",
            "Weight Decay: 1e-06 ; Probabilidades de desligamento:0.16\n",
            "----------\n",
            "\n"
          ]
        },
        {
          "output_type": "stream",
          "name": "stderr",
          "text": [
            "  4%|▍         | 76/2000 [00:34<14:31,  2.21it/s]\n"
          ]
        },
        {
          "output_type": "stream",
          "name": "stdout",
          "text": [
            "Training interrupted by early stopping!\n",
            "Total epochs run: 77\n",
            "Best model found at epoch 1 with valid loss 10.410388767719269 and training loss 48.717905938625336\n",
            "Total training time: 0:00:34.428438\n",
            "----------\n",
            "Camadas: 7\n",
            "----------Learning rate: 0.05 ; Batch size: 100\n",
            "Weight Decay: 1e-06 ; Probabilidades de desligamento:0.16\n",
            "----------\n",
            "\n"
          ]
        },
        {
          "output_type": "stream",
          "name": "stderr",
          "text": [
            "  4%|▍         | 76/2000 [00:39<16:36,  1.93it/s]\n"
          ]
        },
        {
          "output_type": "stream",
          "name": "stdout",
          "text": [
            "Training interrupted by early stopping!\n",
            "Total epochs run: 77\n",
            "Best model found at epoch 1 with valid loss 10.413842916488647 and training loss 48.66259950399399\n",
            "Total training time: 0:00:39.369424\n",
            "----------Tentativas sem melhora: 3, Desligando...\n",
            "\n",
            "\n",
            "\n",
            "--------------------\n",
            "Total training time: 0:25:08.358108\n",
            "----------\n",
            "Camadas: 5\n",
            "----------Learning rate: 0.05 ; Batch size: 120\n",
            "Weight Decay: 1e-07 ; Probabilidades de desligamento:0.31\n",
            "----------\n",
            "\n"
          ]
        },
        {
          "output_type": "stream",
          "name": "stderr",
          "text": [
            "  4%|▍         | 76/2000 [00:13<05:44,  5.59it/s]\n"
          ]
        },
        {
          "output_type": "stream",
          "name": "stdout",
          "text": [
            "Training interrupted by early stopping!\n",
            "Total epochs run: 77\n",
            "Best model found at epoch 1 with valid loss 9.017071008682251 and training loss 41.05023431777954\n",
            "Total training time: 0:00:13.607595\n",
            "----------\n",
            "Camadas: 6\n",
            "----------Learning rate: 0.05 ; Batch size: 120\n",
            "Weight Decay: 1e-07 ; Probabilidades de desligamento:0.31\n",
            "----------\n",
            "\n"
          ]
        },
        {
          "output_type": "stream",
          "name": "stderr",
          "text": [
            "  4%|▍         | 77/2000 [00:17<07:25,  4.32it/s]\n"
          ]
        },
        {
          "output_type": "stream",
          "name": "stdout",
          "text": [
            "Training interrupted by early stopping!\n",
            "Total epochs run: 78\n",
            "Best model found at epoch 2 with valid loss 9.023392379283905 and training loss 40.93168377876282\n",
            "Total training time: 0:00:17.854953\n",
            "----------\n",
            "Camadas: 7\n",
            "----------Learning rate: 0.05 ; Batch size: 120\n",
            "Weight Decay: 1e-07 ; Probabilidades de desligamento:0.31\n",
            "----------\n",
            "\n"
          ]
        },
        {
          "output_type": "stream",
          "name": "stderr",
          "text": [
            "  4%|▍         | 78/2000 [00:27<11:22,  2.82it/s]\n"
          ]
        },
        {
          "output_type": "stream",
          "name": "stdout",
          "text": [
            "Training interrupted by early stopping!\n",
            "Total epochs run: 79\n",
            "Best model found at epoch 3 with valid loss 9.023789405822754 and training loss 40.93092864751816\n",
            "Total training time: 0:00:27.695191\n",
            "----------Tentativas sem melhora: 3, Desligando...\n",
            "\n",
            "\n",
            "\n",
            "--------------------\n",
            "Total training time: 0:26:09.028476\n",
            "----------\n",
            "Camadas: 5\n",
            "----------Learning rate: 0.05 ; Batch size: 120\n",
            "Weight Decay: 1e-07 ; Probabilidades de desligamento:0.16\n",
            "----------\n",
            "\n"
          ]
        },
        {
          "output_type": "stream",
          "name": "stderr",
          "text": [
            "  4%|▍         | 76/2000 [00:14<06:11,  5.17it/s]\n"
          ]
        },
        {
          "output_type": "stream",
          "name": "stdout",
          "text": [
            "Training interrupted by early stopping!\n",
            "Total epochs run: 77\n",
            "Best model found at epoch 1 with valid loss 8.56532108783722 and training loss 40.11488872766495\n",
            "Total training time: 0:00:14.707846\n",
            "----------\n",
            "Camadas: 6\n",
            "----------Learning rate: 0.05 ; Batch size: 120\n",
            "Weight Decay: 1e-07 ; Probabilidades de desligamento:0.16\n",
            "----------\n",
            "\n"
          ]
        },
        {
          "output_type": "stream",
          "name": "stderr",
          "text": [
            "  4%|▍         | 76/2000 [00:17<07:13,  4.44it/s]\n"
          ]
        },
        {
          "output_type": "stream",
          "name": "stdout",
          "text": [
            "Training interrupted by early stopping!\n",
            "Total epochs run: 77\n",
            "Best model found at epoch 1 with valid loss 9.020764887332916 and training loss 41.567203879356384\n",
            "Total training time: 0:00:17.148420\n",
            "----------\n",
            "Camadas: 7\n",
            "----------Learning rate: 0.05 ; Batch size: 120\n",
            "Weight Decay: 1e-07 ; Probabilidades de desligamento:0.16\n",
            "----------\n",
            "\n"
          ]
        },
        {
          "output_type": "stream",
          "name": "stderr",
          "text": [
            "  4%|▍         | 77/2000 [00:21<09:09,  3.50it/s]\n"
          ]
        },
        {
          "output_type": "stream",
          "name": "stdout",
          "text": [
            "Training interrupted by early stopping!\n",
            "Total epochs run: 78\n",
            "Best model found at epoch 2 with valid loss 9.023769080638885 and training loss 40.9313639998436\n",
            "Total training time: 0:00:21.995112\n",
            "----------Tentativas sem melhora: 3, Desligando...\n",
            "\n",
            "\n",
            "\n",
            "--------------------\n",
            "Total training time: 0:27:04.370361\n",
            "----------\n",
            "Camadas: 5\n",
            "----------Learning rate: 0.05 ; Batch size: 120\n",
            "Weight Decay: 1e-06 ; Probabilidades de desligamento:0.31\n",
            "----------\n",
            "\n"
          ]
        },
        {
          "output_type": "stream",
          "name": "stderr",
          "text": [
            "  6%|▌         | 119/2000 [00:40<10:42,  2.93it/s]\n"
          ]
        },
        {
          "output_type": "stream",
          "name": "stdout",
          "text": [
            "Training interrupted by early stopping!\n",
            "Total epochs run: 120\n",
            "Best model found at epoch 44 with valid loss 9.012375593185425 and training loss 42.121617913246155\n",
            "Total training time: 0:00:40.670044\n",
            "----------\n",
            "Camadas: 6\n",
            "----------Learning rate: 0.05 ; Batch size: 120\n",
            "Weight Decay: 1e-06 ; Probabilidades de desligamento:0.31\n",
            "----------\n",
            "\n"
          ]
        },
        {
          "output_type": "stream",
          "name": "stderr",
          "text": [
            "  4%|▍         | 77/2000 [00:33<13:56,  2.30it/s]\n"
          ]
        },
        {
          "output_type": "stream",
          "name": "stdout",
          "text": [
            "Training interrupted by early stopping!\n",
            "Total epochs run: 78\n",
            "Best model found at epoch 2 with valid loss 9.02341479063034 and training loss 40.93122094869614\n",
            "Total training time: 0:00:33.511801\n",
            "----------\n",
            "Camadas: 7\n",
            "----------Learning rate: 0.05 ; Batch size: 120\n",
            "Weight Decay: 1e-06 ; Probabilidades de desligamento:0.31\n",
            "----------\n",
            "\n"
          ]
        },
        {
          "output_type": "stream",
          "name": "stderr",
          "text": [
            "  4%|▍         | 76/2000 [00:32<13:47,  2.33it/s]\n"
          ]
        },
        {
          "output_type": "stream",
          "name": "stdout",
          "text": [
            "Training interrupted by early stopping!\n",
            "Total epochs run: 77\n",
            "Best model found at epoch 1 with valid loss 9.023752331733704 and training loss 40.95186108350754\n",
            "Total training time: 0:00:32.682847\n",
            "----------Tentativas sem melhora: 3, Desligando...\n",
            "\n",
            "\n",
            "\n",
            "--------------------\n",
            "Total training time: 0:28:52.768479\n",
            "----------\n",
            "Camadas: 5\n",
            "----------Learning rate: 0.05 ; Batch size: 120\n",
            "Weight Decay: 1e-06 ; Probabilidades de desligamento:0.16\n",
            "----------\n",
            "\n"
          ]
        },
        {
          "output_type": "stream",
          "name": "stderr",
          "text": [
            "  4%|▍         | 76/2000 [00:24<10:28,  3.06it/s]\n"
          ]
        },
        {
          "output_type": "stream",
          "name": "stdout",
          "text": [
            "Training interrupted by early stopping!\n",
            "Total epochs run: 77\n",
            "Best model found at epoch 1 with valid loss 8.470136940479279 and training loss 39.70632779598236\n",
            "Total training time: 0:00:24.839258\n",
            "----------\n",
            "Camadas: 6\n",
            "----------Learning rate: 0.05 ; Batch size: 120\n",
            "Weight Decay: 1e-06 ; Probabilidades de desligamento:0.16\n",
            "----------\n",
            "\n"
          ]
        },
        {
          "output_type": "stream",
          "name": "stderr",
          "text": [
            "  4%|▍         | 77/2000 [00:36<15:02,  2.13it/s]\n"
          ]
        },
        {
          "output_type": "stream",
          "name": "stdout",
          "text": [
            "Training interrupted by early stopping!\n",
            "Total epochs run: 78\n",
            "Best model found at epoch 2 with valid loss 9.02357965707779 and training loss 40.947103679180145\n",
            "Total training time: 0:00:36.145703\n",
            "----------\n",
            "Camadas: 7\n",
            "----------Learning rate: 0.05 ; Batch size: 120\n",
            "Weight Decay: 1e-06 ; Probabilidades de desligamento:0.16\n",
            "----------\n",
            "\n"
          ]
        },
        {
          "output_type": "stream",
          "name": "stderr",
          "text": [
            "  4%|▍         | 76/2000 [00:39<16:28,  1.95it/s]\n"
          ]
        },
        {
          "output_type": "stream",
          "name": "stdout",
          "text": [
            "Training interrupted by early stopping!\n",
            "Total epochs run: 77\n",
            "Best model found at epoch 1 with valid loss 9.023645162582397 and training loss 40.97573524713516\n",
            "Total training time: 0:00:39.048124\n",
            "----------Tentativas sem melhora: 3, Desligando...\n",
            "\n",
            "\n",
            "\n",
            "--------------------\n",
            "Total training time: 0:30:34.326879\n",
            "----------\n",
            "Camadas: 5\n",
            "----------Learning rate: 0.09 ; Batch size: 100\n",
            "Weight Decay: 1e-07 ; Probabilidades de desligamento:0.31\n",
            "----------\n",
            "\n"
          ]
        },
        {
          "output_type": "stream",
          "name": "stderr",
          "text": [
            "  4%|▍         | 76/2000 [00:20<08:29,  3.78it/s]\n"
          ]
        },
        {
          "output_type": "stream",
          "name": "stdout",
          "text": [
            "Training interrupted by early stopping!\n",
            "Total epochs run: 77\n",
            "Best model found at epoch 1 with valid loss 12.15892630815506 and training loss 55.1914399266243\n",
            "Total training time: 0:00:20.128981\n",
            "----------\n",
            "Camadas: 6\n",
            "----------Learning rate: 0.09 ; Batch size: 100\n",
            "Weight Decay: 1e-07 ; Probabilidades de desligamento:0.31\n",
            "----------\n",
            "\n"
          ]
        },
        {
          "output_type": "stream",
          "name": "stderr",
          "text": [
            "  4%|▍         | 78/2000 [00:24<10:10,  3.15it/s]\n"
          ]
        },
        {
          "output_type": "stream",
          "name": "stdout",
          "text": [
            "Training interrupted by early stopping!\n",
            "Total epochs run: 79\n",
            "Best model found at epoch 3 with valid loss 10.407991170883179 and training loss 50.575010776519775\n",
            "Total training time: 0:00:24.789953\n",
            "----------\n",
            "Camadas: 7\n",
            "----------Learning rate: 0.09 ; Batch size: 100\n",
            "Weight Decay: 1e-07 ; Probabilidades de desligamento:0.31\n",
            "----------\n",
            "\n"
          ]
        },
        {
          "output_type": "stream",
          "name": "stderr",
          "text": [
            "  4%|▍         | 76/2000 [00:33<14:09,  2.26it/s]\n"
          ]
        },
        {
          "output_type": "stream",
          "name": "stdout",
          "text": [
            "Training interrupted by early stopping!\n",
            "Total epochs run: 77\n",
            "Best model found at epoch 1 with valid loss 10.443284630775452 and training loss 48.72578585147858\n",
            "Total training time: 0:00:33.579908\n",
            "----------Tentativas sem melhora: 3, Desligando...\n",
            "\n",
            "\n",
            "\n",
            "--------------------\n",
            "Total training time: 0:31:54.300657\n",
            "----------\n",
            "Camadas: 5\n",
            "----------Learning rate: 0.09 ; Batch size: 100\n",
            "Weight Decay: 1e-07 ; Probabilidades de desligamento:0.16\n",
            "----------\n",
            "\n"
          ]
        },
        {
          "output_type": "stream",
          "name": "stderr",
          "text": [
            "  4%|▍         | 87/2000 [00:24<09:03,  3.52it/s]\n"
          ]
        },
        {
          "output_type": "stream",
          "name": "stdout",
          "text": [
            "Training interrupted by early stopping!\n",
            "Total epochs run: 88\n",
            "Best model found at epoch 12 with valid loss 10.318110167980194 and training loss 54.21365088224411\n",
            "Total training time: 0:00:24.712971\n",
            "----------\n",
            "Camadas: 6\n",
            "----------Learning rate: 0.09 ; Batch size: 100\n",
            "Weight Decay: 1e-07 ; Probabilidades de desligamento:0.16\n",
            "----------\n",
            "\n"
          ]
        },
        {
          "output_type": "stream",
          "name": "stderr",
          "text": [
            "  4%|▍         | 76/2000 [00:25<10:51,  2.95it/s]\n"
          ]
        },
        {
          "output_type": "stream",
          "name": "stdout",
          "text": [
            "Training interrupted by early stopping!\n",
            "Total epochs run: 77\n",
            "Best model found at epoch 1 with valid loss 10.430556416511536 and training loss 48.80126875638962\n",
            "Total training time: 0:00:25.761726\n",
            "----------\n",
            "Camadas: 7\n",
            "----------Learning rate: 0.09 ; Batch size: 100\n",
            "Weight Decay: 1e-07 ; Probabilidades de desligamento:0.16\n",
            "----------\n",
            "\n"
          ]
        },
        {
          "output_type": "stream",
          "name": "stderr",
          "text": [
            "  4%|▍         | 78/2000 [00:35<14:38,  2.19it/s]\n"
          ]
        },
        {
          "output_type": "stream",
          "name": "stdout",
          "text": [
            "Training interrupted by early stopping!\n",
            "Total epochs run: 79\n",
            "Best model found at epoch 3 with valid loss 10.446047127246857 and training loss 48.6348050236702\n",
            "Total training time: 0:00:35.670650\n",
            "----------Tentativas sem melhora: 3, Desligando...\n",
            "\n",
            "\n",
            "\n",
            "--------------------\n",
            "Total training time: 0:33:21.932268\n",
            "----------\n",
            "Camadas: 5\n",
            "----------Learning rate: 0.09 ; Batch size: 100\n",
            "Weight Decay: 1e-06 ; Probabilidades de desligamento:0.31\n",
            "----------\n",
            "\n"
          ]
        },
        {
          "output_type": "stream",
          "name": "stderr",
          "text": [
            "  4%|▍         | 76/2000 [00:35<15:07,  2.12it/s]\n"
          ]
        },
        {
          "output_type": "stream",
          "name": "stdout",
          "text": [
            "Training interrupted by early stopping!\n",
            "Total epochs run: 77\n",
            "Best model found at epoch 1 with valid loss 12.15892630815506 and training loss 56.06188768148422\n",
            "Total training time: 0:00:35.866494\n",
            "----------\n",
            "Camadas: 6\n",
            "----------Learning rate: 0.09 ; Batch size: 100\n",
            "Weight Decay: 1e-06 ; Probabilidades de desligamento:0.31\n",
            "----------\n",
            "\n"
          ]
        },
        {
          "output_type": "stream",
          "name": "stderr",
          "text": [
            "  4%|▍         | 77/2000 [00:38<15:56,  2.01it/s]\n"
          ]
        },
        {
          "output_type": "stream",
          "name": "stdout",
          "text": [
            "Training interrupted by early stopping!\n",
            "Total epochs run: 78\n",
            "Best model found at epoch 2 with valid loss 10.443659961223602 and training loss 48.95812314748764\n",
            "Total training time: 0:00:38.311122\n",
            "----------\n",
            "Camadas: 7\n",
            "----------Learning rate: 0.09 ; Batch size: 100\n",
            "Weight Decay: 1e-06 ; Probabilidades de desligamento:0.31\n",
            "----------\n",
            "\n"
          ]
        },
        {
          "output_type": "stream",
          "name": "stderr",
          "text": [
            "  4%|▍         | 76/2000 [00:27<11:40,  2.75it/s]\n"
          ]
        },
        {
          "output_type": "stream",
          "name": "stdout",
          "text": [
            "Training interrupted by early stopping!\n",
            "Total epochs run: 77\n",
            "Best model found at epoch 1 with valid loss 10.445252418518066 and training loss 48.68594413995743\n",
            "Total training time: 0:00:27.695340\n",
            "----------Tentativas sem melhora: 3, Desligando...\n",
            "\n",
            "\n",
            "\n",
            "--------------------\n",
            "Total training time: 0:35:05.384358\n",
            "----------\n",
            "Camadas: 5\n",
            "----------Learning rate: 0.09 ; Batch size: 100\n",
            "Weight Decay: 1e-06 ; Probabilidades de desligamento:0.16\n",
            "----------\n",
            "\n"
          ]
        },
        {
          "output_type": "stream",
          "name": "stderr",
          "text": [
            "  4%|▍         | 76/2000 [00:38<16:03,  2.00it/s]\n"
          ]
        },
        {
          "output_type": "stream",
          "name": "stdout",
          "text": [
            "Training interrupted by early stopping!\n",
            "Total epochs run: 77\n",
            "Best model found at epoch 1 with valid loss 10.427133858203888 and training loss 49.227780520915985\n",
            "Total training time: 0:00:38.058585\n",
            "----------\n",
            "Camadas: 6\n",
            "----------Learning rate: 0.09 ; Batch size: 100\n",
            "Weight Decay: 1e-06 ; Probabilidades de desligamento:0.16\n",
            "----------\n",
            "\n"
          ]
        },
        {
          "output_type": "stream",
          "name": "stderr",
          "text": [
            "  4%|▍         | 76/2000 [00:40<17:12,  1.86it/s]\n"
          ]
        },
        {
          "output_type": "stream",
          "name": "stdout",
          "text": [
            "Training interrupted by early stopping!\n",
            "Total epochs run: 77\n",
            "Best model found at epoch 1 with valid loss 10.440358638763428 and training loss 48.861367642879486\n",
            "Total training time: 0:00:40.805998\n",
            "----------\n",
            "Camadas: 7\n",
            "----------Learning rate: 0.09 ; Batch size: 100\n",
            "Weight Decay: 1e-06 ; Probabilidades de desligamento:0.16\n",
            "----------\n",
            "\n"
          ]
        },
        {
          "output_type": "stream",
          "name": "stderr",
          "text": [
            "  4%|▍         | 77/2000 [00:42<17:34,  1.82it/s]\n"
          ]
        },
        {
          "output_type": "stream",
          "name": "stdout",
          "text": [
            "Training interrupted by early stopping!\n",
            "Total epochs run: 78\n",
            "Best model found at epoch 2 with valid loss 10.445997834205627 and training loss 48.63440477848053\n",
            "Total training time: 0:00:42.236963\n",
            "----------Tentativas sem melhora: 3, Desligando...\n",
            "\n",
            "\n",
            "\n",
            "--------------------\n",
            "Total training time: 0:37:07.948174\n",
            "----------\n",
            "Camadas: 5\n",
            "----------Learning rate: 0.09 ; Batch size: 120\n",
            "Weight Decay: 1e-07 ; Probabilidades de desligamento:0.31\n",
            "----------\n",
            "\n"
          ]
        },
        {
          "output_type": "stream",
          "name": "stderr",
          "text": [
            "  7%|▋         | 142/2000 [00:38<08:19,  3.72it/s]\n"
          ]
        },
        {
          "output_type": "stream",
          "name": "stdout",
          "text": [
            "Training interrupted by early stopping!\n",
            "Total epochs run: 143\n",
            "Best model found at epoch 67 with valid loss 10.530735969543457 and training loss 47.91091686487198\n",
            "Total training time: 0:00:38.229462\n",
            "----------\n",
            "Camadas: 6\n",
            "----------Learning rate: 0.09 ; Batch size: 120\n",
            "Weight Decay: 1e-07 ; Probabilidades de desligamento:0.31\n",
            "----------\n",
            "\n"
          ]
        },
        {
          "output_type": "stream",
          "name": "stderr",
          "text": [
            "  7%|▋         | 136/2000 [00:42<09:45,  3.19it/s]\n"
          ]
        },
        {
          "output_type": "stream",
          "name": "stdout",
          "text": [
            "Training interrupted by early stopping!\n",
            "Total epochs run: 137\n",
            "Best model found at epoch 61 with valid loss 8.998947143554688 and training loss 43.726233541965485\n",
            "Total training time: 0:00:42.710416\n",
            "----------\n",
            "Camadas: 7\n",
            "----------Learning rate: 0.09 ; Batch size: 120\n",
            "Weight Decay: 1e-07 ; Probabilidades de desligamento:0.31\n",
            "----------\n",
            "\n"
          ]
        },
        {
          "output_type": "stream",
          "name": "stderr",
          "text": [
            "  4%|▍         | 76/2000 [00:25<10:36,  3.02it/s]\n"
          ]
        },
        {
          "output_type": "stream",
          "name": "stdout",
          "text": [
            "Training interrupted by early stopping!\n",
            "Total epochs run: 77\n",
            "Best model found at epoch 1 with valid loss 9.033526003360748 and training loss 41.09092706441879\n",
            "Total training time: 0:00:25.147157\n",
            "----------Tentativas sem melhora: 3, Desligando...\n",
            "\n",
            "\n",
            "\n",
            "--------------------\n",
            "Total training time: 0:38:55.581051\n",
            "----------\n",
            "Camadas: 5\n",
            "----------Learning rate: 0.09 ; Batch size: 120\n",
            "Weight Decay: 1e-07 ; Probabilidades de desligamento:0.16\n",
            "----------\n",
            "\n"
          ]
        },
        {
          "output_type": "stream",
          "name": "stderr",
          "text": [
            "  4%|▍         | 81/2000 [00:18<07:11,  4.45it/s]\n"
          ]
        },
        {
          "output_type": "stream",
          "name": "stdout",
          "text": [
            "Training interrupted by early stopping!\n",
            "Total epochs run: 82\n",
            "Best model found at epoch 6 with valid loss 8.997195482254028 and training loss 42.49009943008423\n",
            "Total training time: 0:00:18.235917\n",
            "----------\n",
            "Camadas: 6\n",
            "----------Learning rate: 0.09 ; Batch size: 120\n",
            "Weight Decay: 1e-07 ; Probabilidades de desligamento:0.16\n",
            "----------\n",
            "\n"
          ]
        },
        {
          "output_type": "stream",
          "name": "stderr",
          "text": [
            "  4%|▍         | 77/2000 [00:22<09:22,  3.42it/s]\n"
          ]
        },
        {
          "output_type": "stream",
          "name": "stdout",
          "text": [
            "Training interrupted by early stopping!\n",
            "Total epochs run: 78\n",
            "Best model found at epoch 2 with valid loss 9.037664890289307 and training loss 40.96880179643631\n",
            "Total training time: 0:00:22.552611\n",
            "----------\n",
            "Camadas: 7\n",
            "----------Learning rate: 0.09 ; Batch size: 120\n",
            "Weight Decay: 1e-07 ; Probabilidades de desligamento:0.16\n",
            "----------\n",
            "\n"
          ]
        },
        {
          "output_type": "stream",
          "name": "stderr",
          "text": [
            "  4%|▍         | 76/2000 [00:23<09:42,  3.30it/s]\n"
          ]
        },
        {
          "output_type": "stream",
          "name": "stdout",
          "text": [
            "Training interrupted by early stopping!\n",
            "Total epochs run: 77\n",
            "Best model found at epoch 1 with valid loss 9.031316101551056 and training loss 41.01385712623596\n",
            "Total training time: 0:00:23.022353\n",
            "----------Tentativas sem melhora: 3, Desligando...\n",
            "\n",
            "\n",
            "\n",
            "--------------------\n",
            "Total training time: 0:40:00.882334\n",
            "----------\n",
            "Camadas: 5\n",
            "----------Learning rate: 0.09 ; Batch size: 120\n",
            "Weight Decay: 1e-06 ; Probabilidades de desligamento:0.31\n",
            "----------\n",
            "\n"
          ]
        },
        {
          "output_type": "stream",
          "name": "stderr",
          "text": [
            "  4%|▍         | 77/2000 [00:27<11:35,  2.77it/s]\n"
          ]
        },
        {
          "output_type": "stream",
          "name": "stdout",
          "text": [
            "Training interrupted by early stopping!\n",
            "Total epochs run: 78\n",
            "Best model found at epoch 2 with valid loss 9.033469676971436 and training loss 41.08575910329819\n",
            "Total training time: 0:00:27.853325\n",
            "----------\n",
            "Camadas: 6\n",
            "----------Learning rate: 0.09 ; Batch size: 120\n",
            "Weight Decay: 1e-06 ; Probabilidades de desligamento:0.31\n",
            "----------\n",
            "\n"
          ]
        },
        {
          "output_type": "stream",
          "name": "stderr",
          "text": [
            "  4%|▍         | 76/2000 [00:36<15:23,  2.08it/s]\n"
          ]
        },
        {
          "output_type": "stream",
          "name": "stdout",
          "text": [
            "Training interrupted by early stopping!\n",
            "Total epochs run: 77\n",
            "Best model found at epoch 1 with valid loss 9.034808933734894 and training loss 41.10202991962433\n",
            "Total training time: 0:00:36.481363\n",
            "----------\n",
            "Camadas: 7\n",
            "----------Learning rate: 0.09 ; Batch size: 120\n",
            "Weight Decay: 1e-06 ; Probabilidades de desligamento:0.31\n",
            "----------\n",
            "\n"
          ]
        },
        {
          "output_type": "stream",
          "name": "stderr",
          "text": [
            "  4%|▍         | 77/2000 [00:39<16:29,  1.94it/s]\n"
          ]
        },
        {
          "output_type": "stream",
          "name": "stdout",
          "text": [
            "Training interrupted by early stopping!\n",
            "Total epochs run: 78\n",
            "Best model found at epoch 2 with valid loss 9.038090169429779 and training loss 40.97060817480087\n",
            "Total training time: 0:00:39.626527\n",
            "----------Tentativas sem melhora: 3, Desligando...\n",
            "\n",
            "\n",
            "\n",
            "--------------------\n",
            "Total training time: 0:41:46.312873\n",
            "----------\n",
            "Camadas: 5\n",
            "----------Learning rate: 0.09 ; Batch size: 120\n",
            "Weight Decay: 1e-06 ; Probabilidades de desligamento:0.16\n",
            "----------\n",
            "\n"
          ]
        },
        {
          "output_type": "stream",
          "name": "stderr",
          "text": [
            "  4%|▍         | 77/2000 [00:29<12:17,  2.61it/s]\n"
          ]
        },
        {
          "output_type": "stream",
          "name": "stdout",
          "text": [
            "Training interrupted by early stopping!\n",
            "Total epochs run: 78\n",
            "Best model found at epoch 2 with valid loss 9.063558638095856 and training loss 42.22910040616989\n",
            "Total training time: 0:00:29.538783\n",
            "----------\n",
            "Camadas: 6\n",
            "----------Learning rate: 0.09 ; Batch size: 120\n",
            "Weight Decay: 1e-06 ; Probabilidades de desligamento:0.16\n",
            "----------\n",
            "\n"
          ]
        },
        {
          "output_type": "stream",
          "name": "stderr",
          "text": [
            "  4%|▍         | 76/2000 [00:37<15:51,  2.02it/s]\n"
          ]
        },
        {
          "output_type": "stream",
          "name": "stdout",
          "text": [
            "Training interrupted by early stopping!\n",
            "Total epochs run: 77\n",
            "Best model found at epoch 1 with valid loss 9.03445702791214 and training loss 41.020905911922455\n",
            "Total training time: 0:00:37.589725\n",
            "----------\n",
            "Camadas: 7\n",
            "----------Learning rate: 0.09 ; Batch size: 120\n",
            "Weight Decay: 1e-06 ; Probabilidades de desligamento:0.16\n",
            "----------\n",
            "\n"
          ]
        },
        {
          "output_type": "stream",
          "name": "stderr",
          "text": [
            "  4%|▍         | 76/2000 [00:40<17:12,  1.86it/s]\n"
          ]
        },
        {
          "output_type": "stream",
          "name": "stdout",
          "text": [
            "Training interrupted by early stopping!\n",
            "Total epochs run: 77\n",
            "Best model found at epoch 1 with valid loss 9.033611476421356 and training loss 41.20615416765213\n",
            "Total training time: 0:00:40.788037\n",
            "----------Tentativas sem melhora: 3, Desligando...\n",
            "\n",
            "\n",
            "\n",
            "--------------------\n",
            "Total training time: 0:43:35.731880\n",
            "----------\n",
            "Camadas: 5\n",
            "----------Learning rate: 0.05 ; Batch size: 100\n",
            "Weight Decay: 1e-07 ; Probabilidades de desligamento:0.31\n",
            "----------\n",
            "\n"
          ]
        },
        {
          "output_type": "stream",
          "name": "stderr",
          "text": [
            "  4%|▍         | 79/2000 [00:17<07:17,  4.39it/s]\n"
          ]
        },
        {
          "output_type": "stream",
          "name": "stdout",
          "text": [
            "Training interrupted by early stopping!\n",
            "Total epochs run: 80\n",
            "Best model found at epoch 4 with valid loss 10.404251992702484 and training loss 48.978700399398804\n",
            "Total training time: 0:00:17.996492\n",
            "----------\n",
            "Camadas: 6\n",
            "----------Learning rate: 0.05 ; Batch size: 100\n",
            "Weight Decay: 1e-07 ; Probabilidades de desligamento:0.31\n",
            "----------\n",
            "\n"
          ]
        },
        {
          "output_type": "stream",
          "name": "stderr",
          "text": [
            "  4%|▍         | 76/2000 [00:20<08:34,  3.74it/s]\n"
          ]
        },
        {
          "output_type": "stream",
          "name": "stdout",
          "text": [
            "Training interrupted by early stopping!\n",
            "Total epochs run: 77\n",
            "Best model found at epoch 1 with valid loss 10.405531525611877 and training loss 48.75933635234833\n",
            "Total training time: 0:00:20.330656\n",
            "----------\n",
            "Camadas: 7\n",
            "----------Learning rate: 0.05 ; Batch size: 100\n",
            "Weight Decay: 1e-07 ; Probabilidades de desligamento:0.31\n",
            "----------\n",
            "\n"
          ]
        },
        {
          "output_type": "stream",
          "name": "stderr",
          "text": [
            "  4%|▍         | 76/2000 [00:26<11:12,  2.86it/s]\n"
          ]
        },
        {
          "output_type": "stream",
          "name": "stdout",
          "text": [
            "Training interrupted by early stopping!\n",
            "Total epochs run: 77\n",
            "Best model found at epoch 1 with valid loss 10.411979734897614 and training loss 48.73750048875809\n",
            "Total training time: 0:00:26.595629\n",
            "----------Tentativas sem melhora: 3, Desligando...\n",
            "\n",
            "\n",
            "\n",
            "--------------------\n",
            "Total training time: 0:44:42.183760\n",
            "----------\n",
            "Camadas: 5\n",
            "----------Learning rate: 0.05 ; Batch size: 100\n",
            "Weight Decay: 1e-07 ; Probabilidades de desligamento:0.16\n",
            "----------\n",
            "\n"
          ]
        },
        {
          "output_type": "stream",
          "name": "stderr",
          "text": [
            "  6%|▌         | 110/2000 [00:29<08:34,  3.67it/s]\n"
          ]
        },
        {
          "output_type": "stream",
          "name": "stdout",
          "text": [
            "Training interrupted by early stopping!\n",
            "Total epochs run: 111\n",
            "Best model found at epoch 35 with valid loss 10.24625027179718 and training loss 50.68030786514282\n",
            "Total training time: 0:00:29.978827\n",
            "----------\n",
            "Camadas: 6\n",
            "----------Learning rate: 0.05 ; Batch size: 100\n",
            "Weight Decay: 1e-07 ; Probabilidades de desligamento:0.16\n",
            "----------\n",
            "\n"
          ]
        },
        {
          "output_type": "stream",
          "name": "stderr",
          "text": [
            "  4%|▍         | 76/2000 [00:23<09:45,  3.29it/s]\n"
          ]
        },
        {
          "output_type": "stream",
          "name": "stdout",
          "text": [
            "Training interrupted by early stopping!\n",
            "Total epochs run: 77\n",
            "Best model found at epoch 1 with valid loss 10.130443274974823 and training loss 48.04130917787552\n",
            "Total training time: 0:00:23.130833\n",
            "----------\n",
            "Camadas: 7\n",
            "----------Learning rate: 0.05 ; Batch size: 100\n",
            "Weight Decay: 1e-07 ; Probabilidades de desligamento:0.16\n",
            "----------\n",
            "\n"
          ]
        },
        {
          "output_type": "stream",
          "name": "stderr",
          "text": [
            "  4%|▍         | 76/2000 [00:39<16:41,  1.92it/s]\n"
          ]
        },
        {
          "output_type": "stream",
          "name": "stdout",
          "text": [
            "Training interrupted by early stopping!\n",
            "Total epochs run: 77\n",
            "Best model found at epoch 1 with valid loss 10.411387145519257 and training loss 48.670760571956635\n",
            "Total training time: 0:00:39.559440\n",
            "----------Tentativas sem melhora: 3, Desligando...\n",
            "\n",
            "\n",
            "\n",
            "--------------------\n",
            "Total training time: 0:46:16.360783\n",
            "----------\n",
            "Camadas: 5\n",
            "----------Learning rate: 0.05 ; Batch size: 100\n",
            "Weight Decay: 1e-06 ; Probabilidades de desligamento:0.31\n",
            "----------\n",
            "\n"
          ]
        },
        {
          "output_type": "stream",
          "name": "stderr",
          "text": [
            "  4%|▍         | 76/2000 [00:28<12:04,  2.65it/s]\n"
          ]
        },
        {
          "output_type": "stream",
          "name": "stdout",
          "text": [
            "Training interrupted by early stopping!\n",
            "Total epochs run: 77\n",
            "Best model found at epoch 1 with valid loss 10.035229742527008 and training loss 49.09030544757843\n",
            "Total training time: 0:00:28.649373\n",
            "----------\n",
            "Camadas: 6\n",
            "----------Learning rate: 0.05 ; Batch size: 100\n",
            "Weight Decay: 1e-06 ; Probabilidades de desligamento:0.31\n",
            "----------\n",
            "\n"
          ]
        },
        {
          "output_type": "stream",
          "name": "stderr",
          "text": [
            "  4%|▍         | 76/2000 [00:36<15:18,  2.09it/s]\n"
          ]
        },
        {
          "output_type": "stream",
          "name": "stdout",
          "text": [
            "Training interrupted by early stopping!\n",
            "Total epochs run: 77\n",
            "Best model found at epoch 1 with valid loss 10.41208279132843 and training loss 48.684306621551514\n",
            "Total training time: 0:00:36.311512\n",
            "----------\n",
            "Camadas: 7\n",
            "----------Learning rate: 0.05 ; Batch size: 100\n",
            "Weight Decay: 1e-06 ; Probabilidades de desligamento:0.31\n",
            "----------\n",
            "\n"
          ]
        },
        {
          "output_type": "stream",
          "name": "stderr",
          "text": [
            "  4%|▍         | 76/2000 [00:40<17:11,  1.86it/s]\n"
          ]
        },
        {
          "output_type": "stream",
          "name": "stdout",
          "text": [
            "Training interrupted by early stopping!\n",
            "Total epochs run: 77\n",
            "Best model found at epoch 1 with valid loss 10.411378026008606 and training loss 48.68413329124451\n",
            "Total training time: 0:00:40.765470\n",
            "----------Tentativas sem melhora: 3, Desligando...\n",
            "\n",
            "\n",
            "\n",
            "--------------------\n",
            "Total training time: 0:48:03.570132\n",
            "----------\n",
            "Camadas: 5\n",
            "----------Learning rate: 0.05 ; Batch size: 100\n",
            "Weight Decay: 1e-06 ; Probabilidades de desligamento:0.16\n",
            "----------\n",
            "\n"
          ]
        },
        {
          "output_type": "stream",
          "name": "stderr",
          "text": [
            "  4%|▍         | 90/2000 [00:41<14:40,  2.17it/s]\n"
          ]
        },
        {
          "output_type": "stream",
          "name": "stdout",
          "text": [
            "Training interrupted by early stopping!\n",
            "Total epochs run: 91\n",
            "Best model found at epoch 15 with valid loss 10.407499849796295 and training loss 48.8078231215477\n",
            "Total training time: 0:00:41.521605\n",
            "----------\n",
            "Camadas: 6\n",
            "----------Learning rate: 0.05 ; Batch size: 100\n",
            "Weight Decay: 1e-06 ; Probabilidades de desligamento:0.16\n",
            "----------\n",
            "\n"
          ]
        },
        {
          "output_type": "stream",
          "name": "stderr",
          "text": [
            "  4%|▍         | 78/2000 [00:37<15:31,  2.06it/s]\n"
          ]
        },
        {
          "output_type": "stream",
          "name": "stdout",
          "text": [
            "Training interrupted by early stopping!\n",
            "Total epochs run: 79\n",
            "Best model found at epoch 3 with valid loss 10.402855157852173 and training loss 49.744780123233795\n",
            "Total training time: 0:00:37.813765\n",
            "----------\n",
            "Camadas: 7\n",
            "----------Learning rate: 0.05 ; Batch size: 100\n",
            "Weight Decay: 1e-06 ; Probabilidades de desligamento:0.16\n",
            "----------\n",
            "\n"
          ]
        },
        {
          "output_type": "stream",
          "name": "stderr",
          "text": [
            "  4%|▍         | 76/2000 [00:42<18:02,  1.78it/s]\n"
          ]
        },
        {
          "output_type": "stream",
          "name": "stdout",
          "text": [
            "Training interrupted by early stopping!\n",
            "Total epochs run: 77\n",
            "Best model found at epoch 1 with valid loss 10.413434565067291 and training loss 48.6366006731987\n",
            "Total training time: 0:00:42.765235\n",
            "----------Tentativas sem melhora: 3, Desligando...\n",
            "\n",
            "\n",
            "\n",
            "--------------------\n",
            "Total training time: 0:50:07.172921\n",
            "----------\n",
            "Camadas: 5\n",
            "----------Learning rate: 0.05 ; Batch size: 120\n",
            "Weight Decay: 1e-07 ; Probabilidades de desligamento:0.31\n",
            "----------\n",
            "\n"
          ]
        },
        {
          "output_type": "stream",
          "name": "stderr",
          "text": [
            "  4%|▍         | 80/2000 [00:15<06:14,  5.13it/s]\n"
          ]
        },
        {
          "output_type": "stream",
          "name": "stdout",
          "text": [
            "Training interrupted by early stopping!\n",
            "Total epochs run: 81\n",
            "Best model found at epoch 5 with valid loss 9.017970323562622 and training loss 41.0744634270668\n",
            "Total training time: 0:00:15.604915\n",
            "----------\n",
            "Camadas: 6\n",
            "----------Learning rate: 0.05 ; Batch size: 120\n",
            "Weight Decay: 1e-07 ; Probabilidades de desligamento:0.31\n",
            "----------\n",
            "\n"
          ]
        },
        {
          "output_type": "stream",
          "name": "stderr",
          "text": [
            "  4%|▍         | 87/2000 [00:20<07:31,  4.24it/s]\n"
          ]
        },
        {
          "output_type": "stream",
          "name": "stdout",
          "text": [
            "Training interrupted by early stopping!\n",
            "Total epochs run: 88\n",
            "Best model found at epoch 12 with valid loss 9.011157989501953 and training loss 43.545950055122375\n",
            "Total training time: 0:00:20.540278\n",
            "----------\n",
            "Camadas: 7\n",
            "----------Learning rate: 0.05 ; Batch size: 120\n",
            "Weight Decay: 1e-07 ; Probabilidades de desligamento:0.31\n",
            "----------\n",
            "\n"
          ]
        },
        {
          "output_type": "stream",
          "name": "stderr",
          "text": [
            "  4%|▍         | 76/2000 [00:20<08:36,  3.73it/s]\n"
          ]
        },
        {
          "output_type": "stream",
          "name": "stdout",
          "text": [
            "Training interrupted by early stopping!\n",
            "Total epochs run: 77\n",
            "Best model found at epoch 1 with valid loss 9.019653916358948 and training loss 41.15349501371384\n",
            "Total training time: 0:00:20.406118\n",
            "----------Tentativas sem melhora: 3, Desligando...\n",
            "\n",
            "\n",
            "\n",
            "--------------------\n",
            "Total training time: 0:51:05.221587\n",
            "----------\n",
            "Camadas: 5\n",
            "----------Learning rate: 0.05 ; Batch size: 120\n",
            "Weight Decay: 1e-07 ; Probabilidades de desligamento:0.16\n",
            "----------\n",
            "\n"
          ]
        },
        {
          "output_type": "stream",
          "name": "stderr",
          "text": [
            "  4%|▍         | 76/2000 [00:15<06:36,  4.86it/s]\n"
          ]
        },
        {
          "output_type": "stream",
          "name": "stdout",
          "text": [
            "Training interrupted by early stopping!\n",
            "Total epochs run: 77\n",
            "Best model found at epoch 1 with valid loss 8.999191284179688 and training loss 40.99905300140381\n",
            "Total training time: 0:00:15.656410\n",
            "----------\n",
            "Camadas: 6\n",
            "----------Learning rate: 0.05 ; Batch size: 120\n",
            "Weight Decay: 1e-07 ; Probabilidades de desligamento:0.16\n",
            "----------\n",
            "\n"
          ]
        },
        {
          "output_type": "stream",
          "name": "stderr",
          "text": [
            "  4%|▍         | 76/2000 [00:20<08:34,  3.74it/s]\n"
          ]
        },
        {
          "output_type": "stream",
          "name": "stdout",
          "text": [
            "Training interrupted by early stopping!\n",
            "Total epochs run: 77\n",
            "Best model found at epoch 1 with valid loss 8.65380048751831 and training loss 40.434566020965576\n",
            "Total training time: 0:00:20.328291\n",
            "----------\n",
            "Camadas: 7\n",
            "----------Learning rate: 0.05 ; Batch size: 120\n",
            "Weight Decay: 1e-07 ; Probabilidades de desligamento:0.16\n",
            "----------\n",
            "\n"
          ]
        },
        {
          "output_type": "stream",
          "name": "stderr",
          "text": [
            "  4%|▍         | 76/2000 [00:22<09:19,  3.44it/s]\n"
          ]
        },
        {
          "output_type": "stream",
          "name": "stdout",
          "text": [
            "Training interrupted by early stopping!\n",
            "Total epochs run: 77\n",
            "Best model found at epoch 1 with valid loss 8.482564687728882 and training loss 40.122788071632385\n",
            "Total training time: 0:00:22.131482\n",
            "----------Tentativas sem melhora: 3, Desligando...\n",
            "\n",
            "\n",
            "\n",
            "--------------------\n",
            "Total training time: 0:52:04.847667\n",
            "----------\n",
            "Camadas: 5\n",
            "----------Learning rate: 0.05 ; Batch size: 120\n",
            "Weight Decay: 1e-06 ; Probabilidades de desligamento:0.31\n",
            "----------\n",
            "\n"
          ]
        },
        {
          "output_type": "stream",
          "name": "stderr",
          "text": [
            "  4%|▍         | 76/2000 [00:24<10:21,  3.09it/s]\n"
          ]
        },
        {
          "output_type": "stream",
          "name": "stdout",
          "text": [
            "Training interrupted by early stopping!\n",
            "Total epochs run: 77\n",
            "Best model found at epoch 1 with valid loss 9.012780785560608 and training loss 41.24897891283035\n",
            "Total training time: 0:00:24.568993\n",
            "----------\n",
            "Camadas: 6\n",
            "----------Learning rate: 0.05 ; Batch size: 120\n",
            "Weight Decay: 1e-06 ; Probabilidades de desligamento:0.31\n",
            "----------\n",
            "\n"
          ]
        },
        {
          "output_type": "stream",
          "name": "stderr",
          "text": [
            "  5%|▍         | 93/2000 [00:44<15:16,  2.08it/s]\n"
          ]
        },
        {
          "output_type": "stream",
          "name": "stdout",
          "text": [
            "Training interrupted by early stopping!\n",
            "Total epochs run: 94\n",
            "Best model found at epoch 18 with valid loss 9.010656952857971 and training loss 44.93016338348389\n",
            "Total training time: 0:00:44.700382\n",
            "----------\n",
            "Camadas: 7\n",
            "----------Learning rate: 0.05 ; Batch size: 120\n",
            "Weight Decay: 1e-06 ; Probabilidades de desligamento:0.31\n",
            "----------\n",
            "\n"
          ]
        },
        {
          "output_type": "stream",
          "name": "stderr",
          "text": [
            "  4%|▍         | 77/2000 [00:23<09:55,  3.23it/s]\n"
          ]
        },
        {
          "output_type": "stream",
          "name": "stdout",
          "text": [
            "Training interrupted by early stopping!\n",
            "Total epochs run: 78\n",
            "Best model found at epoch 2 with valid loss 9.023381054401398 and training loss 40.931948363780975\n",
            "Total training time: 0:00:23.872377\n",
            "----------Tentativas sem melhora: 3, Desligando...\n",
            "\n",
            "\n",
            "\n",
            "--------------------\n",
            "Total training time: 0:53:39.459208\n",
            "----------\n",
            "Camadas: 5\n",
            "----------Learning rate: 0.05 ; Batch size: 120\n",
            "Weight Decay: 1e-06 ; Probabilidades de desligamento:0.16\n",
            "----------\n",
            "\n"
          ]
        },
        {
          "output_type": "stream",
          "name": "stderr",
          "text": [
            "  4%|▍         | 76/2000 [00:26<11:13,  2.86it/s]\n"
          ]
        },
        {
          "output_type": "stream",
          "name": "stdout",
          "text": [
            "Training interrupted by early stopping!\n",
            "Total epochs run: 77\n",
            "Best model found at epoch 1 with valid loss 7.862796723842621 and training loss 38.9080713391304\n",
            "Total training time: 0:00:26.604740\n",
            "----------\n",
            "Camadas: 6\n",
            "----------Learning rate: 0.05 ; Batch size: 120\n",
            "Weight Decay: 1e-06 ; Probabilidades de desligamento:0.16\n",
            "----------\n",
            "\n"
          ]
        },
        {
          "output_type": "stream",
          "name": "stderr",
          "text": [
            "  4%|▍         | 76/2000 [00:40<17:14,  1.86it/s]\n"
          ]
        },
        {
          "output_type": "stream",
          "name": "stdout",
          "text": [
            "Training interrupted by early stopping!\n",
            "Total epochs run: 77\n",
            "Best model found at epoch 1 with valid loss 9.022698640823364 and training loss 40.98201656341553\n",
            "Total training time: 0:00:40.883937\n",
            "----------\n",
            "Camadas: 7\n",
            "----------Learning rate: 0.05 ; Batch size: 120\n",
            "Weight Decay: 1e-06 ; Probabilidades de desligamento:0.16\n",
            "----------\n",
            "\n"
          ]
        },
        {
          "output_type": "stream",
          "name": "stderr",
          "text": [
            "  4%|▍         | 76/2000 [00:40<17:06,  1.87it/s]\n"
          ]
        },
        {
          "output_type": "stream",
          "name": "stdout",
          "text": [
            "Training interrupted by early stopping!\n",
            "Total epochs run: 77\n",
            "Best model found at epoch 1 with valid loss 8.86769163608551 and training loss 40.66466635465622\n",
            "Total training time: 0:00:40.549253\n",
            "----------Tentativas sem melhora: 3, Desligando...\n",
            "\n",
            "\n",
            "\n",
            "--------------------\n",
            "Total training time: 0:55:29.008804\n",
            "8.78389972448349\n",
            "0.694\n",
            "GeradorRede(\n",
            "  (layers): ModuleList(\n",
            "    (0): Linear(in_features=3, out_features=160, bias=True)\n",
            "    (1): ReLU()\n",
            "    (2): Dropout(p=0.16, inplace=False)\n",
            "    (3): Linear(in_features=160, out_features=80, bias=True)\n",
            "    (4): ReLU()\n",
            "    (5): Dropout(p=0.16, inplace=False)\n",
            "    (6): Linear(in_features=80, out_features=40, bias=True)\n",
            "    (7): ReLU()\n",
            "    (8): Dropout(p=0.16, inplace=False)\n",
            "    (9): Linear(in_features=40, out_features=20, bias=True)\n",
            "    (10): ReLU()\n",
            "    (11): Dropout(p=0.16, inplace=False)\n",
            "    (12): Linear(in_features=20, out_features=10, bias=True)\n",
            "    (13): ReLU()\n",
            "    (14): Dropout(p=0.16, inplace=False)\n",
            "    (15): Linear(in_features=10, out_features=2, bias=True)\n",
            "    (16): Softmax(dim=-1)\n",
            "  )\n",
            ")\n"
          ]
        }
      ]
    }
  ]
}